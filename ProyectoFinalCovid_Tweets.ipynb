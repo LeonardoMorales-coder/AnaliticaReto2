{
 "cells": [
  {
   "cell_type": "code",
   "execution_count": null,
   "metadata": {},
   "outputs": [],
   "source": [
    "from os import path\n",
    "from PIL import Image\n",
    "import matplotlib.pyplot as plt\n",
    "import plotly.express as px\n",
    "import numpy as np\n",
    "import pandas as pd \n",
    "import seaborn as sns\n",
    "covidTweets = pd.read_csv(\"covid19_tweets1.csv\")"
   ]
  },
  {
   "cell_type": "code",
<<<<<<< Updated upstream
   "execution_count": null,
   "metadata": {},
   "outputs": [],
=======
   "execution_count": 16,
   "metadata": {},
   "outputs": [
    {
     "data": {
      "text/html": [
       "<div>\n",
       "<style scoped>\n",
       "    .dataframe tbody tr th:only-of-type {\n",
       "        vertical-align: middle;\n",
       "    }\n",
       "\n",
       "    .dataframe tbody tr th {\n",
       "        vertical-align: top;\n",
       "    }\n",
       "\n",
       "    .dataframe thead th {\n",
       "        text-align: right;\n",
       "    }\n",
       "</style>\n",
       "<table border=\"1\" class=\"dataframe\">\n",
       "  <thead>\n",
       "    <tr style=\"text-align: right;\">\n",
       "      <th></th>\n",
       "      <th>user_name</th>\n",
       "      <th>user_location</th>\n",
       "      <th>user_description</th>\n",
       "      <th>user_created</th>\n",
       "      <th>user_followers</th>\n",
       "      <th>user_friends</th>\n",
       "      <th>user_favourites</th>\n",
       "      <th>user_verified</th>\n",
       "      <th>date</th>\n",
       "      <th>text</th>\n",
       "      <th>hashtags</th>\n",
       "      <th>source</th>\n",
       "      <th>is_retweet</th>\n",
       "    </tr>\n",
       "  </thead>\n",
       "  <tbody>\n",
       "    <tr>\n",
       "      <th>0</th>\n",
       "      <td>ᏉᎥ☻լꂅϮ</td>\n",
       "      <td>astroworld</td>\n",
       "      <td>wednesday addams as a disney princess keepin i...</td>\n",
       "      <td>2017-05-26 05:46:42</td>\n",
       "      <td>624</td>\n",
       "      <td>950</td>\n",
       "      <td>18775</td>\n",
       "      <td>False</td>\n",
       "      <td>2020-07-25 12:27:21</td>\n",
       "      <td>If I smelled the scent of hand sanitizers toda...</td>\n",
       "      <td>NaN</td>\n",
       "      <td>Twitter for iPhone</td>\n",
       "      <td>False</td>\n",
       "    </tr>\n",
       "    <tr>\n",
       "      <th>1</th>\n",
       "      <td>Tom Basile 🇺🇸</td>\n",
       "      <td>New York, NY</td>\n",
       "      <td>Husband, Father, Columnist &amp; Commentator. Auth...</td>\n",
       "      <td>2009-04-16 20:06:23</td>\n",
       "      <td>2253</td>\n",
       "      <td>1677</td>\n",
       "      <td>24</td>\n",
       "      <td>True</td>\n",
       "      <td>2020-07-25 12:27:17</td>\n",
       "      <td>Hey @Yankees @YankeesPR and @MLB - wouldn't it...</td>\n",
       "      <td>NaN</td>\n",
       "      <td>Twitter for Android</td>\n",
       "      <td>False</td>\n",
       "    </tr>\n",
       "    <tr>\n",
       "      <th>2</th>\n",
       "      <td>Time4fisticuffs</td>\n",
       "      <td>Pewee Valley, KY</td>\n",
       "      <td>#Christian #Catholic #Conservative #Reagan #Re...</td>\n",
       "      <td>2009-02-28 18:57:41</td>\n",
       "      <td>9275</td>\n",
       "      <td>9525</td>\n",
       "      <td>7254</td>\n",
       "      <td>False</td>\n",
       "      <td>2020-07-25 12:27:14</td>\n",
       "      <td>@diane3443 @wdunlap @realDonaldTrump Trump nev...</td>\n",
       "      <td>['COVID19']</td>\n",
       "      <td>Twitter for Android</td>\n",
       "      <td>False</td>\n",
       "    </tr>\n",
       "    <tr>\n",
       "      <th>3</th>\n",
       "      <td>ethel mertz</td>\n",
       "      <td>Stuck in the Middle</td>\n",
       "      <td>#Browns #Indians #ClevelandProud #[]_[] #Cavs ...</td>\n",
       "      <td>2019-03-07 01:45:06</td>\n",
       "      <td>197</td>\n",
       "      <td>987</td>\n",
       "      <td>1488</td>\n",
       "      <td>False</td>\n",
       "      <td>2020-07-25 12:27:10</td>\n",
       "      <td>@brookbanktv The one gift #COVID19 has give me...</td>\n",
       "      <td>['COVID19']</td>\n",
       "      <td>Twitter for iPhone</td>\n",
       "      <td>False</td>\n",
       "    </tr>\n",
       "    <tr>\n",
       "      <th>4</th>\n",
       "      <td>DIPR-J&amp;K</td>\n",
       "      <td>Jammu and Kashmir</td>\n",
       "      <td>🖊️Official Twitter handle of Department of Inf...</td>\n",
       "      <td>2017-02-12 06:45:15</td>\n",
       "      <td>101009</td>\n",
       "      <td>168</td>\n",
       "      <td>101</td>\n",
       "      <td>False</td>\n",
       "      <td>2020-07-25 12:27:08</td>\n",
       "      <td>25 July : Media Bulletin on Novel #CoronaVirus...</td>\n",
       "      <td>['CoronaVirusUpdates', 'COVID19']</td>\n",
       "      <td>Twitter for Android</td>\n",
       "      <td>False</td>\n",
       "    </tr>\n",
       "  </tbody>\n",
       "</table>\n",
       "</div>"
      ],
      "text/plain": [
       "         user_name         user_location  \\\n",
       "0           ᏉᎥ☻լꂅϮ            astroworld   \n",
       "1    Tom Basile 🇺🇸          New York, NY   \n",
       "2  Time4fisticuffs      Pewee Valley, KY   \n",
       "3      ethel mertz  Stuck in the Middle    \n",
       "4         DIPR-J&K     Jammu and Kashmir   \n",
       "\n",
       "                                    user_description         user_created  \\\n",
       "0  wednesday addams as a disney princess keepin i...  2017-05-26 05:46:42   \n",
       "1  Husband, Father, Columnist & Commentator. Auth...  2009-04-16 20:06:23   \n",
       "2  #Christian #Catholic #Conservative #Reagan #Re...  2009-02-28 18:57:41   \n",
       "3  #Browns #Indians #ClevelandProud #[]_[] #Cavs ...  2019-03-07 01:45:06   \n",
       "4  🖊️Official Twitter handle of Department of Inf...  2017-02-12 06:45:15   \n",
       "\n",
       "   user_followers  user_friends  user_favourites  user_verified  \\\n",
       "0             624           950            18775          False   \n",
       "1            2253          1677               24           True   \n",
       "2            9275          9525             7254          False   \n",
       "3             197           987             1488          False   \n",
       "4          101009           168              101          False   \n",
       "\n",
       "                  date                                               text  \\\n",
       "0  2020-07-25 12:27:21  If I smelled the scent of hand sanitizers toda...   \n",
       "1  2020-07-25 12:27:17  Hey @Yankees @YankeesPR and @MLB - wouldn't it...   \n",
       "2  2020-07-25 12:27:14  @diane3443 @wdunlap @realDonaldTrump Trump nev...   \n",
       "3  2020-07-25 12:27:10  @brookbanktv The one gift #COVID19 has give me...   \n",
       "4  2020-07-25 12:27:08  25 July : Media Bulletin on Novel #CoronaVirus...   \n",
       "\n",
       "                            hashtags               source  is_retweet  \n",
       "0                                NaN   Twitter for iPhone       False  \n",
       "1                                NaN  Twitter for Android       False  \n",
       "2                        ['COVID19']  Twitter for Android       False  \n",
       "3                        ['COVID19']   Twitter for iPhone       False  \n",
       "4  ['CoronaVirusUpdates', 'COVID19']  Twitter for Android       False  "
      ]
     },
     "execution_count": 16,
     "metadata": {},
     "output_type": "execute_result"
    }
   ],
>>>>>>> Stashed changes
   "source": [
    "df = pd.read_csv(\"covid19_tweets1.csv\")\n",
    "df.head()"
   ]
  },
  {
   "cell_type": "code",
<<<<<<< Updated upstream
   "execution_count": null,
   "metadata": {},
   "outputs": [],
   "source": [
    "# Objetivo 1: \n",
    "# Conocer la relación entre el número de tweets por zona geográfica con su situación actual con respecto al COVID-19\n",
    "july = df['user_location'][df['month'] == 'July'].value_counts().sort_values(ascending=False)\n",
    "july[0:10].plot(kind = 'bar', title = '10 Most tweeting countries In July',color=['black', 'red', 'green', 'blue', 'cyan','black', 'red', 'green', 'blue', 'cyan'])\n",
    "plt.xlabel('User Location')\n",
    "plt.ylabel('Tweet Count')\n",
    "plt.show()"
   ]
  },
  {
   "cell_type": "code",
   "execution_count": 44,
=======
   "execution_count": 17,
>>>>>>> Stashed changes
   "metadata": {},
   "outputs": [
    {
     "data": {
      "image/png": "iVBORw0KGgoAAAANSUhEUgAABDkAAAPeCAYAAAAGaMGgAAAAOXRFWHRTb2Z0d2FyZQBNYXRwbG90bGliIHZlcnNpb24zLjMuMiwgaHR0cHM6Ly9tYXRwbG90bGliLm9yZy8vihELAAAACXBIWXMAAAsTAAALEwEAmpwYAAEAAElEQVR4nOzdeXhV1dn+8e8tKESDzIiKAoIVRQFr1DoyFAS1viqC8wCtpai02rdW+3NEtK0VrbWlDtS3BdRKrSJOCCqVoVZUkEFQrCKgAg4oiAwBE57fH3sHD/GEBIQcEu7PdZ0r+6xpP3vnxPY8rLW2IgIzMzMzMzMzs6pup1wHYGZmZmZmZma2NTjJYWZmZmZmZmbVgpMcZmZmZmZmZlYtOMlhZmZmZmZmZtWCkxxmZmZmZmZmVi04yWFmZmZmZmZm1YKTHGZmZjswSQskRQVenbbBuTd1vnql2h4s6UlJyyStlvSypFO3dkzbO0nDSu5RrmOpbBmfjWG5jqUiJO0taZSkT8v7O5JUT9LA9JW1zfZAUqeMOOvlOh4zs2xq5joAMzMzs02R1BZ4Cdg9o/h7wGhJF0TEg7mJzGyT/gCcXsG29YAbM95P2MqxbC2d+DrOYcDyXAViZlYWz+QwMzPbgUVEi4hQRAjonFE1vKQ8fU3YhmF0LnUuRcTyjPrfkyQ41gFdgZbA/LTuj5J23YaxbVWS8nIdg22apF0kbY3/j9wh/fkWkFcJf0dmZoaTHGZmZlYBkvaV9DdJiyStk7Q4XTrRPKNNi4xp+YMk3Zi2Wy3paUn7bsF5G5MkNgDGR8T4iFgA3JuW1Qd6bKJ/p4yY+mSUf2PZh6Qmkv4iaaGkQkmfSZom6c5SY7aR9LCkj9J7sVDS7yXVKeO8l0kaKulz4D9pfVdJL6ZLGdam93WspNM24960kfQvSWvSZUeXZtS9kJ77nVJ9+mXE1WETY5csY5ogqZekOenv8RVJh2W065NtKUbaLyQtyHbPJR0m6bU09smSWqefn+ckrZL0hqQTNhHfjyTNy+h/SKn6epLuSNusS+/zSEn7l2q3YQmMpF9Ieh8oZONZQ6XPvcm/hZK/A6B12uVAYI3KWGKUfi7nZxTdmHlP03sSkqZn9HkoLft3RtkTadncLbgPO0kaIGl6+ntemf4Ou2a0mcDGs03mZ/6OK/r3Y2a2zUWEX3755ZdffvnlFyRT0SN9Dcsobw58nFGX+foYaJ62a5FRvjRL2zeBGhnjlpR/CnyV/vwncGBGm24Z7f6QUX5aRvnNFbymPhnlw0rKM8qeLeMaV2a0aQ98WUa7qUCtLOf9PON4Rno/15QxxpByfkfDMtouydL/3LRdz4yy4zP6j03L3ijnPAvSdl8A60ud431g57Rdn4zyThn9J6RlC8qI/bNSY84B3il934GGWT4v2a77E6Bu2q4OMLuM+/s5sH+WMT8v1a5eGfel3L8FNv472OhVxph9ympP8jm6Lj0uAvLTPu+lZWsyfhefpGV/2YL7MKKMduuBM0v9Tku/FlT078cvv/zyqzJenslhZmZm5bkJaJIe/xSom/4kLb8pS5/aJMtfGgAPpWUHAudmaduIZJ+wRkAvYIqkAzLqSqwo47gJW8ex6c87gTygMXB8+r7E74F8ki/kbUmu84y07jCgb5ZxdwFOSfudAxSk/QAOB2qRfDk+F/h3lv5lmUByf48HVqVlN6c/nwQWp8c/hORf9YEuadmICp5jd5Iv2fVJkhQA+wBHbkac2YxOxxyZvj+IJHm0J/C/adluwIlZ+u4B9Cb5HN6WljUGfpYeX0Hyu1lHMsunNnAISRKgPl/fo0z1gWvSMQ/k6/tZWrl/CxGxIJLlXwvT8onx9ZKwb4iIYSRLsDacIzZeJjY5La8BHC6pado+0ms7NJ2Z0ThtN2lz7oOk44AL0j7XkiRH9iT5fAm4U9JOEdGJjf/WW6YxtkjfV+Tvx8xsm3OSw8zMzMrTPf05PyKGRMSKiBhC8q/9ANmWFTweERMiYhlwQ0b5MRnHvyZJDOST/Ov3E2n57sD/S4+zfjEsVR4VuYgKKPlSelJ6/i7Aooi4HkDJ3h8d0zb7k8w+KAQeyxgjc1+TEsMj4umIWBURb2WcB5Iv1pcBbYCnI2Jklv5luS4ilkXEZGBUWrafpKYRUQT8JS3rJSmfJNGyM8m/zv+9guf4CLg1kj1SHsko32cz4szm1+mYEzPKhkTER8Az5ZznpYh4NCJWAANJvsTD15+tksTILiQzVwqBN/g6OZHtdzQnIn6bfrbnRsRXZcS9JX8L39YrfH2NR6UvgKfSn0enrxIlSY6K3ofMRNKvSZJNS0hmkQDsBRxA+Tb592NmVlmc5DAzM7PylMym+LBUecn7xnzTBxnHizKO9y45iIjrIuL19Mv/QuCSjHaHpz8/zSjL3CehTsZxZpuKqpGl7CckeyMcQJKY+QcwT8l+IjuT/Ot3tn6ZGmQpeyPzTURMJfkyuYbk6Ru/B8YBH0u6eDOuobx7/BeSJQ67AWfx9YyT8RGR2X5T5kXE+vS4MKO8Vjn9yrtP72cZs6RsXUZZtvNsuO6IWEOy9AK+vu5sn8dM2X5Hs8vpU2JL/ha+lYgoBF5L336Pr5Mcd5Ik+I7i6yTH++nfUkViKbkPFYk52z0rrby/HzOzSuEkh5mZmZVnafqzWanyvUvVZ2qWpR2kX8aV/ekVmTMySr5Yz8g4/k5Gfebx9CxjlVibcVw747jFN04e8VJE7EeydKIncFdadTJwJrAsI5bR8c0nwojs/5JfWLogIq4j+cJ8DMmeDFNIpvj/UVLNTVxPpk3e4zSRUfKv/ZdmxPZABceHJEmyIews9WXd3+abGjSdabKpc23KhuuWVJuvv4CXJG5KPo+fkewBU/p3tEuWMb/xOyrDlvwtVER5s5FKlqyUJDS+JJmx8TYbJzkmZ/Sp6H3IjLlDlnY7RcRL5cVZgb8fM7NK4SSHmZmZlee59GdLSZdKqpM+yaNlqfpMPSUdn+4DMSijvOTL0iWS7pN0hKTa6ZMp7slo9x+AiPgUeCEt+76k70tqAfRPyz4nmYpflsx/cT9BiS5svGwGAEm/ltSdZLPNp/l6CQhA44hYzddLAU6RdIGk3dInWPxA0vMkexBskqRDJF1PkqiZAzzK14maPDaepbIpN0uqn+6p0DMtm5cu+ShRck+/m469qtR1fVuZ97c7bHhayLddzrIpx0rqKWl3kj0iSr6sl3y2Sj4PDYHfS2okKU/SkZL+CvzqW5x7S/4WKuLzjOM2WWY+lCQvGpEkNV5JZ9i8THKv26b1kzL6VPQ+ZP79/EHJk252kXSApIEkmwGXWJZxfHBmgOX9/WS9ajOzbSHXO5/65Zdffvnll1/bx4uyn67SgmRJSLYnJ3wKtMhot6knYLwJ1EzbXlHGeCV998k4f1uSL07Z2l5Qget6JaN9yZNRVpeUZbRbUMY51gHt0jbfJXnqR5lPw8hyL/ts4j6Xfk0p51qGlXOPzy3VXsB/M+pHVPCzUHIvJpQRd5+0bBeS5SNl3d8F2WLPKOuT5d5lfo4GZrTd1HVnPl2lLvDWJu5xtjGHVfC+tKACfwtl3cNyxn47y5g1M66pOKN8UFr+41Lt22SMtzn34e+baJf5GTgqS/2DFf378csvv/yqjJdncpiZmdkmRcQCkj0yRpBsRFmU/nwAODytL20oyZMaFpMsBRgD9Iivlyk8BQwmWY7yOckjZN8H7gMOi4jMfRfmkMy8eIok2bGGJHFxWkRUZOnFOcB4klkMS4Gfs/EmmiX+RLIR5sd8/Ujb8cDJETErjeX19F48nNFuCfAiSeLm9QrE8y7J/ZmTXs9aki+IQ0kejVtRndPzFpLcuwERsdGGohERJPe0REWfqlIhEbEOOBV4leT38iFwfvp+WxkHXEzyGNW1JE+k6RoRX6QxfUHyZfwOYB7Jl+zPgWkke6Fs8T3Ywr+FirqIZO+NNVnO+wUwK6PoP+nPlzPKPo2IuaX6VPQ+nE/ydJrpJJ+nlcBcvv47LhnzZZLNcj/g66VbJcr9+zEzqwxK/rfPzMzM7NtJl5HMT9/eFBEDcxeNlZB0O/ALkqdf7BdfbyRqZmZW7VR0YyszMzMzq0Ik/RY4j6/3x7jVCQ4zM6vunOQwMzMzq572JElwfArcHxH35jgeMzOzbc7LVczMzMzMzMysWvDGo2ZmZmZmZmZWLTjJYWZmZmZmZmbVgvfkMKtiGjVqFC1atMh1GGZmZmZmVs3Nnz+fFStWsH79enbeeWeaNm1Ko0aNWL9+PfPnz2f16tWsW7eO73znO9SpU2dDv48++ojPPvuMdevWUbNmTRo3bkzTpk23WlzTpk1bGhGNs9U5yWFWxbRo0YKpU6fmOgwzMzMzM6vm5syZQ+vWralVqxZz586lU6dO3HfffRxyyCHcfffdFBQU0Lt3b+677z46deq0od9tt91G165dadeuHfPmzeOEE07gyiuv5Oyzz94qcUlaWFadkxxmVUzRp5/z6T0P5joMMzMzMzOrphpfcj4Abdu23VAmCUnMmzePww47jCuuuAKAGjVqfKP/VVddteH4gAMO4NRTT+Wll17aakmOTfGeHGZmZmZmZmaW1aWXXsquu+5KmzZt2HPPPTnppJM2q39EMHny5I0SJtuSkxxmZmZmZmZmltXdd9/Nl19+yeTJk+nZsye1atXarP4DBw5k/fr19O3bdxtFuDEnOXZwkvaQ9HdJ70maJullSadL6iTp6XL6DpR05Waeb2X6s4WkNZJmSHpT0r2SvvXnUdIwSb2+7TjpWP/ZjLZ9JK2X1C6jbLakFunxAklvpNc7Q9IfJf054/rXZNRtlfjNzMzMzMy2hho1anDsscfy4Ycfcs8991S435AhQxgxYgTPPPPMZidHtpT35NiBSRIwGhgeEeemZc2B/wGWVUII8yKig6SawL+A04BRlXDeComIozezy4fAtcBZZdR3joilpQvTRMjTEdFhM89nZmZmZmZWaYqKipg3b16F2v71r3/l1ltvZdKkSTRr1mwbR/Y1z+TYsXUB1kXEvSUFEbEwIv6U2UhSA0mjJc2SNCVztgLQXtK/JL0j6cdp+3xJ4yW9ns5eOHVTQUREEfAfoLWkH0t6TdJMSY9J2jUdc1g6++E/6ayTXmm5JA1JZ0M8AzTJiPswSRPTGSrjJO2Zlk+QdKekSZLeknS4pFHpNdyS0X9lxvFV6bXMlHRrGZfyNNBW0gGbul4zMzMzM7Pt3SeffMLIkSNZuXIlxcXFjBs3jocffpguXboAsHbtWgoLCwFYt24dhYWFRAQADz30ENdccw3PP/88++23X6XG7STHjq0t8HoF2t0ETI+IdsA1wIiMunbAycBRwA2S9gIKgdMj4rtAZ+COdNZIVmki4/vAG8CoiDg8ItoDbwE/ymi6J3As8AOgJNFwOnAAcAjwY+DodMydgT8BvSLiMOCvwK8zxloXEccD9wJPAJcBBwN9JDUsFd+JJLNMjkzjuq2MS1mf1l1TRv2LGUtSfl7W/TAzMzMzM8s1Sdxzzz00a9aM+vXrc+WVV/KHP/yBU09N/g37gAMOIC8vj0WLFtG9e3fy8vJYuDB5sut1113HZ599xuGHH05+fj75+fn079+/UuL2chXbQNKfSZII64BfZlQdC5wBEBH/ktRQUt207omIWAOskfQicATwDPAbSceTfPHfG9gD+KjUKVtJmgFEOs6zkjqmsynqAfnAuIz2oyNiPfCmpD3SsuOBhyOiGFgs6V9p+QEkSYvn0/xKDWBJxlhPpj/fAOZExJL0HrwH7AN8ltG2K/C3iFid3oPPy7qHwN+BayW1zFKXdblKRUjqB/QDaNagYTmtzczMzMzMvp3GjRszceLEMusXLFhQZt38+fO3QUQV4yTHjm0OafICICIuk9QImFqqXbZZGFHqZ2b5eUBj4LCI+ErSAqB2ljHmZdmHYhhwWkTMlNQH6JRRt7aMmErHUFI/JyKOylKXOdb6UuOu55t/FyrjHN8QEUWS7gCurkj7ioqIocBQgA7N96tQLGZmZmZmZjsaL1fZsf0LqC3pkoyyXbO0m0SSuEBSJ2BpRKxI606VVDtd4tEJeA2oC3ySJjg6A803I6Y6wJJ0ucl5FWg/CThbUo10z43OafnbQGNJR6Vx7yxpSx/M/Bzww4z9QRqU034YyeyPxlt4PjMzMzMzM9sCnsmxA4uIkHQacKekq4BPgVV8cxbCQOBvkmYBq4GLMupeJVmesi9wc0QslvQQ8JSkqcAMYO5mhHU98AqwkGQpSZ1y2j9OsoHqG8B/gYnpta1LNyf9Y7q0pibwB5LZK5slIsZK6gBMlbQOGANcI6l/Wn9vqfbrJP0RuKvUUC9KKk6PZ0XEhZsbi5mZmZmZmZVNJbufmlnV0KH5fvH8rwblOgwzMzMzM6umGl9yfq5D2CRJ0yKiIFudl6uYmZmZmZmZWbXgJIeZmZmZmZmZVQvek8OsiqnZuMF2P33MzMzMzMwsFzyTw8zMzMzMzMyqBSc5zMzMzMzMzKxacJLDzMzMzMysgtauXcuPfvQjmjdvTp06dTj00EN59tlnAXjzzTcpKCigfv361K9fn65du/Lmm29u6Lt8+XIuuugimjRpQpMmTRg4cGCOrsKs+vKeHGZVTNGnn/LpvUNzHYaZmZnZDqdx/34UFRWxzz77MHHiRPbdd1/GjBnDmWeeyRtvvMFee+3Fo48+SvPmzVm/fj1//vOfOfvss5k1axYAP//5z1m9ejULFizgk08+4fvf/z7Nmzenb9++Ob4ys+rDMznMzMzMzMwqaLfddmPgwIG0aNGCnXbaiR/84Ae0bNmSadOmUa9ePVq0aIEkIoIaNWrw7rvvbuj71FNPcdVVV7HrrrvSokULfvSjH/HXv/41h1djVv14JoeZmZmZmdkW+vjjj/nvf/9L27ZtN5TVq1ePlStXsn79egYNGrRR+4jY6Hj27NmVFqvZjsAzOczMzMzMzLbAV199xXnnncdFF11EmzZtNpQvX76cL774giFDhnDooYduKO/Rowe33norX375Je+++y5//etfWb16dS5CN6u2nOSwakXSIElds5R3kvR0LmLaFEkLJDXKdRxmZmZmtnnWr1/PBRdcwC677MKQIUO+Ub/bbrvRv39/LrzwQj755BMA/vjHP5KXl8f+++/PqaeeyjnnnEOzZs0qO3Szas1JDqtWIuKGiHgh13GYmZmZWfUVEfzoRz/i448/5rHHHmPnnXfO2m79+vWsXr2aRYsWAdCgQQMeeughPvroI+bMmcP69es54ogjKjN0s2rPSQ7brki6UNIsSTMlPSCpuaTxadl4SftKqpvOgNgp7bOrpA8k7SxpmKReaXkPSXMl/RvomXGOgZL+KmmCpPck/Syj7nxJr0qaIek+STUknSnp92n95ZLeS49bpWMj6VZJb6Zx3p7lumpIul3SG2mbn2ZU/1TS62ldm9J9zczMzGz7cskll/DWW2/x1FNPkZeXt6H8+eefZ/r06RQXF7NixQr+93//l/r163PggQcCMG/ePD777DOKi4t59tlnGTp0KNddd12uLsOsWvLGo7bdkNQWuBY4JiKWSmoADAdGRMRwST8E/hgRp0maCXQEXgROAcZFxFeSSsaqDfwF6AK8C/yj1OnaAJ2BOsDbku4BWgNnpef/StLdwHnAc8Av037HAZ9J2hs4Fpicxnk60CYiQlK9LJfXD2gJHBoRRWmfEksj4ruSLgWuBC7Ocm/6pWPQrEGD0tVmZmZmVkkWLlzIfffdR61atWjatOmG8vvuu49ddtmFn/70p3z44Yfk5eVx+OGHM3bsWGrXrg3AtGnTuOKKK1i+fDnf+c53eOihhzbasNTMvj0nOWx70gV4NCKWAkTE55KO4utZGA8At6XH/yBJSLwInA3cXWqsNsD8iHgHQNKDpEmC1DMRsRZYK+kTYA/g+8BhwGtpsiQP+CQiPpKUL6kOsA/wd+B4koTHKGAFUAjcL+kZINveH12BeyOiqOTaMupGpT+nZVzrRiJiKDAUoEPz5pGtjZmZmZlte82bN9/oCSml9e7du8y6M888kzPPPHNbhGVmKS9Xse2JgPK+wJfUPwmcmM6IOAz41ybaZrM247iYJOEnYHhEdEhfB0TEwLTNy0Bf4G1gMkmC4yjgpTRxcQTwGHAaMHYzr60klpI4zMzMzMzMbAs4yWHbk/HAmZIaAqQJjP+QzNSAZOnIvwEiYiXwKnAX8HREFJcaay7QUlKr9P05FTx/L0lNSs4vqXlaN4lkKckkYDrJUpe1EfGFpHygbkSMAa4AOmQZ+zmgv6SaGddmZmZmZmZmW5H/1di2GxExR9KvgYmSikmSCT8D/irpl8CnJLMpSvwD+CfQKctYhek+Fs9IWkqSHDm4nPO/Kek64Ll0U9OvgMuAhSSzN/YBJkVEsaQPSBIpkOzr8US6D4iAnwNI+h+gICJuAO4HvgPMkvQVyX4h33zWmJmZmZmZmW0xbWo9mZltfzo0bx7P/79rcx2GmZmZ2Q6ncf9+5Tcys21O0rSIKMhW5+UqZmZmZmZmZlYtOMlhZmZmZmZmZtWC9+Qwq2JqNm7sqZJmZmZmZmZZeCaHmZmZmZmZmVULTnKYmZmZWbU3ZMgQCgoKqFWrFn369Nmo7pFHHuHAAw+kTp06HHTQQYwePXpD3Ysvvkjnzp2pW7cuLVq0qNSYzcxs8/npKmZVTPvm+8Rzv7oi12GYmZlVCXtc8gsARo0axU477cS4ceNYs2YNw4YNA2DRokW0bNmSJ554gh49ejBmzBh69+7NggULaNKkCa+++ipvv/02a9as4Te/+Q0LFizI3cWYmRmw6aereE8OMzMzM6v2evbsCcDUqVP58MMPN5R/+OGH1KtXjxNPPBGAk08+md1224158+bRpEkTjjjiCI444gheeOGFnMRtZmabx8tVzMzMzGyHVVBQwIEHHsiTTz5JcXExo0ePplatWrRr1y7XoZmZ2RbwTA4zMzMz22HVqFGDCy+8kHPPPZfCwkJ22WUX/vnPf7LbbrvlOjQzM9sCnsmxA5PUVNJISfMkvSlpjKTv5DquTGlM9bbymJ0kPV2qbJikXps5zspy6utJunRLYjQzM7PK8cILL3DVVVcxYcIE1q1bx8SJE7n44ouZMWNGrkMzM7Mt4CTHDkqSgMeBCRHRKiIOAq4B9qhg/xrbMr4SEXFSRCwvdW5Jqgqf3XqAkxxmZmbbsRkzZnD88cdTUFDATjvtxOGHH86RRx7pPTjMzKqoqvBF0baNzsBXEXFvSUFEzIiIyWkSYbCk2ZLekHQWbJgB8aKkvwNvSKot6W9pm+mSOqft+kgaJWmspHck3VZyDkn3SJoqaY6km9KyEyU9ktGmk6Sn0uMFkhpJaiHpLUl3A68D+2TOpJDUS9Kw9Lh3GvtMSZM298ak5/ydpFfTV+u0vKWklyW9JunmjPb5ksZLej29F6emVbcCrSTNkDQ4bfvLtP+sjOvfTdIzabyzS+63mZmZbT1FRUUUFhZSXFxMcXExhYWFFBUVcfjhhzN58uQNMzemT5/O5MmTN+zJsX79egoLC/nqq6+ICAoLC1m3bl0Or8TMzDbFe3LsuA4GppVR1xPoALQHGgGvZSQLjgAOjoj5kn4BEBGHSGoDPJex3KUDcCiwFnhb0p8i4gPg2oj4PJ0JMl5SO+B54D5Ju0XEKuAs4B9Z4joA6BsRlwIkk1GyugHoHhGLvsVSlxURcYSkC4E/AD8A7gLuiYgRki7LaFsInB4RKyQ1AqZIehL4Fcm96pDGewKwP8k9FPCkpOOBxsDiiDg5bVd3C2M2MzOzMtxyyy3cdNNNG94/+OCD3HjjjQwcOJCBAwfSq1cvPv74Yxo3bsw111zDCSecAMCkSZPo3Lnzhn55eXl07NiRCRMmVPYlmJlZBTjJYdkcCzwcEcXAx5ImAocDK4BXI2J+Rrs/AUTEXEkLgZIkx/iI+AJA0ptAc+AD4ExJ/Ug+e3sCB0XELEljgVMkPQqcDFyVJa6FETGlAvG/BAxLZ4eMylIfZfTLLH844+ed6fExwBnp8QPA79JjAb9JExbrgb3JvuznhPQ1PX2fT5L0mAzcLul3wNMRMbl0x/Se9QNo1qB+GeGbmZlZWUqSGdkMGDCAAQMGZK3r1KkTEWX9XwczM9veOMmx45oDlLXRZplTJIBVFWy3NuO4GKgpqSVwJXB4RCxLl5fUTtv8A7gM+Bx4LSK+LOfcsHFSovaGwoj+ko4kSZbMkNQhIj7LaPsZUDpT0ABYWsbYZR2XOI9kNsZhEfGVpAWZ8WQQ8NuIuO8bFdJhwEnAbyU9FxGDMusjYigwFKB98338/7TMzMzMzMyy8J4cO65/AbUk/bikQNLhkjoCk4CzJNWQ1Bg4Hng1yxiTSL7gky5T2Rd4exPn3J0kUfGFpD2AEzPqJgDfBX5M9qUq2Xws6cB0E9LTM66jVUS8EhE3kCQu9inV7x1gL0kHpu2bkyzNmZHR5qyMny+nxy8BZ6fH52W0rQt8kiY4OpPMWgH4EqiT0W4c8ENJ+el595bURNJewOqIeBC4Pb0PZmZmZmZmtpk8k2MHFREh6XTgD5J+RbKvxALgCpLkxVHATJKZC1dFxEfpvhuZ7gbulfQGUAT0iYi1Ze2VEREzJU0nmUXyHknSoKSuWMljXfsAF1XwMn4FPE2yDGY2yfIPgMGS9ieZOTE+vY7MONZKOh/4m6TawFfAxSXLa1K1JL1Ckgg8Jy27HPi7pMuBxzLaPgQ8JWkqSaJkbnqezyS9JGk28GxE/DJNrLyc3qOVwPlA6zTm9Wksl1Tw+s3MzMzMzCyDvMbQbGPpcpOCiFhaXttcaN98n3juV1fkOgwzM7MqYY9LfpHrEMzMbCuTNC0iCrLVebmKmZmZmZmZmVULXq5iVkpEtMh1DGZmZmZmZrb5nOQwq2J2bryHp96amZmZmZll4eUqZmZmZmZmZlYtOMlhZmZmZmZmZtWCkxxmZmZmViUNGTKEgoICatWqRZ8+fTaUP/TQQ+Tn52947brrrkhi2rRpAJx44okb1e+yyy4ccsghOboKMzPbmvwIWbMqpn3zPWPs1X1zHYaZmVlO7Xnpbxg1ahQ77bQT48aNY82aNQwbNixr22HDhnHzzTfz7rvvIukb9Z06daJLly7ccMMN2zhqMzPbGjb1CFlvPGpmZmZmVVLPnj0BmDp1Kh9++GGZ7YYPH86FF16YNcGxYMECJk+ezN/+9rdtFqeZmVUeL1cxMzMzs2pr4cKFTJo0iQsvvDBr/YgRIzjuuONo2bJlJUdmZmbbgpMcZmZmZlZtlZfEGDFixEb7eZiZWdXmJIdtlyQ1k/SEpHckzZN0l6RdtvE5+0gashntr8k4rifp0m0TmZmZmW2pESNGcNFFF2Wt+/e//81HH31Er169KjkqMzPbVpzksO2OkgWzo4DREbE/8B0gH/h1TgP7pmsyjusBm5XkUMJ/g2ZmZtvISy+9xOLFi8tMYgwfPpyePXuSn59fyZGZmdm24i9Ytj3qAhRGxN8AIqIY+DnwQ0m7pjMunpA0VtLbkm4s6SjpfEmvSpoh6T5JNdLylZJ+LWmmpCmS9qhoMNnGlHQrkJeWPQTcCrRK3w9O+/1S0muSZkm6KS1rIektSXcDrwP7SBomabakNyT9fOvcQjMzs+qvqKiIwsJCiouLKS4uprCwkKKiog31w4cP54wzzqBOnTrf6LtmzRr++c9/eqmKmVk14ySHbY/aAtMyCyJiBfA+0DotOgI4D+gA9JZUIOlA4CzgmIjoABSnbQB2A6ZERHtgEvDjigRS1pgR8StgTUR0iIjzgF8B89L3v5R0ArB/GmcH4DBJx6fDHgCMiIhDgUbA3hFxcEQcAmTd2l1SP0lTJU39bOXqioRuZmZW7d1yyy3k5eVx66238uCDD5KXl8ctt9wCQGFhIY888kiZS1VGjx5N3bp16dy5c2WGbGZm25gfIWvbIwFRTvnzEfEZgKRRwLFAEXAY8Fr6iLg84JO0/Trg6fR4GtCtgrF8fxNjbsoJ6Wt6+j6fJOnxPrAwIqak5e8B+0n6E/AM8Fy2wSJiKDAUoH3zPbPdGzMzsx3OwIEDGThwYNa62rVrs3z58jL7nnPOOZxzzjnbJjAzM8sZJzlsezQHOCOzQNLuwD7APJKkQ+kv+kGSBBkeEf8vy5hfRURJn2Iq/tnf1Jjl9fttRNy3UaHUAli1IeiIZZLaA92By4AzgR9u5rnMzMzMzMwML1ex7dN4YFdJFwKk+2rcAQyLiJK1Gt0kNZCUB5wGvJT26yWpSdqvgaTmWyGWssb8StLO6fGXQOaC33Eke4jkp/32Lhkjk6RGwE4R8RhwPfDdbxmvmZmZmZnZDsszOWy7ExEh6XTgbknXkyTjxrDx00z+DTxAskfH3yNiKoCk64Dn0qeWfEUyO2LhZpy+j6TTMt5/DyhrzKHALEmvR8R5kl6SNBt4Nt2X40Dg5XSZy0rgfJJZJJn2Bv6W8ZSVzZ0xYmZmZmZmZil9PYPfrGqQ1AcoiIgBuY4lF9o33zPGXt0312GYmZnl1J6X/ibXIZiZWY5ImhYRBdnqvFzFzMzMzMzMzKoFL1exKicihgHDchyGmZmZmZmZbWec5DCrYnZuvLen6JqZmZmZmWXh5SpmZmZmZmZmVi04yWFmZmZVxpAhQygoKKBWrVr06dNnQ/mUKVPo1q0bDRo0oHHjxvTu3ZslS5ZsqB84cCA777wz+fn5G17vvfdeDq7AzMzMtiUvVzGrYtZ9Mp8P/nRersMwM6tU+/z0IQD22msvrrvuOsaNG8eaNWs21C9btox+/frRvXt3atasyYABA+jbty9jx47d0Oass87iwQcfrPTYzczMrPI4yWFmZmZVRs+ePQGYOnUqH3744YbyE088caN2AwYMoGPHjpUam5mZmeWel6uYmZlZtTNp0iTatm27UdlTTz1FgwYNaNu2Lffcc0+OIjMzM7NtyTM5zMzMrFqZNWsWgwYN4oknnthQduaZZ9KvXz/22GMPXnnlFc444wzq1avHOeeck8NIzczMbGvzTA7baiStLPW+j6Qh6XF/SRdu5ngTJBVsQRwdJJ20uf3KGOtxSTMkvSvpi/R4hqSjJf1na5zDzMy2nnfffZcTTzyRu+66i+OOO25D+UEHHcRee+1FjRo1OProo7n88st59NFHcxipmZmZbQueyWGVIiLurcTTdQAKgDHfdqCIOB1AUifgyoj4QUb10d92fDMz23oWLlxI165duf7667ngggs22VYSEVFJkZmZmVll8UwOqxSSBkq6Mj2eIOl3kl6V9F9Jx6XleZJGSpol6R9AXkb/lRnHvSQNS497S5otaaakSZJ2AQYBZ6UzLs6SdISk/0ianv48IO3bR9IoSWMlvSPpts28ppXpz06SJkp6JL2eWyWdl17fG5Jape0aS3pM0mvp65i0vGPGDJHpkups+Z02M6veioqKKCwspLi4mOLiYgoLCykqKmLRokV06dKFyy67jP79+3+j3xNPPMGyZcuICF599VX++Mc/cuqpp+bgCszMzGxb8kwO25ryJM3IeN8AeLKMtjUj4oh0WcmNQFfgEmB1RLST1A54vQLnvAHoHhGLJNWLiHWSbgAKImIAgKTdgeMjokhSV+A3wBlp/w7AocBa4G1Jf4qIDzbnolPtgQOBz4H3gPvT67sc+ClwBXAXcGdE/FvSvsC4tM+VwGUR8ZKkfKBwC85vZrZDuOWWW7jppps2vH/wwQe58cYbkcR7773HTTfdtFH9ypVJjnzkyJH88Ic/ZO3atTRr1oyrr76aiy66qNLjNzMzs23LSQ7bmtZERIeSN5L6kCwbyWZU+nMa0CI9Ph74I0BEzJI0qwLnfAkYJumRjDFLqwsMl7Q/EMDOGXXjI+KLNN43gebAliQ5XouIJek484Dn0vI3gM7pcVfgIEklfXZPZ228BPxe0kPAqIj4+pmIKUn9gH4Ae9ffdQvCMzOrHgYOHMjAgQOz1t14441l9nv44Ye3UURmZma2PfFyFcuVtenPYjZOtpW1QDqzvPaGwoj+wHXAPsAMSQ2z9L0ZeDEiDgZOyeyfEUe2WDZH5jjrM96vzxhzJ+CoiOiQvvaOiC8j4lbgYpLlOVMktSk9eEQMjYiCiChokF+7dLWZmZmZmZnhJIdtXyYB5wFIOhhol1H3saQDJe0EnF5SKKlVRLwSETcAS0mSHV8Cmfta1AUWpcd9tl345XoOGFDyRlKH9GeriHgjIn4HTAW+keQwMzMzMzOz8jnJYduTe4D8dJnKVcCrGXW/Ap4G/gUsySgfnG7uOZskSTITeJFkWcgMSWcBtwG/lfQSUKMSrqMsPwMK0o1V3wRKdsa7omTzVGAN8GzOIjQzMzMzM6vC5MenmVUt7fZtGM/8skeuwzAzq1T7/PShXIdgZmZm2wlJ0yIi6/6PnslhZmZmZmZmZtWCkxxmZmZmZmZmVi34EbJmVcwuTVp62raZmZmZmVkWnslhZmZmZmZmZtWCkxxmZmZmZmZmVi04yWFmZmY5MWTIEAoKCqhVqxZ9+vTZUD5lyhS6detGgwYNaNy4Mb1792bJkq+fHh4RXH311TRs2JCGDRty1VVX4afFmZmZGXhPDrMqp/CTd5n751NzHYaZ2RZrc9kTAOy1115cd911jBs3jjVr1myoX7ZsGf369aN79+7UrFmTAQMG0LdvX8aOHQvA0KFDGT16NDNnzkQS3bp1Y7/99qN///45uR4zMzPbfjjJYWZmZjnRs2dPAKZOncqHH364ofzEE0/cqN2AAQPo2LHjhvfDhw/nF7/4Bc2aNQPgF7/4BX/5y1+c5DAzMzMvVzEzM7Pt26RJk2jbtu2G93PmzKF9+/Yb3rdv3545c+bkIjQzMzPbzngmh5mZmW23Zs2axaBBg3jiiSc2lK1cuZK6detueF+3bl1WrlxJRCApF2GamZnZdsIzOWy7JWllqfc/l1QoqW5GWSdJIelHGWWHpmVXZhlzoKRFkmZImi3pfzLKv9G+VN/TJB2U8b5NOs50Sa2+zbWamdk3vfvuu5x44oncddddHHfccRvK8/PzWbFixYb3K1asID8/3wkOMzMzc5LDqpRzgNeA00uVvwGclfH+bGDmJsa5MyI6AL2Bv0qq6N/BacBBpd4/ERGHRsS88jor4b85M7MKWLhwIV27duX666/nggsu2Kiubdu2zJz59X/mZ86cudFyFjMzM9tx+QuXVQnpTIl84DqSZEem94HakvZQ8s94PYBnyxszIt4CioBGpc71Y0mvSZop6TFJu0o6GvgfYHA6e+My4ArgYkkvpv3+N50dMlvSFWlZC0lvSbobeB04TtJcSfen7R6S1FXSS5LekXTEFt8kM7MqpqioiMLCQoqLiykuLqawsJCioiIWLVpEly5duOyyy7JuJnrhhRfy+9//nkWLFrF48WLuuOOOjR5Ba2ZmZjsu78lhVcU5wMPAZOAASU0i4pOM+kdJZmZMJ0kmrC1vQElHAuuBT0tVjYqIv6RtbgF+FBF/kvQk8HREPJrWNQZWRsTtkg4D+gJHAgJekTQRWAYcAPSNiEsltQBap7H2I5mZci5wLEkS5RqSGSKlY+2Xtmev+nnlXZqZWZVwyy23cNNNN214/+CDD3LjjTciiffee4+bbrppo/qVK5NVjD/5yU947733OOSQQwC4+OKL+clPflK5wZuZmdl2yUkOqyrOBk6PiPWSRpEkCf6cUf8I8A+gDUky5OhNjPVzSecDXwJnRUSUWsd9cJrcqEcye2RcBeI7Fng8IlYBpDEeBzwJLIyIKRlt50fEG2m7OcD4NIY3gBbZBo+IocBQgIP3rRcViMfMbLs3cOBABg4cmLXuxhtvLLOfJG677TZuu+22bRSZmZmZVVVOcth2T1I7YH/g+TQZsQvwHhlJjoj4SNJXQDfgcjad5LgzIm7fRP0w4LSImCmpD9CpImFuom5VqfeZs0zWZ7xfj/8mzczMzMzMtpj35LCq4BxgYES0SF97AXtLal6q3Q3A1RFR/C3PVwdYImln4LyM8i/TumwmAael+3fsRrI56uRvGYeZmZmZmZltBic5rCo4G3i8VNnjafkGEfGfiBi9Fc53PfAK8DwwN6N8JPDLbI+MjYjXSWaAvJr2vT8ipm+FWMzMzMzMzKyCFOHl/WZVycH71otHr+6Y6zDMzLZYm8ueyHUIZmZmVoVJmhYRBdnqPJPDzMzMzMzMzKoFJznMzMzMzMzMrFrwkxzMqpjaTVp7qreZmZmZmVkWnslhZmZmZmZmZtWCkxxmZmZWriFDhlBQUECtWrXo06fPhvJ169bRq1cvWrRogSQmTJiwUb/Bgwdz8MEHU6dOHVq2bMngwYMrN3AzMzPboXi5ilkVs/rTd3n93lNyHYaZ7UC+2/8p9tprL6677jrGjRvHmjVrNqo/9thjueKKK+jdu/c3+kYEI0aMoF27dsybN48TTjiBffbZh7PPPvsbbc3MzMy+LSc5zMzMrFw9e/YEYOrUqXz44YcbynfZZReuuOIKAGrUqPGNflddddWG4wMOOIBTTz2Vl156yUkOMzMz2ya8XMXMzMwqRUQwefJk2rZtm+tQzMzMrJpyksPMzMwqxcCBA1m/fj19+/bNdShmZmZWTVVKkkNSU0kjJc2T9KakMZK+Uxnnrqg0pnpbecxOkp4uVTZMUq/NHGdlOfX1JF26JTFuLkmHSgpJ3UuVbzLGbRjPN+7xFoyxstT7PpKGpMf9JV34Lcbe6p8rM7OqaMiQIYwYMYJnnnmGWrVq5TocMzMzq6a2eZJDkoDHgQkR0SoiDgKuAfaoYP9vLvDdBiLipIhYXurcklQVZrvUAyolyQGcA/w7/VnlSNqsfWgi4t6IGLGl58v2uTIz29H89a9/5dZbb2X8+PE0a9Ys1+GYmZlZNVYZX+A7A19FxL0lBRExIyImp0mEwZJmS3pD0lmw4V/nX5T0d+ANSbUl/S1tM11S57RdH0mjJI2V9I6k20rOIekeSVMlzZF0U1p2oqRHMtp0kvRUerxAUiNJLSS9Jelu4HVgn8x/6ZfUS9Kw9Lh3GvtMSZM298ak5/ydpFfTV+u0vKWklyW9JunmjPb5ksZLej29F6emVbcCrSTNkDQ4bfvLtP+sjOvfTdIzabyzS+73ZsQroBfQBzhBUu0y2mU79+mSXkh/53tK+m86w6eFpMnpNb0u6ei0fSdJEyQ9KmmupIfS8yOpR1r2b6Bnxnl3k/TX9NzTS+5P+jn5Z/q7fm4zr3mgpCvT48PTa3q55HOblu8q6ZG07h+SXpFUkNaV/lz9Jf1MPicpL23zMyUznGZJGrk58ZmZVZaioiIKCwspLi6muLiYwsJCioqKAFi7di2FhYVA8kjZwsJCIgKAhx56iGuuuYbnn3+e/fbbL2fxm5mZ2Y6hMpIcBwPTyqjrCXQA2gNdgcGS9kzrjgCuTWd+XAYQEYeQzCAYnvEFuwNwFnAIcJakfdLyayOiAGgHdJTUDnge+J6k3dI2ZwH/yBLXAcCIiDg0IhZu4tpuALpHRHvgfzbRblNWRMQRwBDgD2nZXcA9EXE48FFG20Lg9Ij4Lkny6I70i/+vgHkR0SEifinpBGB/knvYAThM0vFAD2BxRLSPiIOBsZsZ6zHA/IiYB0wATirdoKxzR8Tj6bVcBvwFuDEiPgI+Abql13QW8MeM4Q4FrgAOAvYDjkl/738BTgGOA5pmtL8W+Fd63zqTfJ5KftdHARdFRJcs15WXJohmSJoBDCrj+v8G9I+Io4DijPJLgWUR0Q64GTisjP77A3+OiLbAcuCMtPxXwKFp//5l9DUzy6lbbrmFvLw8br31Vh588EHy8vK45ZZbgOSpKXl5eSxatIju3buTl5fHwoXJ/3xed911fPbZZxx++OHk5+eTn59P//7+T52ZmZltG7l+hOyxwMMRUQx8LGkicDiwAng1IuZntPsTQETMlbQQKNnTY3xEfAEg6U2gOfABcKakfiTXuCdwUETMkjQWOEXSo8DJwNfPtvvawoiYUoH4XwKGKZkdMipLfZTRL7P84Yyfd6bHx/D1F+AHgN+lxwJ+kyYs1gN7k33Zzwnpa3r6Pp/kC/Zk4HZJvwOejojJZV9aVucAJTMNRgIX8M3rLuvck4CfArOBKRFRct07A0MkdSBJHGTu1fJqRHwIkCYfWgArSRIt76TlDwL9Ms79PyUzL4DawL7p8fMR8XkZ17UmIjqUvJHUByjIbKBkX406EfGftOjvwA/S42NJElNExGxJs8o4z/yImJEeT0uvB2AW8JCk0cDobB3Tz3I/gKYN8soY3sxs2xk4cCADBw7MWrdgwYIy+82fP7/MOjMzM7OtrTKSHHNIljhko030W1XBdmszjouBmpJaAlcCh0fEMiXLS0pmfvyDZDbB58BrEfFlOeeGjZMSG5ZoRER/SUeSJEtmSOoQEZ9ltP0MqF9qrAbA0jLGLuu4xHlAY+CwiPhK0oLMeDII+G1E3PeNCukwkhkYv5X0XEQMyqjbB3gqfXtv5hIjJXujnEGSRLg2PUdDSXVK3cMyz02SlFkP7CFpp4hYD/wc+JhkNs9OJLNVSnzjd5sel5U8EnBGRLxd6pqP5Ju/0821qc/gpuoylb6ekmzFycDxJLOBrpfUNiKKMjtGxFBgKMBBzeuVdf1mZmZmZmY7tMpYrvIvoJakH5cUpHsbdCT51/2zJNWQ1Jjki96rWcaYRPIFHyVPZdkXeDtLuxK7k3yp/ULSHsCJGXUTgO8CPyb7UpVsPpZ0oJJNSE/PuI5WEfFKRNxAkrjYp1S/d4C9JB2Ytm9O8mV+RkabszJ+vpwevwScnR6fl9G2LvBJmuDoTDJrBeBLoE5Gu3HADyXlp+fdW1ITSXsBqyPiQeD29D5sEBEfpEteOmQmOFJdgZkRsU9EtIiI5sBjwGml2pV17pokyz3OBd4C/jfjmpakCY8LgPI2mp0LtJTUKn2fuQHqOOCnGXt3HFrOWBUWEcuALyV9Ly06O6P638CZ6TkPIlk6VSHpZ2qfiHiRZFZRPZLZL2ZmZmZmZraZtvlMjogISacDf5D0K5J/qV9AstfCJJK9EmaS/Ov8VRHxkaQ2pYa5G7hX0htAEdAnItam32WznXOmpOkks0jeI0kalNQVK3nkaB/gogpexq+Ap0mWwczm6y+hgyXtT/Iv+ePT68iMY62k84G/pXtJfAVcXLK8JlVL0iskCaeSL+yXA3+XdDlJIqHEQ8BTkqaSJErmpuf5TNJL6UaYz6b7chwIvJzeo5XA+UDrNOb1aSyXVPD6SWN7vFTZY+kYD2Rc83NlnLs/MDndcHYG8JqkZ0h+t49J6g28SDkzLiKiMF268YykpSQJhoPT6ptJ9jWZlSY6FvD1kpKt4UfAXyStIkmWlfwe7ybZJ2YWyTKdWRl15akBPCipLsnn6E4/jcXMzMzMzGzLqGT3c6t86XKTgohYWl5byz1J+RGxMj3+FbBnRFyeLuXZOU3AtCJJeH0nItZtizgOal4vHvx/x22Loc3Msvpu/6fKb2RmZmZWSSRNSx808g253njUrCo5WdL/I/m7WUgyGwhgV+BFSTuTzMa4ZFslOMzMzMzMzKxsTnLkUES0yHUMVnER8Q+y7OOSbryaNYtoZmZmZmZmlcdJDrMqZtfGrT113MzMzMzMLIvKeLqKmZmZmZmZmdk25ySHmZmZmZmZmVULTnKYmZntIIYMGUJBQQG1atWiT58+G9WNHz+eNm3asOuuu9K5c2cWLly4Uf3rr7/O8ccfT35+PnvssQd33XVXJUZuZmZmVjHek8Osiln56bu8NPQHuQ7DzKqYY/o9zV577cV1113HuHHjWLNmzYa6pUuX0rNnT+6//35OOeUUrr/+es466yymTJmyob5Hjx7ceeed9OrVi3Xr1vHhhx/m6lLMzMzMyuQkh5mZ2Q6iZ8+eAEydOnWjJMWoUaNo27YtvXv3BmDgwIE0atSIuXPn0qZNG37/+9/TvXt3zjvvPABq1arFgQceWPkXYGZmZlYOL1cxMzPbwc2ZM4f27dtveL/bbrvRqlUr5syZA8CUKVNo0KABRx99NE2aNOGUU07h/fffz1W4ZmZmZmVyksPMzGwHt3LlSurWrbtRWd26dfnyyy8B+PDDDxk+fDh33XUX77//Pi1btuScc87JRahmZmZmm+TlKmZmZju4/Px8VqxYsVHZihUrqFOnDgB5eXmcfvrpHH744QDceOONNGrUiC+++OIbyREzMzOzXPJMjmpAUrGkGZJmS/qnpF238flWllE+SFLXCvTvJOnpLTjvdySNkfSupLckPSJpj80dZ1uS9J9cx2Bmtrnatm3LzJkzN7xftWoV8+bNo23btgC0a9cOSRvqS44jonIDNTMzMyuHkxzVw5qI6BARBwPrgP7b4iRKlPmZiYgbIuKFLP1qbIVz1waeAe6JiNYRcSBwD9C4gv0rZdZSRByd5dzf+vrNzLaGoqIiCgsLKS4upri4mMLCQoqKijj99NOZPXs2jz32GIWFhQwaNIh27drRpk0bAPr27cvjjz/OjBkz+Oqrr7j55ps59thjqVevXm4vyMzMzKwUJzmqn8lAa0mnSHpF0nRJL5TMeJA0UNIDkv4l6R1JPy7pKOmXkl6TNEvSTWlZi3TWxN3A68A+afkdkl6XNF5S47RsmKRe6fECSTdI+jfQW1IPSXPT9z0zztkxnYUyI421ThnXdS7wckQ8VVIQES9GxGxJtSX9TdIb6Rid07H7pDNbngKek9RA0uj0+qZIapdxT/4qaYKk9yT9LCO+0ZKmSZojqV9adomk2zLa9JH0p/R4Zfqzk6QXJf0deCO9j7Mz+lwpaWB6/DNJb6Zxjcx28ZL6SZoqaerylevK+t2bmW3SLbfcQl5eHrfeeisPPvggeXl53HLLLTRu3JjHHnuMa6+9lvr16/PKK68wcuTX/znq0qULv/nNbzj55JNp0qQJ7777Ln//+99zeCVmZmZm2XlPjmokna1wIjAW+DfwvYgISRcDVwG/SJu2A74H7AZMl/QMcDCwP3AEIOBJSccD7wMHAH0j4tL0PLsBr0fELyTdANwIDMgSUmFEHJvOwngH6AK8C/wjo82VwGUR8ZKkfKCwjMs7GJhWRt1lABFxiKQ2JAmN76R1RwHtIuLzNBExPSJOk9QFGAF0SNu1AToDdYC3Jd0TEV8BP0z75gGvSXoMeBR4Ob2nAGcBv84S1xHAwRExX1KLMmIH+BXQMiLWSqqXrUFEDAWGArRpXs/zw81siwwcOJCBAwdmrevatStz584ts+8ll1zCJZdcso0iMzMzM9s6PJOjesiTNAOYSpKU+D+gGTBO0hvAL4G2Ge2fiIg1EbEUeJHky/gJ6Ws6yYyNNiRJD4CFETElo/96vk5UPAgcW0ZcJW3aAPMj4p1IFnA/mNHmJeD36eyJehFRtFlXnjgWeAAgIuYCC4GSJMfzEfF5lnb/AhpKKtkx75mIWJvek0+Akr0+fiZpJjCFZBbL/hHxKfCepO9JakiSBHopS1yvRsT8CsQ/C3hI0vnAlly/mZmZmZmZ4SRHdVGyJ0eHiPhpRKwD/gQMiYhDgJ8AtTPal54JECSzN36bMU7riPi/tH5VOecva2bBqvLaRMStwMVAHjAlnYmRzRzgsDLqVEZ56RiytSuJa21GWTFQU1InoCtwVES0J0kAldzHfwBnAmcAj0f23fcyz13Exn9vmb+Pk4E/k1zftMraP8TMzMzMzKy6cZKj+qoLLEqPLypVd2q6j0VDoBPwGjAO+GG6ZARJe0tqUsbYOwG90uNzSZbGbMpcoKWkVun7c0oqJLWKiDci4nckM1HKSnL8HTha0skZfXtIOgSYBJyXln0H2Bd4O8sYme06AUsjYkWWdiXqAssiYnWafPleRt0o4LT0Wv6RpW9pHwNNJDWUVAv4QRrHTsA+EfEiyfKXekB+BcYzMzMzMzOzUvwvxtXXQOCfkhaRLLVomVH3KsmTSvYFbo6IxcBiSQcCLyt5NOBK4HySWQ2lrQLaSpoGfEGyJ0WZIqIw3bTzGUlLSZIiB6fVV6QbhRYDbwLPljHGGkk/AP4g6Q/AVyTLPC4H7gbuTZfmFAF90v0tst2Tv0maBazmm8mf0sYC/dP2b5Pcx5J4lkl6EzgoIl4tZxwi4itJg4BXgPkkiR+AGsCD6bIZAXdGxPLyxjMzMzMzM7Nvkp9xv2NJn+ixMiJuz3UstmXaNK8X/3dtWdugmJlld0y/p3MdgpmZmdlWIWlaRBRkq/NyFTMzMzMzMzOrFjyTw7Yr6R4bD5QqXhsRR+Yinu1RQUFBTJ06NddhmJmZmZmZ5cSmZnJ4Tw7brkTEG0CHXMdhZmZmZmZmVY+Xq5iZmVUhQ4YMoaCggFq1atGnT5+N6saPH0+bNm3Ydddd6dy5MwsXLtxQFxFcffXVNGzYkIYNG3LVVVfh2ZxmZmZW3Xgmh1kVs2LpO7xw/0m5DsPMKlnXi8cAsNdee3Hdddcxbtw41qxZs6F+6dKl9OzZk/vvv59TTjmF66+/nrPOOospU5IHQw0dOpTRo0czc+ZMJNGtWzf2228/+vfvn5PrMTMzM9sWPJPDzMysCunZsyennXYaDRs23Kh81KhRtG3blt69e1O7dm0GDhzIzJkzmTs3eWL18OHD+cUvfkGzZs3Ye++9+cUvfsGwYcNycAVmZmZm246THGZmZtXAnDlzaN++/Yb3u+22G61atWLOnDlZ69u3b7+hzszMzKy6cJLDzMysGli5ciV169bdqKxu3bp8+eWXWevr1q3LypUrvS+HmZmZVStOcphtJZKaSXpC0juS5km6S1J3STPS10pJb6fH/5T0maS6pcYYLenMXF2DmVVd+fn5rFixYqOyFStWUKdOnaz1K1asID8/H0mVGqeZmZnZtuQkh9lWoORbwihgdETsD3wHyAe6RkSHiOgATAXOS9/3Bp4DTssYoy5wLPB0JYdvZtVA27ZtmTlz5ob3q1atYt68ebRt2zZr/cyZMzfUmZmZmVUXTnKYbR1dgMKI+BtARBQDPwd+KGnXMvo8DJyd8f50YGxErN6mkZpZlVZUVERhYSHFxcUUFxdTWFhIUVERp59+OrNnz+axxx6jsLCQQYMG0a5dO9q0aQPAhRdeyO9//3sWLVrE4sWLueOOO77xCFozMzOzqs5JDrOtoy0wLbMgIlYA7wOty+gzFjhMUskjEs4mSXyYmZXplltuIS8vj1tvvZUHH3yQvLw8brnlFho3bsxjjz3GtddeS/369XnllVcYOXLkhn4/+clPOOWUUzjkkEM4+OCDOfnkk/nJT36SwysxMzMz2/rkDcfMvj1JlwPNI+J/S5XPAC6IiDckTQCujIipGfX3A68BjwGzgX0i4qss4/cD+gE0aVD7sId+13lbXYqZbae6Xjwm1yGYmZmZbRckTYuIgmx1nslhtnXMATb6I5O0O7APMG8T/UqWrPQCnsiW4ACIiKERURARBXXr7LKVQjYzMzMzM6tenOQw2zrGA7tKuhBAUg3gDmBYOXtsvAjsD1yGl6qYmZmZmZl9K05ymG0Fkaz7Oh3oLekd4L9AIXBNOf3WkyxVaQhM2tZxmpmZmZmZVWc1cx2AWXURER8Ap2yivlMZ5ZcDl2+jsMzMzMzMzHYYnslhZmZmZmZmZtWCkxxmZmZmZmZmVi14uYpZFbN7o/39KEkzMzMzM7MsPJPDzMzMzMzMzKoFJznMzMzMzMzMrFpwksPMzKwKeOutt+jSpQt169aldevWPP744xvq7r//flq3bk1+fj49evRg8eLFOYzUzMzMLHcUEbmOwcw2w/4t6sadNxyd6zDMrJL84IfPUlRUxEEHHUT//v25/PLLmThxIqeccgrTp09nyZIl9O7dmxdffJH999+fyy+/nDfffJOJEyfmOnQzMzOzbULStIgoyFrnJIdZ1eIkh9mO5Qc/fJbZs2fzve99jy+//BJJAJxwwgkceeSRrFmzhjVr1vDnP/8ZgMWLF7P33nvz7rvv0qpVq1yGbmZmZrZNbCrJ4eUqZmZm27ls/yAREcyePZuI2Ki+5Hj27NmVFp+ZmZnZ9sJJDjMzs+1cmzZtaNKkCYMHD+arr77iueeeY+LEiaxevZqTTjqJRx55hFmzZrFmzRoGDRqEJFavXp3rsM3MzMwqnZMctkmSiiXNkDRT0uuSjk7LW0jaKv9MKGmCpG9MNUrL35Y0S9JcSUMk1dsa5/w2tuTaJfWRNCQ97i/pwm0TnZlVRzvvvDOjR4/mmWeeoWnTptxxxx2ceeaZNGvWjO9///vcdNNNnHHGGTRv3pwWLVpQp04dmjVrluuwzczMzCqdkxxWnjUR0SEi2gP/D/htJZ//vIhoB7QD1gJPbMuTSaq5LccHiIh7I2LEtj6PmVUv7dq1Y+LEiXz22WeMGzeO9957jyOOOAKAyy67jHfeeYdPPvmEM844g6KiIg4++OAcR2xmZmZW+ZzksM2xO7CsdKGk2pL+JukNSdMldS6nPE/SyHSGxj+AvPJOHBHrgKuAfSW1T8f5X0mz09cVaVkLSW9J+oukOZKek5SX1nWQNCU97+OS6qflEyT9RtJE4HJJvdMxZ0qatKm40hkaoySNlfSOpNsy6vpK+m867jEZ5QMlXZke/1jSa+m5HpO0a3n3wsx2TLNmzaKwsJDVq1dz++23s2TJEvr06UNhYeGGvTnef/99+vXrx+WXX079+vVzHbKZmZlZpXOSw8qTly5XmQvcD9ycpc1lABFxCHAOMFxS7U2UXwKsTmdo/Bo4rCKBREQxMBNoI+kwoC9wJPA94MeSDk2b7g/8OSLaAsuBM9LyEcDV6XnfAG7MGL5eRHSMiDuAG4Du6eyV/6lAaB2As4BDgLMk7SNpT+AmkuRGN+CgMvqOiojD03O9BfwoWyNJ/SRNlTT1i5XrKhCSmVU3DzzwAHvuuSdNmjRh/PjxPP/889SqVYvCwkLOPfdc8vPzOeKIIzjqqKO4+eZs/6k2MzMzq/62+dR8q/LWREQHAElHASMklZ4DfSzwJ4CImCtpIfCdTZQfD/wxLZ8ladZmxKOMcz4eEavS2EYBxwFPAvMjYkbabhrQQlJdkkTGxLR8OPDPjHH/kXH8EjBM0iPAqArEND4ivkjjeBNoDjQCJkTEp2n5P0iuvbSDJd0C1APygXHZThARQ4GhkDxCtgIxmVk1M3jwYAYPHvyN8nr16jFr1ub8Z9TMzMys+vJMDquwiHiZ5Mt741JVytJ8U+UAm/1FXVINktkSb5Uz9tqM42IqlsxbtSGwiP7AdcA+wAxJDcvpW9b5KnKNw4AB6WyXm4DaFehjZmZmZmZmWTjJYRUmqQ1QA/isVNUk4Ly0zXeAfYG3K1h+MMmmouWde2eSTU8/iIhZ6RinSdpV0m7A6cDksvqnMy2WSTouLboAmJitraRWEfFKRNwALCVJdmyuV4BOkhqmsfcuo10dYEna5rwtOI+ZmZmZmZmlvFzFypMnaUZ6LOCiiCiWNppIcTdwr6Q3gCKgT0SslVRW+T3A39JlKjOAVzdx/ockrQVqAS8ApwJExOuShmX0vT8ipktqsYmxLkrj2RV4j2RPj2wGS9o/vd7xJPuAbJaIWCJpIPAysAR4nSRBVNr1JAmRhST7hNTZ3HOZmZmZmZlZQhFe3m9Wlezfom7cecPRuQ7DzCrJD374bK5DMDMzM9uuSJoWEQXZ6rxcxczMzMzMzMyqBSc5zMzMzMzMzKxa8J4cZlVM3Ub7e/q6mZmZmZlZFp7JYWZmZmZmZmbVgpMcZmZm29Bbb71Fly5dqFu3Lq1bt+bxxx8HYMqUKXTr1o0GDRrQuHFjevfuzZIlS3IcrZmZmVnV5qermFUxrVrUjd/deFSuwzCzcvTqO5aioiIOOugg+vfvz+WXX87EiRM55ZRTmD59OvPmzWPlypV0796dmjVrMmDAABYvXszYsWNzHbqZmZnZdm1TT1fxnhxmZmbbyNy5c1m8eDE///nPkUSXLl045phjeOCBB7j55ps3ajtgwAA6duyYo0jNzMzMqgcvVzEzM9tGss2WjAhmz579jfJJkybRtm3bygjLzMzMrNpyksPMzGwbadOmDU2aNGHw4MF89dVXPPfcc0ycOJHVq1dv1G7WrFkMGjSIwYMH5yhSMzMzs+rBSQ6r0iQ1lTRS0jxJb0oaI+k7WzBOgaQ/llG3QFKjMsrfSF9vSrpFUq1yzlNP0qWbG5+ZVU0777wzo0eP5plnnqFp06bccccdnHnmmTRr1mxDm3fffZcTTzyRu+66i+OOOy6H0ZqZmZlVfU5yWJUlScDjwISIaBURBwHXAHts7lgRMTUifrYFYXSOiEOAI4D9gKHltK8HOMlhtgNp164dEydO5LPPPmPcuHG89957HHHEEQAsXLiQrl27cv3113PBBRfkOFIzMzOzqs9JDqvKOgNfRcS9JQURMSMiJisxWNLsdKbFWQCS/iHppJL2koZJOkNSJ0lPp2UNJT0nabqk+wCVF0hErAT6A6dJaiApX9J4Sa+n5z81bXor0ErSjDS+stqZWTUxa9YsCgsLWb16NbfffjtLliyhT58+LFq0iC5dunDZZZfRv3//XIdpZmZmVi04yWFV2cHAtDLqegIdgPZAV2CwpD2BkUBJwmMX4PvAmFJ9bwT+HRGHAk8C+1YkmIhYAcwH9gcKgdMj4rskyZg70pknvwLmRUSHiPjlJtqZWTXxwAMPsOeee9KkSRPGjx/P888/T61atbj//vt57733uOmmm8jPz9/wMjMzM7Mt5ySHVVfHAg9HRHFEfAxMBA4HngW6pHtnnAhMiog1pfoeDzwIEBHPAMs247zK+PkbSbOAF4C9yb6MpkLtJPWTNFXS1BUr121GOGaWa4MHD2bZsmWsXLmSZ599ltatWwNw4403EhGsXLlyo5eZmZmZbTknOawqmwMcVkZd1tkQEVEITAC6k8zoGFlG/28+97EckuoALYD/AucBjYHDIqID8DFQO0u3CrWLiKERURARBbvn77K5oZmZmZmZme0QnOSwquxfQC1JPy4pkHS4pI7AJOAsSTUkNSaZnfFq2mwk0Bc4DhiXZdxJJMkHJJ0I1C8vEEn5wN3A6IhYBtQFPomIryR1BpqnTb8E6mR0LaudmZmZmZmZbaaauQ7AbEtFREg6HfiDpF+R7G+xALiCJFFxFDCTZFbGVRHxUdr1OWAE8GREZFv7cRPwsKTXSZa5vL+JMF5M99DYieRJLzen5Q8BT0maCswA5qYxfybpJUmzSZbO/C5bOzMzMzMzM9t8itjsWflmlkOtWtSN3914VK7DMLNy9Oo7NtchmJmZmVVLkqZFREG2Oi9XMTMzMzMzM7NqwUkOMzMzMzMzM6sWvCeHWRVTv9H+ngZvZmZmZmaWhWdymJmZmZmZmVm14CSHmZmZmZmZmVULTnKYmZltZW+99RZdunShbt26tG7dmscffxyAdevW0atXL1q0aIEkJkyYkNtAzczMzKoZ78lhVsV8/tk7PDise67DMLMszu8zjqKiIk499VT69+/P888/z8SJEznllFOYPn06LVq04Nhjj+WKK66gd+/euQ7XzMzMrNrxTA4zM7OtaO7cuSxevJif//zn1KhRgy5dunDMMcfwwAMPsMsuu3DFFVdw7LHHUqNGjVyHamZmZlbtOMlhZma2FUVE1rLZs2fnIBozMzOzHYuTHGZmZltRmzZtaNKkCYMHD+arr77iueeeY+LEiaxevTrXoZmZmZlVe05yWKWTdLqkkNQmo6yFpDWSZkiaKek/kg5I6/aQ9HRa/qakMZsY+0JJsyXNSdtemZYPkzQ/HX+upBsz+kyQNDXjfYGkCVnGbpHG/dOMsiGS+nzbe2Jm1cfOO+/M6NGjeeaZZ2jatCl33HEHZ555Js2aNct1aGZmZmbVnpMclgvnAP8Gzi5VPi8iOkREe2A4cE1aPgh4PiLaR8RBwK+yDSrpROAK4ISIaAt8F/gio8kvI6ID0AG4SFLLjLomaf/yfAJcLmmXCrQ1sx1Uu3btmDhxIp999hnjxo3jvffe44gjjsh1WGZmZmbVnpMcVqkk5QPHAD/im0mOTLsDy9LjPYEPSyoiYlYZff4fcGVELE7bFUbEX7K0q53+XJVRNhi4rtwLgE+B8cBFpSsktZI0VtI0SZMltZFUQ9J7StSTtF7S8Wn7yZJaS+qYzjCZIWm6pDoViMPMtmOzZs2isLCQ1atXc/vtt7NkyRL69OkDwNq1ayksLASSR8oWFhZm3cfDzMzMzDafkxxW2U4DxkbEf4HPJX03o65V+kV/HvC/wO/T8j8D/yfpRUnXStqrjLEPBqZt4tyDJc0gSZiMjIhPMupeBtZK6lyBa7gV+IWk0o9GGAr8NCIOA64E7o6IYuC/wEHAsWl8x0mqBTSLiHfTtpels0yOA9aUPqGkfpKmSpq64st1FQjRzHLpgQceYM8996RJkyaMHz+e559/nlq1agFwwAEHkJeXx6JFi+jevTt5eXksXLgwxxGbmZmZVQ9OclhlOwcYmR6PTN+XKFmu0opk2clQgIgYB+wH/AVoA0yX1HgLzl2yXKUp8H1JR5eqv4UKzOaIiPnAq8C5JWXpDJWjgX+miZT7SGagAEwGjk9fvyVJdhwOvJbWvwT8XtLPgHoRUZTlnEMjoiAiCnav45UyZtu7wYMHs2zZMlauXMmzzz5L69atN9QtWLCAiNjo1aJFi9wFa2ZmZlaNOMlhlUZSQ6ALcL+kBcAvgbMkKUvzJ0mSAgBExOcR8feIuIAkOXC8pF+XLPNIm80BDisvjohYCUwgSTZklv+LZCnL9ypwOb8Brubrv6GdgOVpkqbkdWBaN5lkhsYRwBigHtAJmJSe91bgYiAPmJK5IauZmZmZmZlVnJMcVpl6ASMionlEtIiIfYD5lEo2pI4F5gFI6iJp1/S4DtAKeD8iri1JKKR9fgvcJqlp2rZWOjtiI5JqAkeWjF/Kr4GryruQiJgLvAn8IH2/ApgvqXd6DklqnzZ/hWSWx/qIKARmAD8hSX4gqVVEvBERvwOmksxWMTMzMzMzs83kJIdVpnOAx0uVPcbXyz5K9uSYSTJT4uK0/DBgqqRZJHtn3B8Rr5Uah4gYQ7J/xwuS5pDsf1Ezo0nJnhyzgDeAUWWM8WkFr+fXQOYzIc8DfpTGPwc4NR1zLfABMCVtNxmok8YAcEX62NuZJPtxPFvB85uZmZmZmVkGeUd3s6plv5Z1Y9CNFVlRY2aV7fw+43IdgpmZmVm1J2laRBRkq/NMDjMzMzMzMzOrFpzkMDMzMzMzM7NqoWb5Tcxse9Kg4f6eEm9mZmZmZpaFZ3KYmZmZmZmZWbXgJIeZmdkWWLBgASeddBL169enadOmDBgwgKKiIgAeeeQRDjzwQOrUqcNBBx3E6NGjcxusmZmZ2Q7Cy1XMqpiln73D/43onuswzHZYP7owWS526aWX0qRJE5YsWcLy5cvp1q0bd999N2eccQbnn38+TzzxBD169GDMmDH07t2bBQsW0KRJkxxHb2ZmZla9eSaHmZnZFpg/fz5nnnkmtWvXpmnTpvTo0YM5c+bw4YcfUq9ePU488UQkcfLJJ7Pbbrsxb968XIdsZmZmVu05yWFmZrYFLr/8ckaOHMnq1atZtGgRzz77LD169KCgoIADDzyQJ598kuLiYkaPHk2tWrVo165drkM2MzMzq/a8XMXMzGwLdOzYkb/85S/svvvuFBcXc9FFF3HaaachiQsvvJBzzz2XwsJCdtllF/75z3+y22675TpkMzMzs2rPMzms0kgKSQ9kvK8p6VNJT2/l87SRNEPSdEmtJP2ngv0WSHos430vScO2ZmxZzjlMUq9teQ4z2/rWr19P9+7d6dmzJ6tWrWLp0qUsW7aMq6++mhdeeIGrrrqKCRMmsG7dOiZOnMjFF1/MjBkzch22mZmZWbXnJIdVplXAwZLy0vfdgEXb4DynAU9ExKERMS8iji7dQFKNMvoWSGq7DWIys2rk888/54MPPmDAgAHUqlWLhg0b0rdvX8aMGcOMGTM4/vjjKSgoYKedduLwww/nyCOP5IUXXsh12GZmZmbVnpMcVtmeBU5Oj88BHi6pkDRQ0pUZ72dLaiFpN0nPSJqZlp2V1t8g6bW0bKgSJwFXABdLejFttzL92UnSi5L+DrxRRny3A9eULpR0hKT/pLND/iPpgLS8j6TRkp6SNF/SAEn/m7abIqlB2u7HaawzJT0madeM4Y9Px3zPszrMqoZGjRrRsmVL7rnnHoqKili+fDnDhw+nffv2HH744UyePHnDzI3p06czefJk78lhZmZmVgmc5LDKNhI4W1JtoB3wSgX69AAWR0T7iDgYGJuWD4mIw9OyPOAHETEGuBe4MyI6ZxnrCODaiDiojHM9AnxXUutS5XOB4yPiUOAG4DcZdQcD56Zj/xpYnbZ7GbgwbTMqjbU98Bbwo4z+ewLHAj8Abt3knTCz7caoUaMYO3YsjRs3pnXr1tSsWZM777yTjh07MnDgQHr16kWdOnU444wzuOaaazjhhBNyHbKZmZlZteeNR61SRcQsSS1IZnGMqWC3N4DbJf0OeDoiJqflnSVdBewKNADmAE+VM9arETF/E/XFwGDg/5HMOilRFxguaX8ggJ0z6l6MiC+BLyV9kRHDGySJHEiW6dwC1APygXEZ/UdHxHrgTUl7ZAtKUj+gH0CDhrXLuUQzqwwdOnRgwoQJWesGDBjAgAEDKjcgMzMzM/NMDsuJJ0mWhTxcqryIjT+TtQEi4r/AYSRJg9+my1RqA3cDvSLiEOAvJe3LsaoCbR4Ajgf2zSi7mSSZcTBwSqlzrc04Xp/xfj1fJxKHAQPSWG/aRH9lCygihkZEQUQU1KmzSwUuwczMzMzMbMfjJIflwl+BQRFRel+MBcB3ASR9F2iZHu9FsgTkQZLkyHf5OkmwVFI+sNX2soiIr4A7Sfb2KFGXrzdJ7bMFw9YBlkjaGTjv28RnZmZmZmZm2TnJYZUuIj6MiLuyVD0GNJA0A7gE+G9afgjwalp+LXBLRCwnmb3xBjAaeG0rh/l/bLyc6zaSWSQvAWU9mWVTrifZf+R5kv09zMzMzMzMbCtTROQ6BjPbDC1a1o3rb/persMw22H96MJx5TcyMzMzs21G0rSIKMhW55kcZmZmZmZmZlYtOMlhZmZmZmZmZtWCHyFrVsU0ari/p8ubmZmZmZll4ZkcZmZmZmZmZlYtOMlhZmZmZmZmZtWCkxxmZmYVtGDBAk466STq169P06ZNGTBgAEVFRTz00EPk5+dveO26665IYtq0abkO2czMzGyH4kfImlUx++5XN64e5EfImlWmy85P9sE56aSTaNKkCffeey/Lly+nW7du/PjHP+ZnP/vZRu2HDRvGzTffzLvvvoukXIRsZmZmVm35EbJmZmZbwfz58znzzDOpXbs2TZs2pUePHsyZM+cb7YYPH86FF17oBIeZmZlZJXOSw8zMrIIuv/xyRo4cyerVq1m0aBHPPvssPXr02KjNwoULmTRpEhdeeGGOojQzMzPbcTnJYWZmVkEdO3Zkzpw57L777jRr1oyCggJOO+20jdqMGDGC4447jpYtW+YmSDMzM7MdmJMcViVIWlnq/c8lFUqqm1HWSVJIOiWj7GlJndLjH0iaLmmmpDcl/aTUmH0lzUhf6yS9kR7fupWvpY+kvbbmmGa27a1fv57u3bvTs2dPVq1axdKlS1m2bBlXX331Ru1GjBjBRRddlKMozczMzHZsTnJYVXUO8BpweqnyD4FrSzeWtDMwFDglItoDhwITMttExN8iokNEdAAWA53T97/ayrH3AZzkMKtiPv/8cz744AMGDBhArVq1aNiwIX379mXMmDEb2rz00kssXryYXr165TBSMzMzsx2XkxxW5UhqBeQD15EkOzLNBL6Q1K1UeR2gJvAZQESsjYi3K3CuqyT9LD2+U9K/0uPvS3owPT5B0suSXpf0T0n5aflhkiZKmiZpnKQ9JfUCCoCH0lkieZJuTWeWzJJ0+5beFzPbtho1akTLli255557KCoqYvny5QwfPpz27dtvaDN8+HDOOOMM6tSpk8NIzczMzHZcTnJYVXQO8DAwGThAUpNS9beQJEA2iIjPgSeBhZIelnSepIp8/icBx6XHBUB+OivkWGCypEbpubpGxHeBqcD/pm3+BPSKiMOAvwK/johH0zbnpTNG8khmo7SNiHZp7N8gqZ+kqZKmrlyxrgJhm9m2MGrUKMaOHUvjxo1p3bo1NWvW5M477wSgsLCQRx55xEtVzMzMzHKoZq4DMNsCZwOnR8R6SaOA3sCfSyojYrIkJB2X2SkiLpZ0CNAVuBLoRrJ0ZFOmAYdJqgOsBV4nSXYcB/wM+B5wEPBS+qjIXYCXgQOAg4Hn0/IawJIs468ACoH7JT0DPJ0tiIgYSrLchn33qxvlxGxm20iHDh2YMGFC1rratWuzfPnySo3HzMzMzDbmJIdVKZLaAfvzdfJgF+A9MpIcqV+T7M1RlFkYEW8Ab0h6AJhPOUmOiPhK0gKgL/AfYBbQGWgFvJX+fD4iNlo2kyZT5kTEUeWMXyTpCOD7JMmbAUCXTfUxMzMzMzOz7Lxcxaqac4CBEdEife0F7C2peWajiHgOqA+0B5CUX/KUlVQHYGEFzzmJZObHJJIlMv2BGRERwBTgGEmt0/PsKuk7wNtAY0lHpeU7S2qbjvclyR4hpPt31I2IMcAVaVxmZmZmZma2BZzksKrmbODxUmWPp+Wl/Rpolh4LuErS25JmADdR/lKVEpOBPYGXI+JjkuUlkwEi4tN0nIclzSJJerSJiHVAL+B3kmYCM4Cj0/GGAfemcdQBnk77TgR+XsGYzMzMzMzMrBQl/xhtZlXFvvvVjasHfS/XYZjtUC47f1yuQzAzMzOzlKRpEVGQrc4zOczMzMzMzMysWnCSw8zMzMzMzMyqBT9dxayKadJgf0+dNzMzMzMzy8IzOczMzMzMzMysWnCSw8zMdkgLFizgpJNOon79+jRt2pQBAwZQVFTElClT6NatGw0aNKBx48b07t2bJUuW5DpcMzMzM6sAP13FrIrZZ7+6cfmv/XQVsy115TnJcq+TTjqJJk2acO+997J8+XK6devGj3/8Y/bff39WrlxJ9+7dqVmzJgMGDGDx4sWMHTs2x5GbmZmZGWz66Srek8PMzHZI8+fPZ8CAAdSuXZumTZvSo0cP5syZw89+9rON2g0YMICOHTvmKEozMzMz2xxermJmZjukyy+/nJEjR7J69WoWLVrEs88+S48ePb7RbtKkSbRt2zYHEZqZmZnZ5nKSw8zMdkgdO3Zkzpw57L777jRr1oyCggJOO+20jdrMmjWLQYMGMXjw4NwEaWZmZmabxUkOs21E0umSQlKb9H2L9P1PM9oMkdQnPR4mqVeOwjXboaxfv57u3bvTs2dPVq1axdKlS1m2bBlXX331hjbvvvsuJ554InfddRfHHXdcDqM1MzMzs4pyksNs2zkH+DdwdkbZJ8DlknbJTUhmBvD555/zwQcfMGDAAGrVqkXDhg3p27cvY8aMAWDhwoV07dqV66+/ngsuuCDH0ZqZmZlZRTnJYbYNSMoHjgF+xMZJjk+B8cBFuYjLzBKNGjWiZcuW3HPPPRQVFbF8+XKGDx9O+/btWbRoEV26dOGyyy6jf//+uQ7VzMzMzDaDkxxm28ZpwNiI+C/wuaTvZtTdCvxCUo2cRGZmAIwaNYqxY8fSuHFjWrduTc2aNbnzzju5//77ee+997jpppvIz8/f8DIzMzOz7Z8fIWu2bZwD/CE9Hpm+/zNARMyX9CpwbkUHk9QP6AdQr1HtrRqo2Y6qQ4cOTJgw4RvlN954IzfeeGPlB2RmZmZm35qTHGZbmaSGQBfgYEkB1AACuDuj2W+AR4FJFRkzIoYCQwH22a9ubNWAzczMzMzMqgkvVzHb+noBIyKieUS0iIh9gPlAs5IGETEXeBP4QY5iNDMzMzMzq3ac5DDb+s4BHi9V9hhwTamyX5OR+DAzMzMzM7Nvx8tVzLayiOiUpeyPwB9Llc0kI9EYEX22dWxmZmZmZmbVmWdymJmZmZmZmVm14CSHmZmZmZmZmVULXq5iVsXs0WB/rjxnXK7DMDMzMzMz2+54JoeZmZmZmZmZVQtOcpiZmZmZmZlZteAkh5mZ7VAWLFjASSedRP369WnatCkDBgygqKiIdevW0atXL1q0aIEkJkyYkOtQzczMzGwzeU8Osypm8bJ3GPhI91yHYVblDDwz2cvm0ksvpUmTJixZsoTly5fTrVs37r77bvr378+xxx7LFVdcQe/evXMcrZmZmZltCSc5zMxshzJ//nwGDBhA7dq1adq0KT169GDOnDnssssuXHHFFQDUqFEjt0GamZmZ2RbxchUzM9uhXH755YwcOZLVq1ezaNEinn32WXr06JHrsMzMzMxsK3CSw8zMdigdO3Zkzpw57L777jRr1oyCggJOO+20XIdlZmZmZluBkxy2SZJ+K6mTpNMk/SotGyap12aOs0BSo/T4PxVoXyxpRsarRQX7bThPqfJOko6uQP8jJE2S9LakuZLul7Rref3MrGpYv3493bt3p2fPnqxatYqlS5eybNkyrr766lyHZmZmZmZbgZMcVp4jgVeAjsDkrTFgRJSbbADWRESHjNeCCvYrSydgk/0l7QH8E7g6Ig4ADgTGAnUqcgJJ3uPGbDv3+eef88EHHzBgwABq1apFw4YN6du3L2PGjMl1aGZmZma2FTjJYVlJGixpFnA48DJwMXCPpBtKtVsg6SZJr0t6Q1KbtLyhpOckTZd0H6CMPivTn/mSxmf0PbWcmEr67STpbklzJD0taUypmSU/zYxHUgugP/DzdFbIcZJ6S5otaaakSWm/y4DhEfEyQCQejYiPJTWQNFrSLElTJLVLYxkoaaik54ARkpqn1zQr/blv2m6YpD9K+o+k90ri3dx7YGbfTqNGjWjZsiX33HMPRUVFLF++nOHDh9O+fXsA1q5dS2FhIQDr1q2jsLCQiMhlyGZmZma2GZzksKwi4pckiY1hJImOWRHRLiIGZWm+NCK+C9wDXJmW3Qj8OyIOBZ4E9s3SrxA4Pe3bGbhDUkkyJC9jqcrjpfr1BFoAh6QxHrWpeCJiAXAvcGc6K2QycAPQPSLaA/+T9jsYmFbGLbkJmB4R7YBrgBEZdYcBp0bEucAQYETa7iHgjxnt9gSOBX4A3FqBe7CBpH6SpkqaunrFujJCNLOKGDVqFGPHjqVx48a0bt2amjVrcueddwJwwAEHkJeXx6JFi+jevTt5eXksXLgwxxGbmZmZWUV5er1tyqHADKAN8OYm2o1Kf04jSUAAHF9yHBHPSFqWpZ+A30g6HlgP7A3sAXxEulyljPMdC/wzItYDH0l6sQLxlPYSMEzSIxntN+VY4Iz0ev6VzlSpm9Y9GRFr0uOjMs75AHBbxhij05jfTJfGwKbvwQYRMRQYCrBXq7r+Z2Wzb6FDhw5MmDAha92CBQsqNRYzMzMz27qc5LBvkNSBZAZHM2ApsGtSrBl8c9YEwNr0ZzEbf6bK+zJ+HtAYOCwivpK0AKhdkRDLqS8rnq8Di+gv6UjgZGBGes1zSGZlPFHBc5Zc36pNxJJ5D9ZmHJeMt6X3wMzMzMzMzErxchX7hoiYkc6i+C9wEPAvkqUdHTJmLJRnEskXeCSdCNTP0qYu8En65b4z0LyCY/8bOCPdm2MPkk1Fy/MlGRuISmoVEa9ExA0kiZx9SJaaXJQmP0ranS+paanr6USyJGZFlvP8Bzg7PT4vjXVTtvQemJmZmZmZWSmeyWFZSWoMLIuI9ZLaRMSmlqtkcxPwsKTXgYnA+1naPAQ8JWkqybKYuRUc+zHg+8BskkTMK8AX5fR5Cng03djzpySbkO5PMqNiPDAzIkLS2cDtkpqQLB+ZRLKcZSDwt3Qz1tXARWWc52fAXyX9EvgU6FtOXFt6D8zMzMzMzKwUedd4q4ok5UfESkkNgVeBYyLio/L6VQd7taob/X77vVyHYVblDDxzXK5DMDMzM7OtQNK0iCjIVueZHFZVPS2pHrALcPOOkuAwMzMzMzOzsjnJYVVSRHTKdQxmZmZmZma2fXGSw6yK2av+/p52b2ZmZmZmloWfrmJmZmZmZmZm1YKTHGZmVu0tWLCAk046ifr169O0aVMGDBhAUVERAOPHj6dNmzbsuuuudO7cmYULF+Y4WjMzMzPbUl6uYlbFfLDsHa54rEeuwzCrEv5wxlgALr30Upo0acKSJUtYvnw53bp14+677+bcc8+lZ8+e3H///Zxyyilcf/31nHXWWUyZMiXHkZuZmZnZlvBMDjMzq/bmz5/PmWeeSe3atWnatCk9evRgzpw5jBo1irZt29K7d29q167NwIEDmTlzJnPnzs11yGZmZma2BZzkMDOzau/yyy9n5MiRrF69mkWLFvHss89uSHS0b99+Q7vddtuNVq1aMWfOnBxGa2ZmZmZbykkOMzOr9jp27MicOXPYfffdadasGQUFBZx22mmsXLmSunXrbtS2bt26fPnllzmK1MzMzMy+DSc5qihJDSXNSF8fSVqUHi+X9Oa3GLePpPWS2mWUzZbUYqsEnow3UNKVm9lngqSC9HiMpHpbIY4+kj7NuI8zJB30bcc1s+3L+vXr6d69Oz179mTVqlUsXbqUZcuWcfXVV5Ofn8+KFSs2ar9ixQrq1KmTo2jNzMzM7NtwkqOKiojPIqJDRHQA7gXuTI87AOu/5fAfAtd+yzG2mYg4KSKWb6Xh/lFyH9PXFieIAJTw35XZduTzzz/ngw8+YMCAAdSqVYuGDRvSt29fxowZQ9u2bZk5c+aGtqtWrWLevHm0bds2hxGbmZmZ2Zbyl7HqqYakv0iaI+k5SXkAklpJGitpmqTJktqU0f9poK2kA0pXSDpB0suSXpf0T0n5ko6QNCqtP1XSGkm7SKot6b1NBZrO0PidpFcl/VfScWl5nqSRkmZJ+geQl9FngaRG6fHo9HrmSOqX0WalpF9LmilpiqQ9KnrzJJ0u6YU0YbFnGlfTdObHE+k9fFvSjWn7FpLeknQ38Dqwj6RfSnotjf+mtN1ukp5JY5ot6ay0/FZJb6Ztb69onGZWMY0aNaJly5bcc889FBUVsXz5coYPH0779u05/fTTmT17No899hiFhYUMGjSIdu3a0aZNWf95NDMzM7PtmZMc1dP+wJ8joi2wHDgjLR8K/DQiDgOuBO4uo/964DbgmszCNLFwHdA1Ir4LTAX+l+SL/aFps+OA2cDhwJHAKxWIt2ZEHAFcAdyYll0CrI6IdsCvgcPK6PvD9HoKgJ9JapiW7wZMiYj2wCTgx2X0P6vUcpW8iHgc+Ai4DPgLcGNEfJS2PwI4j2TGTO+SJTTAAcCIiDg0Pd4/bdsBOEzS8UAPYHFEtI+Ig4GxkhoApwNt02u9pQL3y8w206hRoxg7diyNGzemdevW1KxZkzvvvJPGjRvz2GOPce2111K/fn1eeeUVRo4cmetwzczMzGwL1cx1ALZNzI+IGenxNKCFpHzgaOCfkkra1drEGH8HrpXUMqPse8BBwEvpGLsAL0dEkaR3JR1I8sX+98DxQA1gcgXiHZUZa3p8PPBHgIiYJWlWGX1/Jun09HgfkuTCZ8A6khkpJeN2K6P/PyJiQJbyn5Ika6ZExMMZ5c9HxGcA6eyVY4HRwMKImJK2OSF9TU/f56dxTQZul/Q74OmImCypJlAI3C/pmYyYN5LOUukHUKdR7TIuxczK0qFDByZMmJC1rmvXrn5krJmZmVk14SRH9bQ247iYZKnHTsDydN+OcqWJizuAqzOKRfIl/5wsXSYDJwJfAS8Aw0iSHBXZYLQk3mI2/kzGpjpJ6gR0BY6KiNWSJgAlGYCvIqKkf+lxK2Jvkhkte0jaKSJK9jkpHVPJ+1WZoQG/jYj7ssR8GHAS8FtJz0XEIElHAN8HzgYGAF1K94uIoSQzcdijVd1N3hczMzMzM7MdlZer7CAiYgUwX1Jv2LBBZvtyug0jSSI0Tt9PAY6R1DodY1dJ30nrJpEsN3k5Ij4FGgJtgDlbGPIkkmUhSDoYaJelTV1gWZrgaEMy0+RbS2dX/A04F3iLZElOiW6SGqT7nJwGvJRliHHAD9PZM0jaW1ITSXuRLMF5ELgd+G7apm5EjCG5fx22xjWYmZmZmZntiDyTY8dyHnCPpOuAnYGRwMyyGkfEOkl/BO5K338qqQ/wsKSSpS7XAf8l2XtjD5LkBMAs4JOM2RSb6x7gb+kylRnAq1najAX6p23eJknCbK6zJB2b8f5SksTO5HQ5yQzgtXQpCcC/gQeA1sDfI2KqSj1eNyKeS5fuvJwu61kJnJ/2GSxpPcmMl0uAOsATkmqTzAD5+RZcg5mZmZmZmQHa8u+gZjuWNMFTUMYeHpVmj1Z145zbjsplCGZVxh/OGJvrEMzMzMxsK5M0LSIKstV5uYqZmZmZmZmZVQtermJWQRExjGSfEjMzMzMzM9sOOclhVsXsU39/T8E3MzMzMzPLwstVzMzMzMzMzKxacJLDzMzMzMzMzKoFJznMzGy7kp+fv9GrRo0a/PSnPwVgypQpdOvWjQYNGtC4cWN69+7NkiVLchyxmZmZmW0v/AhZsyqmQeu60fUOP0LWqqdHTt14v5lVq1axxx57MGbMGI4//nieffZZVq5cSffu3alZsyYDBgxg8eLFjB3rfWrMzMzMdhSbeoSsNx41M7Pt1qOPPkqTJk047rjjADjxxBM3qh8wYAAdO3bMRWhmZmZmth3ychUzM9tuDR8+nAsvvBBJWesnTZpE27ZtKzkqMzMzM9teeSaHmZltl95//30mTpzI//3f/2WtnzVrFoMGDeKJJ56o5MjMzMzMbHvlmRxW6SQVS5ohaY6kmZL+V9J281mUNFDSlaXKFkhqtJXGHyapV5byTpL+P3t3H2dVWe5//PMVgQFmAmwmU0ixQRkYA1QeVFDBMLIjKQpamaJFHE+imcc8KSJIdhJ78AHiJNGD9KNQwdCUREMRfEABGZ6MUlRKNJGEEGIU8Pr9sdbgZtgzzODAZobv+/Xar1n7vu91r2vtwVfta677Xg/VxTXMGoLJkyfTu3dvjjrqqF36Xn75Zc4880zuuOOOHUtZzMzMzMz2my+WdkDZEhFdI6IUOAP4AjAqxzHVKUmNch2DWX03efJkhgwZskv76tWr6devHyNHjuSiiy7KQWRmZmZmtr9yksNyKiLWAsOA4Uo0kvRDSQskLZX0nxVjJV0raVla/XFL2tZe0p/SthckFUvKlzQ7fb9M0tnp2HaS/izp52kVyaOSmtU2ZklflfR8Wo1yV0VCQ9ImSWMkPQecJOnG9D6WS5qoLJsKSPq8pJWSngLO3bNP0azheeaZZ1izZg2DBw/eqX3NmjWcfvrpXH755Vx22WU5is7MzMzM9ldOcljORcQrJP8WPwF8HfhXRHQHugPfkHSUpDOBc4CeEdEFuDU9fQrw07TtZOBNoBwYGBHHA32BH2ckGI5Ox5cCG4Dzqgjr22kSo0xSGXA4gKSOwAVAr4joCmwHLkzPaQEsj4ieEfEUMD4iukfEsUAz4KzMC0jKA34ODABOAT5Z1WckaZikhZIWvrfx/aqGmTUYd999N+eeey4FBQU7tU+aNIlXXnmFm266ifz8/B0vMzMzMzPwxqO2/6hIQnwO6JyxZ0VLksREP+BXEfFvgIh4R1IB0CYifp+2lQNIagz8r6RTgQ+ANsCh6XyvRkRZerwIaFdFPLdFxI92BCe9lh5+FjgBWJDmTZoBa9O+7cD0jDn6SroWaA4cAqwA/pDRX5LG81J6jf9HUtWyi4iYCEwEOKR9y6giZrMG46677sraPmrUKEaNalCr28zMzMysDjnJYTkn6dMkCYK1JMmOKyJiVqUxnwcqf7nP/kzJpLKiCDghIramCYq8tO+9jHHbSZIUtQoXuDsirsvSVx4R29N484AJQLeI+Luk0RkxZHLCwszMzMzMrI54uYrllKQi4GckSzsCmAX8V1qNgaRjJLUAHgW+Jql52n5IRGwEXpd0TtrWNO1vCaxNExx9gSPrMOTZwCBJn6iIQ1K2+SsSGusk5QO7PE0FWAkcJak4ff/lOozTzMzMzMzsgONKDsuFZuk+F42BbcBvgJ+kfZNIlpC8kO6j8TZwTkQ8IqkrsFDS+8BM4HrgIuAuSWOArcBgkn06/iBpIVBGkkyoExHxoqQbgEfTx95uBS4HVlcat0HSz4FlwGvAgixzlUsaBjwsaR3wFHBsXcVqZmZmZmZ2oFHyx3Mzqy8Oad8y+v34pFyHYbZX3Hv2I7kOwczMzMz2c5IWRUS3bH1ermJmZmZmZmZmDYKTHGZmZmZmZmbWIHhPDrN65tOtjnZJv5mZmZmZWRau5DAzMzMzMzOzBsFJDjMz26/k5+fv9GrUqBFXXHEFAPPnz+eMM87gkEMOoaioiMGDB/Pmm2/mOGIzMzMz21/46Spm9UzL9oVx8o/PznUYZnvFH8/+xU7vN2/ezKGHHsrMmTM59dRT+eMf/8imTZvo378/Bx98MMOHD+eNN97gkUe8hMvMzMzsQFHd01W8J4eZme23pk2bxic+8QlOOeUUAM4888yd+ocPH85pp52Wi9DMzMzMbD/k5SpmZrbfuvvuu7n44ouRlLV/7ty5lJaW7uOozMzMzGx/5UoOMzPbL/3tb3/jySef5Be/+EXW/qVLlzJmzBgeeOCBfRyZmZmZme2vXMlhlpIUkn6c8f4aSaPT49GS1kgqy3i1krRYUtd0zMGSNkv6asYciyQdL+lQSQ9JWiLpRUkzM8aMlbQ8fV2w7+7YbP82efJkevfuzVFHHbVL38svv8yZZ57JHXfcsWMpi5mZmZmZkxxmH3oPOFdSYRX9t0VE14zXBuAZ4OS0vwvwl4r3kloAnwaWAGOAxyKiS0R0Ar6bjvkP4HigK9AT+I6kj+2NmzOrbyZPnsyQIUN2aV+9ejX9+vVj5MiRXHTRRTmIzMzMzMz2V05ymH1oGzAR+HYtznmaD5McJwM/I0lYAPQAXoiI7cBhwOsVJ0XE0vSwE/BkRGyLiM0kCZHP7+kNmDUUzzzzDGvWrGHw4ME7ta9Zs4bTTz+dyy+/nMsuuyxH0ZmZmZnZ/spJDrOd/RS4UFLLLH3fzliq8kTallnJcTIwF3hPUkH6/umMeX8h6QlJIyQdnrYvAc6U1DytIOkLfGov3JdZvXL33Xdz7rnnUlBQsFP7pEmTeOWVV7jpppvIz8/f8TIzMzMzA288araTiNgoaTJwJbClUvdtEfGjSuNfk9RE0ieBEpLlKgtIlp6cDIxLx82S9GmSKo0zgcWSjo2IRyV1J0mWvA08S1JRshNJw4BhAHlFLersfs32V3fddVfW9lGjRjFq1Kh9HI2ZmZmZ1Reu5DDb1e3A14GaZhOeBQYBb0ZEAPOBXiTLVeZXDIqIdyLitxFxEUki5NS0/fvpHh9nAAJeqnyBiJgYEd0ioluTj+Xt+Z2ZmZmZmZk1YE5ymFUSEe8A95IkOmriaZJ9PJ5N3z8LXAz8I92cFEmnS2qeHhcAxcDfJDWS9PG0vTPQGXi0jm7FzMzMzMzsgOIkh1l2PwYqP2Ulc0+OMknt0vanSZ6i8ixARLwJNCJZglLhBGChpKXpuEkRsQBoDMyT9CLJpqdfjYhdlquYmZmZmZnZ7imprjez+qJl+8I4+cdn5zoMs73ij2f/ItchmJmZmdl+TtKiiOiWrc+VHGZmZmZmZmbWIDjJYWZmZmZmZmYNgh8ha1bPHN2qnUv6zczMzMzMsnAlh5mZmZmZmZk1CE5ymJmZmZmZmVmD4CSHmZntV/Lz83d6NWrUiCuuuAKA+fPnc8YZZ3DIIYdQVFTE4MGDefPNN3McsZmZmZntL/wIWbN6pmX7T0avHw3JdRhme8XMc8bu9H7z5s0ceuihzJw5k1NPPZU//vGPbNq0if79+3PwwQczfPhw3njjDR555JEcRWxmZmZm+1p1j5D1xqNmZrbfmjZtGp/4xCc45ZRTADjzzDN36h8+fDinnXZaLkIzMzMzs/2Ql6uYmdl+6+677+biiy9GUtb+uXPnUlpauo+jMjMzM7P9lSs5zMxsv/S3v/2NJ598kl/8Ivsjk5cuXcqYMWN44IEH9nFkZmZmZra/ciVHAyBpoKSQVJLR1k7SFkllkpZIekZSh7TvUEkPpe0vSppZzdwXS1ouaUU69pq0/deSXk3nXylpVMY5cyQtzHjfTdKcLHO3S+O+IqNtvKRLPupnsjuSPilpqqRVFZ+BpGMk9ZH00N6+fjVxzZGUdW2Z2YFm8uTJ9O7dm6OOOmqXvpdffpkzzzyTO+64Y8dSFjMzMzMzJzkahi8DTwFfqtS+KiK6RkQX4G7g+rR9DPBYRHSJiE7Ad7NNKulM4CrgcxFRChwP/CtjyHcioivQFRgiKfObyCfS83dnLfAtSU1qMLZOKKl7/z0wJyKK08/geuDQfRWDme3e5MmTGTJk1012V69eTb9+/Rg5ciQXXXRRDiIzMzMzs/2Vkxz1nKR8oBfwdXZNcmT6GLA+PT4MeL2iIyKWVnHOdcA1EfFGOq48In6eZVxe+nNzRtsPgRt2ewPwNjAb2OWbjKRiSY9IWiRpnqQSSY0kvaJEK0kfSDo1HT9PUntJp6UVJmWSFksqqDR1X2BrRPws4zMoi4h56dt8SdPSCpUpaVIESTdKWpBWtkzMaJ8jaayk5yX9VdIpafslku5P7+ElSbdm3NvnJD0r6QVJ96W/RzNLPfPMM6xZs4bBgwfv1L5mzRpOP/10Lr/8ci677LIcRWdmZmZm+ysnOeq/c4BHIuKvwDuSjs/oK06/6K8CrgZ+krb/FPiFpCckjZB0eBVzHwssqubaP5RURpIwmRoRazP6ngXek9S3BvdwC/DfkhpVap8IXBERJwDXABMiYjvwV6AT0DuN7xRJTYG2EfFyOvbytMrkFGBLLe/rOJIKlk7Ap0mSSADjI6J7RBwLNAPOyjjn4IjokZ43KqO9K3AB8BngAkmfklRIkgDqFxHHAwtJfj9VkjRM0kJJC9/fWPl2zBqeu+++m3PPPZeCgp1zlJMmTeKVV17hpptuIj8/f8fLzMzMzAyc5GgIvgxMTY+npu8rVCxXKSb58j0RICJmkXx5/zlQAiyWVLQH165YrvJJ4LOSTq7UfzM1qOaIiFeB54GvVLSllQ0nA/eliZS7SCpQAOYBp6avH5AkO7oDC9L+p4GfSLoSaBUR22p5X89HxOsR8QFQBrRL2/tKek7SMuB0IPORDvenPxdljAeYHRH/iohy4EXgSOBEkgTK0+m9DUnbqxQREyOiW0R0a/KxZrW8HbP656677uI3v/nNLu2jRo0iIti0adNOLzMzMzMzcJKjXpP0cZIv25MkvQZ8h6RaINuzFh8kSQoAEBHvRMRvI+IikuTAqZK+X7HMIx22Ajhhd3FExCZgDkmyIbP9cZKlLCfW4Hb+F/gfPvw3eRCwIU3SVLw6pn3zSCo0egAzgVZAH2Buet1bgKEk1RbzlbEhaw3v672M4+3AwZLygAnAoIj4DEmCKC/LOdvZ+alFu8wFiGRPlIr76hQRX68mHjMzMzMzM6sBJznqt0HA5Ig4MiLaRcSngFeplGxI9QZWAUg6XVLz9LgAKAb+FhEjKr54p+f8ALhV0ifTsU3T6oidSDoY6FkxfyXfB67d3Y1ExEqSSoez0vcbgVclDU6vIUld0uHPkVR5fJBWSJQB/0mS/EBScUQsi4ixJEtBKic5HgeaSvpGxj10l3RaNSFWJDTWpVUmg3Z3T9WYD/SS1D69dnNJx3yE+czMzMzMzAwnOeq7L5M8JSTTdD5c9lGxJ8cSkkqJoWn7CcBCSUtJ9s6YFBELKs1DRMwk2b/jT5JWkCzFyKxSqNiTYymwjA+XbFSe4+0a3s/3gbYZ7y8Evp7GvwI4O53zPeDvJMkCSJIbBWkMAFelm4MuIdmP44+VYgpgIHBG+gjZFcBo4I2qAouIDSTVG8uAGXy4NKbWIuJt4BLgd+nvYD67JmLMzMzMzMyslpR83zOz+qJl+09Grx/t+lhNs4Zg5jljcx2CmZmZme3nJC2KiG7Z+lzJYWZmZmZmZmYNwsG7H2Jm+5OjW7X1X7vNzMzMzMyycCWHmZmZmZmZmTUITnKYmZmZmZmZWYPgJIeZme0VU6dOpWPHjrRo0YLi4mLmzZsHwL///W+++c1vUlhYSMuWLTn11FNzHKmZmZmZNRTek8Osnnlpw5t84fc35zoMs6xmDrwBgMcee4z/+Z//4Z577qFHjx68+eabO8YMGzaMbdu28ec//5lDDjmEsrKyHEVrZmZmZg2NkxxmZlbnRo0axY033siJJ54IQJs2bQD4y1/+woMPPsjrr7/Oxz72MQBOOOGEnMVpZmZmZg2Ll6uYmVmd2r59OwsXLuTtt9+mffv2tG3bluHDh7Nlyxaee+45jjzySEaNGkVhYSGf+cxnmD59eq5DNjMzM7MGwkkOMzOrU2+99RZbt25l2rRpzJs3j7KyMhYvXszNN9/M66+/zvLly2nZsiVvvPEG48ePZ8iQIfz5z3/OddhmZmZm1gA4yWF7jaQRklZIWiqpTFLPOpiznaTldX1+2r4ljbPidfFHvYakbpLurGZsH0kP7cl1zPZXzZo1A+CKK67gsMMOo7CwkKuvvpqZM2fSrFkzGjduzA033ECTJk047bTT6Nu3L48++miOozYzMzOzhsB7ctheIekk4Czg+Ih4T1Ih0CTHYe3OqojoWpcTRsRCYGFdzmm2v2vdujVt27ZF0i59nTt3zkFEZmZmZnagcCWH7S2HAesi4j2AiFgXEW8ASLpR0gJJyyVNVPpNSNIcSbdJmivpz5K6S7pf0kuSMh8ncrCku9MKkWmSmu9m3hMkLZH0LHB5bW9E0iZJ30/nmC/p0LS9OH2/QNIYSZuynLujUkPSaRlVIoslFaTD8tP7WClpSkXcZvXZpZdeyrhx41i7di3r16/n9ttv56yzzuLUU0/liCOO4Ac/+AHbtm3j6aefZs6cOfTv3z/XIZuZmZlZA+Akh+0tjwKfkvRXSRMknZbRNz4iukfEsUAzkoqPCu9HxKnAz4AHSJISxwKXSPp4OqYDMDEiOgMbgW/uZt5fAVdGxEm7ibm40nKVU9L2FsD8iOgCzAW+kbbfAdwREd2BN2rwmVwDXJ5Wi5wCbEnbjwOuAjoBnwZ61WAus/3ayJEj6d69O8cccwwdO3bkuOOOY8SIETRu3JgHHniAmTNn0rJlS77xjW8wefJkSkpKch2ymZmZmTUATnLYXhERm4ATgGHA28A9ki5Ju/tKek7SMuB0oDTj1AfTn8uAFRHxZloN8grwqbTv7xHxdHr8/4DeVc0rqSXQKiKeTMf8ppqwV0VE14zXvLT9faBi34xFQLv0+CTgvvT4t9V9HqmngZ9IujKNaVva/nxEvB4RHwBlGfPvIGmYpIWSFr6/cXMNLmWWW40bN2bChAls2LCBf/zjH9x5553k5eUBUFpayrPPPsvmzZt58cUXGThwYI6jNTMzM7OGwkkO22siYntEzImIUcBw4DxJecAEYFBEfAb4OZCXcdp76c8PMo4r3lfsIROVL1XNvMoyvra2RkTFHNvZw71sIuIWYChJlcl8SRV/us68z6zzR8TEiOgWEd2afKzFnlzezMzMzMyswXOSw/YKSR0kHZ3R1BVYzYcJjXWS8oFBezD9EenGpgBfBp6qat6I2AD8S1JFtceFe3C9qswHzkuPv7S7wZKKI2JZRIwl2YzU9flmZmZmZmZ1yEkO21vygbslvShpKcl+E6PTpMPPSZajzAAW7MHcfwaGpPMeAvzfbua9FPhpuvHoFqpWeU+OK3cTx1XA1ZKeJ9lo9V+7G59uirokjeOPuxlvZmZmZmZmtaAPq/DNrDbSp7psiYiQ9CXgyxFx9t6+bsv2baLXD/9rb1/GbI/MHHhDrkMwMzMzswZO0qKI6Jatb4/2FjAzINlYdXz6yNcNwNdyG46ZmZmZmdmBzUkOsz2UPn2lS67jMDMzMzMzs4STHGb1zNGtDvOSADMzMzMzsyy88aiZmZmZmZmZNQhOcpiZmZmZmZlZg+Akh5mZ1cjUqVPp2LEjLVq0oLi4mHnz5vH+++8zaNAg2rVrhyTmzJmT6zDNzMzM7ADmPTnM6pmXNrzFf9z/41yHYQeIh8/9bwAee+wx/ud//od77rmHHj168Oabb+4Y07t3b6666ioGDx6cqzDNzMzMzAAnOczMrAZGjRrFjTfeyIknnghAmzZtdvRdddVVADRq1CgXoZmZmZmZ7eDlKmZmVq3t27ezcOFC3n77bdq3b0/btm0ZPnw4W7ZsyXVoZmZmZmY7cZLDzMyq9dZbb7F161amTZvGvHnzKCsrY/Hixdx88825Ds3MzMzMbCdOctgBSdKmWoztI+nkPbxOO0lfqTTXQ+lxnqSVkj6T0X+tpJ/tybXM9pZmzZoBcMUVV3DYYYdRWFjI1VdfzcyZM3McmZmZmZnZzpzkMNu9PsAeJTmAdsBXsnVERDlwFTBBiTbAfwLX7eG1zPaK1q1b07ZtWyTlOhQzMzMzs2o5yWGWkjRA0nOSFkv6k6RDJbUDLgO+LalM0imSiiRNl7QgffVKzz8tHVOWzlEA3AKckrZ9u/I1I+IR4E3gYuA2YHRErN9nN21WQ5deeinjxo1j7dq1rF+/nttvv52zzjoLgPfee4/y8nIA3n//fcrLy4mIXIZrZmZmZgcoP13F7ENPASdGREgaClwbEf+dLh/ZFBE/ApD0W+C2iHhK0hHALKAjcA1weUQ8LSkfKAe+C1wTEWel5/bJct2rgOeBlyLiN9kCkzQMGAaQV9i6ru7XrMZGjhzJunXrOOaYY8jLy+P8889nxIgRAHTo0IHVq1cD0L9/fwBeffVV2rVrl6twzczMzOwA5SSH2YfaAvdIOgxoArxaxbh+QKeM0v2PpVUbTwM/kTQFuD8iXq9JeX9EvCHpceChasZMBCYCtGz/Kf+J3Pa5xo0bM2HCBCZMmLBL32uvvbbvAzIzMzMzy8LLVcw+NA4YHxGfIdkbI6+KcQcBJ0VE1/TVJiLejYhbgKFAM2C+pJJaXPuD9GVmZmZmZmZ7yEkOsw+1BNakx0My2t8FCjLePwoMr3gjqWv6szgilkXEWGAhUJLlXDMzMzMzM9tLnOSwA1VzSa9nvK4GRgP3SZoHrMsY+wdgYMXGo8CVQDdJSyW9SLIxKcBVkpZLWgJsAf4ILAW2SVqSsfHoZytd+6R9cL9mZmZmZmYNnvfksANSRFSV4Hsgy9i/Ap0rNV+QZdwVVcz52Urvm2UZ82wV55qZmZmZmVkNuZLDzMzMzMzMzBoEV3KY1TNHtzqUh8/971yHYWZmZmZmtt9xJYeZmZmZmZmZNQhOcpiZmZmZmZlZg+Akh5mZVWnq1Kl07NiRFi1aUFxczLx58wCYPXs2JSUlNG/enL59+7J69eocR2pmZmZmBoqIXMdgZrXQsv0R0fvWa3MdhjVgD587HIDHHnuMoUOHcs8999CjRw/efPNNAJo2bUpxcTGTJk1iwIABjBw5knnz5jF//vxchm1mZmZmBwhJiyKiW7Y+bzxqZmZZjRo1ihtvvJETTzwRgDZt2gAwceJESktLGTx4MACjR4+msLCQlStXUlJSkrN4zczMzMy8XMXMzHaxfft2Fi5cyNtvv0379u1p27Ytw4cPZ8uWLaxYsYIuXbrsGFuxlGXFihU5jNjMzMzMzJUcZmaWxVtvvcXWrVuZNm0a8+bNo3Hjxpx99tncfPPNbNq0iaKiop3Gt2zZknfffTdH0ZqZmZmZJVzJUU9I+riksvT1D0lr0uMNkl78iHOfKWmhpD9LWinpR3UVd12Q1E3SnXtp7q9KWipphaQlkiZJalWH8/eRdHLG+3Mkdaqr+c32lmbNmgFwxRVXcNhhh1FYWMjVV1/NzJkzyc/PZ+PGjTuN37hxIwUFBbkI1czMzMxsByc56omI+GdEdI2IrsDPgNvS467AB3s6r6RjgfHAVyOiI3As8Eotzt/r1UARsTAirqzra0v6PPBt4MyIKAWOB54BDv0o81bSBzg54/05gJMctt9r3bo1bdu2RdIufaWlpSxZsmTH+82bN7Nq1SpKS0v3ZYhmZmZmZrtwkqNhaCTp52k1wqOSmgFIKpb0iKRFkuZJyrYj4LXA9yNiJUBEbIuICen5R0qanVY6zJZ0RNr+a0k/kfQEMFZSV0nz03G/l9Q6HTdH0lhJz0v6q6RT0vZ2aTwvpK+T0/Z7JH2hIrD0Ouel1RAPpW2jJU2U9CgwWdIlksZnnPNQOr5Rev5yScskfTvLvY8AromINem9b4+IX0bEX9K5bpS0IJ1johKHZ1TUlEnann5ORZKmp+MXSOolqR1wGfDtdOxpwBeBH6bvi2v4OzLLiUsvvZRx48axdu1a1q9fz+23385ZZ53FwIEDWb58OdOnT6e8vJwxY8bQuXNnbzpqZmZmZjnnJEfDcDTw07QaYQNwXto+EbgiIk4ArgEmZDn3WGBRFfOOByZHRGdgCpC5ZOQYoF9E/DcwGfifdNwyYFTGuIMjogdwVUb7WuCMiDgeuCBj3qnpeyQ1AT4LzMwS1wnA2RHxlSrihqTCpU1EHBsRnwF+lWVMKfBCNXOMj4juEXEs0Aw4KyLeyKio+TkwPSJWA3eQVNd0J/n8J0XEa2RU3UTEk8CDwHfS96uo2e/ILCdGjhxJ9+7dOeaYY+jYsSPHHXccI0aMoKioiOnTpzNixAhat27Nc889x9SpU3MdrpmZmZmZNx5tIF6NiLL0eBHQTlI+yTKJ+zLKzZvWct6TgHPT498At2b03RcR2yW1BFqlX+AB7gbuyxh3f2Zc6XFjYLykrsB2koQJwB+BOyU1BT4PzI2ILVnK5R+MiC27if0V4NOSxgEPA49WN1jSZ9J7LACuj4h7gL6SrgWaA4cAK4A/pON7AUOBU9Ip+gGdMmL9mKRqNyioze9I0jBgGEBeYevqpjWrM40bN2bChAlMmLBr7q1fv36sXLkyB1GZmZmZmVXNSY6G4b2M4+0kVQcHARvSioPqrCCpjFiym3EAkXG8uZaxbefDf2/fBt4CuqRxlgNERLmkOUB/koqO31UxZ+a1t7FzRVJeOtd6SV3SuS4Hzge+VmmeFST7cDwREcuArunSl2aS8kiqKrpFxN8lja6YW9JhwC+AL0bEpnSug4CTKidfsu1nkKGmvyMiYiJJ1Qct2x8RuxluZmZmZmZ2QPJylQYqIjYCr0oaDJDuJ9Ely9AfAtdLOiYdd5Ckq9O+Z4AvpccXAk9luc6/gPUV+20AFwFPVh5XSUvgzYj4IB3fKKNvKnApSYXErN3MA/AaSXLiIEmfAnqk91EIHBQR04GRJMmMyn4A/EhS24y2ZunPvPTnurTiYlA6b2PgXpLlOX/NOO9RYHjFm7RKBeBdkuoQKr+vxe/IzMzMzMzMasBJjobtQuDrkpaQVC2cXXlARCwl2S/jd5L+DCwHDku7rwQulbSUJBnxrSquM4RkM82lJHthjNlNXBOAIZLmkyxVyazMeBQ4FfhTRLy/uxsEngZeJdkL5Ed8uMdGG2COpDLg18B1lU+MiJkk+4H8UdKLkp4hqTiZFREbSPbcWAbMABakp50MdAduyth89HCSz6pbuvnqiyQbjkKyvGVgOu4UkiTOdyQtllRMDX5HZmZmZmZmVjOKcOW7WX3Ssv0R0fvWa3MdhjVgD587fPeDzMzMzMxyRNKiiOiWrc+VHGZmZmZmZmbWIDjJYWZmZmZmZmYNgp+uYlbPHN3qE15OYGZmZmZmloUrOczMzMzMzMysQXCSw8zMzMzMzMwaBCc5zMysSlOnTqVjx460aNGC4uJi5s2bB8Ds2bMpKSmhefPm9O3bl9WrV+c4UjMzMzMzP0LWrN5pWXxk9L51RK7DsAbs4fOGAfDYY48xdOhQ7rnnHnr06MGbb74JQNOmTSkuLmbSpEkMGDCAkSNHMm/ePObPn5/LsM3MzMzsAFFnj5CVdKqk30p6TlIbSTdK6lE3YZqZ2f5k1KhR3HjjjZx44okcdNBBtGnThjZt2nD//fdTWlrK4MGDycvLY/To0SxZsoSVK1fmOmQzMzMzO8DVOMkh6WzgceBLQDfgLeC/gGv3TmhmZpYr27dvZ+HChbz99tu0b9+etm3bMnz4cLZs2cKKFSvo0qXLjrEVS1lWrFiRw4jNzMzMzGpXyXEj8A7wJEBEbAOeAk7cC3GZmVkOvfXWW2zdupVp06Yxb948ysrKWLx4MTfffDObNm2iZcuWO41v2bIl7777bo6iNTMzMzNL1CbJ0QGYCZRltK0DDqnLgGz/JGm7pDJJSyS9IOnkPZznMkkX13V8u7lmB0lz0vj/LGli2t5V0hfq8DqXSBr/Eed4TVJhXcVktqeaNWsGwBVXXMFhhx1GYWEhV199NTNnziQ/P5+NGzfuNH7jxo0UFBTkIlQzMzMzsx1qk+R4EygFGgFIOgQ4A/j7XojL9j9bIqJrRHQBrgN+sCeTRMTPImJy3Ya2W3cCt6XxdwTGpe1dgTpLctSWpINzdW2z3WndujVt27ZF0i59paWlLFmyZMf7zZs3s2rVKkpLS/dliGZmZmZmu6hNkmM6cALJPhwAa4CjgGl1HZTt9z4GrAeQ1EfSQxUdksZLuiQ9vkXSi5KWSvpR2jZa0jXp8RxJYyU9L+mvkk5J2xtJ+qGkBem5/5m2HyZpblqRsVzSKenYX6fvl0n6dpZ4DwNer3gTEcskNQHGABek810gqYekZyQtTn92SK97iaT7JT0i6SVJt2bc76Vp7E8CvTLaB6Qb9C6W9CdJh2bc/0RJjwKTJX1c0qPpuLuAXb9RmuXIpZdeyrhx41i7di3r16/n9ttv56yzzmLgwIEsX76c6dOnU15ezpgxY+jcuTMlJSW5DtnMzMzMDnC1+UvyTcCRwAXp+6bAvcD36zoo2y81k1QG5JEkDU6vbnBa6TMQKImIkNSqiqEHR0SPdNnIKKAf8HXgXxHRXVJT4Ok0KXAuMCsivi+pEdCcpBqjTUQcm14323VuAx6X9AzwKPCriNgg6UagW0QMT8/9GHBqRGyT1A/4X+C8dI6uwHHAe8BfJI0DtpH8d3EC8C/gCWBxOv4p4MT03oeSbND732nfCUDviNgi6U7gqYgYI+k/gGFVfJ7DKvryCr1CzPaNkSNHsm7dOo455hjy8vI4//zzGTFiBHl5eUyfPp3hw4fz1a9+lZ49ezJ16tRch2tmZmZmVvMkR0RsAb4s6QqgHfBaRKzbW4HZfmdLRHQFkHQSSRXCsdWM3wiUA5MkPQw8VMW4+9Ofi0j+XQF8DugsaVD6viVwNLAA+KWkxsCMiCiT9Arw6TTp8DBJEmMnEfErSbOAzwNnA/8pqUvlcel17pZ0NBBA44y+2RHxr/T+XyRJ+BUCcyLi7bT9HuCYdHxb4B5JhwFNgFcz5now/e8J4FSS5A0R8bCk9dk+pIiYCEwEaFl8ZGQbY1bXGjduzIQJE5gwYcIuff369fMjY83MzMxsv1Ob5SpIKiD5ctcc6CTpVEmn7pXIbL8VEc+SfMEvIqlmyPx3lJeO2Qb0IFnmdA7wSBXTvZf+3M6HSTcBV6R7aHSNiKMi4tGImEuSFFgD/EbSxRGxHugCzAEuByZVEfMbEfHLiDg7jTlbguZ7wBNpVciAinupFGflWKtKOIwDxkfEZ4D/rDTX5srhVTGHmZmZmZmZ1UKNkxySLgLeAJ4nKcuveD2+d0Kz/ZWkEpINaP8JrCZJeDWV1BL4bDomH2gZETOBq0iWe9TULOC/0ooNJB0jqYWkI4G1EfFz4BfA8emTSA6KiOnASOD4LPF+PmOuTwIfJ0mUvAtkPg6iZdoOcEkN4nwO6JPuq9EYGFzFXEOqmWMucGEa25lA6xpc18zMzMzMzLKozZ4ctwAtSL7Ybto74dh+rGJPDkgqLYZExHbg75LuBZYCL/HhnhQFwAOS8tLx2TYErcokkqUrLyh5tMPbJNUgfYDvSNpK8m/wYqAN8CtJFQm767LM9zngDknl6fvvRMQ/JD0BfDe9rx8At5IsV7maGiTvIuJNSaOBZ0mePvQC6dOHgNHAfZLWAPNJNunN5ibgd5JeAJ4E/ra765qZmZmZmVl2iqhZpbyktcCTETF4t4PNbK9pWXxk9L51RK7DsAbs4fOy7n9rZmZmZrZfkLQoIrpl66vNnhyjge6S+ks6StIRFa86idLMzMzMzMzM7COozXKVl4BWwMxK7VHLeczsIzi6dZH/0m5mZmZmZpZFbZITPwc+lqVddRSLmZmZmZmZmdkeq81ylY8Bs0k2UGxd6WVmZmZmZmZmllO1SXL8ACgC3o+If2W+9lJsZmaWY1OnTqVjx460aNGC4uJi5s2bB8Ds2bMpKSmhefPm9O3bl9WrV+c4UjMzMzOz2j1dZT3JY0FF8vjO7WlXRMTH9054ZlZZq+Kjoveto3IdhjVgD513CQCPPfYYQ4cO5Z577qFHjx68+eabADRt2pTi4mImTZrEgAEDGDlyJPPmzWP+/Pk5jNrMzMzMDhTVPV2lNntytMw4Lsg4rlmWxMzM6pVRo0Zx4403cuKJJwLQpk0bACZOnEhpaSmDBydPFB89ejSFhYWsXLmSkpKSnMVrZmZmZlab5Sp9q3idvhfiMjOzHNq+fTsLFy7k7bffpn379rRt25bhw4ezZcsWVqxYQZcuXXaMrVjKsmLFihxGbGZmZmZWi0qOiHhybwZiZmb7j7feeoutW7cybdo05s2bR+PGjTn77LO5+eab2bRpE0VFRTuNb9myJe+++26OojUzMzMzS9S4kkPSwZKulfSIpEWSXkhfi/ZmgA2BpJD044z310gaXcfXGC3pmir6Lpa0XNIKSS9WNS5XJH1R0nf38TXzJd0laVX6ucyV1HMP5jlc0rQq+uZI6pYef1/S3yVtqjTmSEmzJS1Nx7fdszsyq1vNmjUD4IorruCwww6jsLCQq6++mpkzZ5Kfn8/GjRt3Gr9x40YKCgqyTWVmZmZmts/UZrnKbSRPWPkccBzQNeNl1XsPOFdS4b6+sKQzgauAz0VEKXA8UOMn4kiqzb4teyQiHoyIW/bxtScB7wBHp5/LJUCtfz8R8UZEDKrB0D8APbK0/wiYHBGdgTEk/42Z5Vzr1q1p27YtknbpKy0tZcmSJTveb968mVWrVlFaWrovQzQzMzMz20VtkhznAW8Aj5NsNvo/wAbgxroPq8HZBkwEvl25o9Jf8mdLOkJSS0mvSTooHdM8rQJoLKk4o5pmnqTd7fJ3HXBNRLwBEBHlEfHzdN6ukuan1/69pNZp+xxJ/yvpSeBbkj4rabGkZZJ+KalpOu41STelFT3LKmKR1EPSM+k5z0jqkLY/J2nHt6D0OidIukTS+LTt15J+IukJYGzlCpW0IqWdpBaSHpa0JG27oKa/DEnFQE/ghoj4IP1cXomIh9P+q9M5l0u6Km0bK+mbGXOMlvTfaSzL07Zmkqamn+c9QLOK8RExPyLezBJOJ2B2evwEcHZN78Nsb7v00ksZN24ca9euZf369dx+++2cddZZDBw4kOXLlzN9+nTKy8sZM2YMnTt39qajZmZmZpZztUlyFAIPARV/vvsRMAM4o45jaqh+ClwoqWWl9vF8+Jf8KcCdEfEvks/5tHTMAGBWRGwlSZZcEREnANcAE3Zz3WOBqpYUTQb+J732MiDzuaStIuK0NO5fAxdExGdI9nH5r4xx6yLieOD/0ngAVgKnRsRxJEmw/03bpwLnA0g6DDg8IrLFdgzQLyL+u5r7+jzwRkR0iYhjgUeqGVtZKVAWEdsrd0g6AbiUJAlyIvANScelsWcmUs4H7qt0+n8B/04/z+8DJ9QgliUkCUSAgUCBpF0eySxpmKSFkha+v9H7Hti+MXLkSLp3784xxxxDx44dOe644xgxYgRFRUVMnz6dESNG0Lp1a5577jmmTp2a63DNzMzMzGr1CNlNQCPg7fT99cDJwBF1HVRDFBEbJU0GrgS2ZHSdBJybHv8GuDU9vofkS/UTwJeACZLyST7z+zJKyJvuSTxpsqVVxoayd7Pzl/Z70p8dgFcj4q8Z4y4Hbk/f35/+XJRxHy2BuyUdTVL10zhtvxd4jCSZki1JUOG+bAmISpYBP5I0FngoIubtZnxN9QZ+HxGbASTdD5wSEXdK+oSkw4EiYH1E/E1Su4xzTwXuBIiIpZKW1uB61wDjJV0CzAXWkFT+7CQiJpIkuGhVfJQf22z7ROPGjZkwYQITJuyaS+3Xrx8rV67MQVRmZmZmZlWrTSXHX0n+wv40IJL9A44Blu+FuBqq24GvAy2qGVPxBfZB4ExJh5BUBDxO8vvaEBFdM14dd3PNFdSsoqCyzenPXRfk7+y99Od2PkyafQ94Iq2wGADkAUTEGuCfkjqTJHCq+tPv5ozjbez877Rirr+S3Ncy4AeSdlo2JelTksrS12WV5l8BdKlYDlRJdfc7DRi0m9hrlYBI9/Q4N616GZG21XjPFDMzMzMzM/tQbZIc3wDGpH8xHwEsBR4FhuyNwBqiiHiHpJrh6xnNz5BUagBcCDyVjt0EPA/cQVKpsD0iNgKvShoMoESX3Vz2B8Ctkj6ZntNU0pXpF+n1kk5Jx10EZHtM8EqgnaT2uxmXqSVJRQIkG3pmmgpcC7SMiGW7mQfgNZLNUpF0PHBUenw4ydKQ/0eydOr4zJMi4u8ZiaCfVepbBSwEblJaEiPpaElnk1RTnJPug9KCZAlJRZXIVJLf1SCShEdlc0l+h0g6Fui8u5uTVJiRbLkO+OXuzjEzMzMzM7PsapzkiIhlEfF4evyDiDguIj4fEX/ee+E1SD9m56d4XAlcmi5tuAj4VkbfPcBX+XDpCCRfor8uaQlJRUK1G1VGxEySfTX+JGkFybKSioqLIcAP02t3JanOqXx+OckeFfdJWgZ8APys8rhKbiWprniaZIlTpmkkiYJ7dzNHhenAIZLKSPa8qFg28xng+bR9BHBzDeerMBT4JPByel8/J9nj4wWSPUieB54DJkXEYoCIWAEUAGuq2ET0/4D89PO8Np0DAEm3SnodaC7pdX34COE+wF8k/RU4lGQvDzMzMzMzM9sDiqhZdb2Sx3leRPL42PyMroiIr2c/y8zqWqvio6L3raN2P9BsDz103iW5DsHMzMzMrEqSFkVEt2x9tdl49FfAVyrmzGgPdl5+YWZmZmZmZma2z9UmyXE2ySaT9wIbqOUGi2ZmZmZmZmZme1NtkhxvAk9HxNf2VjBmtnvtW3/cywnMzMzMzMyyqM3TVe4EBkg6V9KnJR1R8dpbwZmZmZmZmZmZ1VRtKjnGkSxRua9Se9RyHjMzMzMzMzOzOlebSg5INhyt/KrtHGZmVk9MnTqVjh070qJFC4qLi5k3bx4As2fPpqSkhObNm9O3b19Wr16d40jNzMzMzGrxCFkz2z+0Kv509B77vVyHYQ3YQ4MuBOCxxx5j6NCh3HPPPfTo0YM333wTgKZNm1JcXMykSZMYMGAAI0eOZN68ecyfPz+XYZuZmZnZAaK6R8jWWRWGpNskbaur+czMLLdGjRrFjTfeyIknnshBBx1EmzZtaNOmDffffz+lpaUMHjyYvLw8Ro8ezZIlS1i5cmWuQzYzMzOzA1xdLzVRHc9nZmY5sH37dhYuXMjbb79N+/btadu2LcOHD2fLli2sWLGCLl267BhbsZRlxYoVOYzYzMzMzMwbhpqZWRZvvfUWW7duZdq0acybN4/GjRtz9tlnc/PNN7Np0yaKiop2Gt+yZUvefffdHEVrZmZmZpbwpqFWJUkDJYWkklzHUhck/VpSnxqOPVTSQ5KWSHpR0sy9G53Z/qVZs2YAXHHFFRx22GEUFhZy9dVXM3PmTPLz89m4ceNO4zdu3EhBQUEuQjUzMzMz28FJDqvOl4GngC/lOpAcGAM8FhFdIqIT8N2anqjER/pvS1Kjj3K+2UfVunVr2rZti7TrKsTS0lKWLFmy4/3mzZtZtWoVpaWl+zJEMzMzM7Nd1GWSo+KRstYASMoHegFfJyPJIamPpDmSpklaKWmK0m9Bkr6Qtj0l6U5JD6Xtp0kqS1+LJRWk8zyUMe94SZekx69J+l9Jz0paKOl4SbMkrZJ0WUV8kmZLekHSMklnp+3tJP1Z0s8lrZD0qKRm6WX+BbyfjrslrdBYKulHWT6Cw4DXK95ExNKMWL8jaUF67k2VrjsBeAEYKenWjHMukTQuPf6qpOfTz+OuioSGpE2Sxkh6DjhpD35tZnXq0ksvZdy4caxdu5b169dz++23c9ZZZzFw4ECWL1/O9OnTKS8vZ8yYMXTu3JmSkgZR9GVmZmZm9ViNkhySDpb0sqSfVjUmIq6KCFeGNBznAI9ExF+BdyQdn9F3HHAV0An4NNBLUh5wF3BmRPQGMhfsXwNcHhFdgVOALTW4/t8j4iRgHvBrYBBwIkmFBUA5MDAijgf6Aj+uSLYARwM/jYhSYANwHkBEfCsinpF0CDAQKI2IzsDNWa7/U+AXkp6QNELS4QCSPpfO3wPoCpwg6dT0nA7A5Ig4DpgAnJsx3wXAPZI6pse90s9jO3BhOqYFsDwiekbEU5nBSBqWJnwWvl9pmYDZ3jJy5Ei6d+/OMcccQ8eOHTnuuOMYMWIERUVFTJ8+nREjRtC6dWuee+45pk6dmutwzczMzMxqtvFoRGxLy++b7+V4bP/xZeD29Hhq+v6F9P3zEfE6gKQyoB2wCXglIl5Nx/wOGJYePw38RNIU4P6IeD1bCXwlD6Y/lwH5EfEu8K6kckmtgM3A/6YJhg+ANsCh6TmvRkRZerwojS/TRpIkySRJDwMPVeonImZJ+jTweeBMYLGkY4HPpa/F6dB8kqTH34DVETE/Pf9tSa9IOhF4iSQB8jRwOXACsCD9DJoBa9O5tgPTs30YETERmAjQqvjTkf0jM6tbjRs3ZsKECUyYMGGXvn79+vmRsWZmZma236nN01XuAL4vaQ7wDPBeRUdE/K2O47IckvRx4HTgWEkBNAJC0rXpkPcyhm8n+XdUZdYiIm5JkwlfAOZL6gdsY+dKorxKp1Vc44NK1/sgvd6FJNUiJ0TEVkmvZcxROb5mGe8rknY9gM+SLMUZnt5v5bjfAX4L/DZdWnNqep8/iIi7MsdKakeSeMl0D3A+sBL4fUREWm1yd0RcV/l6QHlEbM/SbmZmZmZmZjVQm+Ult5F8WfwlyZe2V9PXK3shLsutQSTLLo6MiHYR8SmS33Xvas5ZCXw6/bIPyZIMACQVR8SyiBgLLARKgNVAJ0lNJbUkSTjURktgbZrg6AscWdMT0/1GWkbETJJlN12zjDldUvP0uAAoJqnWmAV8LZ0DSW0kfaKKS91PsuznyyQJD4DZwKCKcyQdIqnGsZuZmZmZmVnValPJAdn/Wu/NRhueLwO3VGqbDnyFD7+s7yQitkj6JvCIpHXA8xndV6WJiO3Ai8AfI+I9SfcCS0mWcyzeZdLqTQH+IGkhUEaSZKmpAuCBdB8RAd/OMuYEYLykioqTSRGxACDdV+PZdLnJJuCr6b3tJCLWS3oR6BQRz6dtL0q6AXg0XQK2lWQJy+paxG9mZmZmZmZZKMLL+61uSMqPiE3pkoyfAi9FxG25jquhaVX86eg99nu5DsMasIcGXbj7QWZmZmZmOSJpUUR0y9ZXq6ehSGos6XOS/itdZnBERUm/GfCNdCPSFSTLSe6qfriZmZmZmZlZ3alxJYekTwGPkOynECRPs/g7MC4i/nuvRWhmO+nWrVssXLgw12GYmZmZmZnlRF1VctwGdATWkSRH3gLmkjxi08zMzMzMzMwsp2qT5DgVeIjkkZoVXgaOqNOIzMzMzMzMzMz2QG2SHAG8X6mtHcnTJczMrAHo06cPeXl55Ofnk5+fT4cOHXb0TZo0ifbt25Ofn8/nP/953njjjRxGamZmZma2q9o8QnYhcBZJ9QaS7gPOIKnuMLN95OX16zlr2r25DsMaoIcGnQ/A+PHjGTp06E59Tz75JNdffz1PPPEERx99NN/61rf48pe/zJNPPpmLUM3MzMzMsqpNJce1wL+BToCA84B/ASP2QlxmZrYf+cMf/sDgwYMpLS2lSZMmjBw5krlz57Jq1apch2ZmZmZmtkONkxwRsYJk49FrgQnpz9KIWL6XYjMzsxy47rrrKCwspFevXsyZMweAiCDzaVwVx8uX+38CzMzMzGz/UZtKDiLirYj4EXAF8Czw8b0SlZmZ5cTYsWN55ZVXWLNmDcOGDWPAgAGsWrWKL3zhC9x7770sXbqULVu2MGbMGCTx73//O9chm5mZmZntUOMkh6SfSSqTJGAyyeNjl0j65l6LzuotSQMlhaSSjLZ2kmr1Z19Jr0kqTI9PkPSqpOMkjZZ0zV6I+1BJD0laIulFSTN3M75VTf4bkDRHUtbnOJvtT3r27ElBQQFNmzZlyJAh9OrVi5kzZ/LZz36Wm266ifPOO48jjzySdu3aUVBQQNu2bXMdspmZmZnZDrWp5Pgc8DrQHPgSsAx4F7hyL8Rl9d+XgadI/q18ZJI6A9OACyJicV3MWYUxwGMR0SUiOgHf3c34VoATfdZgSdqxNOXyyy/npZdeYu3atZx33nls27aNY489NscRmpmZmZl9qDZJjsOA1SQbjx4EXATcAxyxF+KyekxSPtAL+DpVJDkkzZPUNeP902kiI5uOwAzgooh4PqO9U1oh8YqkHck2STMkLZK0QtKwjPZNkr6fVmnMl3RolmsdRpLMAyAillbck6TZkl6QtEzS2emQW4DitMrph+nYa9MxSyTdkjH3YEnPS/qrpFPSsZdIGp8R40OS+lTxOZjtVRs2bGDWrFmUl5ezbds2pkyZwty5c+nfvz/l5eUsX76ciOBvf/sbw4YN41vf+hatW7fOddhmZmZmZjvUJsmxCehK8hf6rcBKoAlQXvdhWT13DvBIRPwVeEfS8VnGTAIuAZB0DNC0IqGQxQPA8Ih4qlJ7CdAf6AGMktQ4bf9aRJwAdAOulFSxd0wLYH5EdCFZbvWNLNf6KfALSU9IGiHp8LS9HBgYEccDfYEfp0u3vgusioiuEfEdSWem998zvc6tGXMfHBE9gKuAUVXca1aShklaKGnh+xs31uZUsxrbunUrN9xwA0VFRRQWFjJu3DhmzJhBhw4dKC8v5ytf+Qr5+fn06NGDk046ie9973u5DtnMzMzMbCcH12LsHJLHxp4IzIqIrZI+A/xlbwRm9dqXgdvT46np+xcqjbkPGCnpO8DXgF9XM9+fgKGSZkXE9oz2hyPiPeA9SWuBQ0mqMK6UNDAd8yngaOCfwPvAQ2n7IuCMyheKiFmSPg18HjgTWCzpWGAD8L+STgU+ANqk16usH/CriPh3Ot87GX33Z1y7XTX3u4uImAhMBGhVXBy7GW62R4qKiliwYEHWvlatWrF0aVV5SDMzMzOz/UNtkhzfIKneaAzcJqkJ8CC7fnm1A1haNXE6cKykABoBIenazHER8W9JjwFnA+cD3SQ1IkkAADwYETemx8OBn5E8uvg/M6Z5L+N4O3BwutSjH3BSeo05QF46Zmt8+AzM7VTx7z9NTPwW+K2kh4BTgQKgCDghTfC9ljHvTh8BUFUSoiLezGtvY+eKqmxzmpmZmZmZWQ3sNskh6ZdZmkcCLwN3RcRbdR6V1WeDgMkRsSMZIelJoDfw90pjJwF/AOZlVDx0zTLnByTVILMkjclIfmTTElifJjhKSCqPakzS6SRLWv4tqQAoBv4GnAysTRMcfYEj01PeJUmAVHgUuFHSb9M5DqlUzVHZa8A3JR1EUh3SozbxmpmZmZmZ2YdqUslxCclfprP9hXqUpNP38tMurH75MslmnJmmA18BxmY2RsQiSRuBX+1u0oh4L93s80lJ1SXWHgEuk7SUZCnV/NoED5wAjJdUUWExKSIWSHoV+IOkhUAZSVUTEfHPdNPU5cAf0305ugILJb0PzASur+Z6TwOvkjytaDmujDIzMzMzM9tj+rB6v4oB0u3smtxoCvQEjiPZn+PMvRKdNWjppp5zgJKI+CDH4dQbrYqLo/fYH+Q6DGuAHhp0fq5DMDMzMzPbLUmLIqJbtr7dVnJExFVVTNoI+DNJosOsViRdDHwfuNoJDjMzMzMzM6sLtdl4dCcRsV3SeuATdRiPHSAiYjIwOddxmJmZmZmZWcNRk41Hv5iluQlwEtCdD5+GYWb7QPvWrb2swMzMzMzMLIuaVHLMIPsjMZX+/EmdRWNmZmZmZmZmtocOqsGYv2V5/QV4GDgnIn6398IzM7N9oU+fPuTl5ZGfn09+fj4dOnTY0XfvvffSsWNHCgoK6NSpEzNmzMhdoGZmZmZm1ajJxqPt9kEcZmaWY+PHj2fo0KE7ta1Zs4avfvWrPPDAA3z+859n5syZDB48mNdee41PfMJbMpmZmZnZ/mWPNx41s9x4ef0GBkybkeswrIH4w6Bzqu1//fXXadWqFWeemTwp/D/+4z9o0aIFq1atcpLDzMzMzPY7NVmuYmZmB4DrrruOwsJCevXqxZw5cwDo1q0bHTt25MEHH2T79u3MmDGDpk2b0rlz59wGa2ZmZmaWhSs5zMyMsWPH0qlTJ5o0acLUqVMZMGAAZWVlFBcXc/HFF/OVr3yF8vJymjRpwn333UeLFi1yHbKZmZmZ2S5cyWH7JUmHSvqtpFckLZL0rKSBaV8fSQ/t5vzRkq6p5TU3VXr/cUll6esfktZkvO8h6c7a35nZ/qlnz54UFBTQtGlThgwZQq9evZg5cyZ/+tOfuPbaa5kzZw7vv/8+Tz75JEOHDqWsrCzXIZuZmZmZ7cKVHLbfkSSSRxffHRFfSduOBL64L+OIiH8CXdPrjwY2RcSPMoY8vy/jMduXJBERlJWVceqpp9KtWzcAunfvTs+ePfnTn/5E165dcxukmZmZmVklruSw/dHpwPsR8bOKhohYHRHjKg+UdIikGZKWSpovKXOjgC6SHpf0kqRvpOPzJc2W9IKkZZLO3pMAM6tJ0qqRuyU9Kuk1SedKujWd/xFJjdNxJ0h6Mq1MmSXpsLT9SkkvpvcwdU/iMfsoNmzYwKxZsygvL2fbtm1MmTKFuXPn0r9/f7p37868efN2VG4sXryYefPmeU8OMzMzM9svuZLD9kelwAs1HHsTsDgizpF0OjCZtPoC6AycCLQAFkt6GFgLDIyIjZIKgfmSHoyI+IgxFwN9gU7As8B5EXGtpN8D/5FeexxwdkS8LekC4PvA14DvAkdFxHuSWn3EOMxqbevWrdxwww2sXLmSRo0aUVJSwowZM+jQoQMdOnRg9OjRDBo0iLfeeouioiKuv/56Pve5z+U6bDMzMzOzXTjJYfs9ST8FepNUd3Sv1N0bOA8gIh5P99FomfY9EBFbgC2SngB6AA8D/yvpVOADoA1wKPCPjxjmHyNiq6RlQCPgkbR9GdAO6AAcCzyWrMahEfBmOmYpMEXSDJJlOruQNAwYBtCssOgjhmq2s6KiIhYsWFBl//Dhwxk+fPg+jMjMzMzMbM84yWH7oxWkiQuAiLg8rbpYmGWssrRFpZ+Z7RcCRcAJaVLiNSDvI0cM76WxfiBpa0ZlyAck/50JWBERJ2U59z+AU0n2HBkpqTQitu0UeMREYCJAq+L2H7XqxMzMzMzMrEHynhy2P3ocyJP0XxltzasYO5ckcYGkPsC6iNiY9p0tKU/Sx4E+wAKgJbA2TXD0BY6s+/Cz+gtQJOmkNNbGkkolHQR8KiKeAK4FWgH5+ygmMzMzMzOzBsWVHLbfiYiQdA5wm6RrgbeBzcD/ZBk+GviVpKXAv4EhGX3PkyxPOQL4XkS8IWkK8AdJC4EyYOXeuo9MEfG+pEHAnelymoOB24G/Av8vbRNwW0Rs2BcxmZmZmZmZNTT66Pstmtm+1Kq4fZwy9ke7H2hWA38YdE6uQzAzMzMzqxVJiyKiW7Y+L1cxMzMzMzMzswbBSQ4zMzMzMzMzaxC8J4dZPdO+dSsvMTAzMzMzM8vClRxmZmZmZmZm1iA4yWFmZmZmZmZmDYKTHGZmDVifPn3Iy8sjPz+f/Px8OnTosMuYm266CUn86U9/ykGEZmZmZmZ1x3tymNUzL6//F2dPm5nrMGw/98CgL+w4Hj9+PEOHDs06btWqVUybNo3DDjtsX4VmZmZmZrbXuJLDzOwANnz4cMaOHUuTJk1yHYqZmZmZ2UfmJIeZWQN33XXXUVhYSK9evZgzZ86O9vvuu48mTZrwhS98oeqTzczMzMzqES9XMTNrwMaOHUunTp1o0qQJU6dOZcCAAZSVlXHooYdy/fXX8+ijj+Y6RDMzMzOzOuNKDmuQJG2XVJbxaifpmVrOcZWk5lX0zZHUrZbzbUp/Hi5pWm3ONdtTPXv2pKCggKZNmzJkyBB69erFzJkzGTVqFBdddBFHHXVUrkM0MzMzM6szTnJYQ7UlIrpmvF6LiJMrD5LUqJo5rgKyJjk+ioh4IyIG1fW8ZjUhiYhg9uzZ3HnnnXzyk5/kk5/8JH//+985//zzGTt2bK5DNDMzMzPbY16uYgcMSZsiIl9SH2AU8CbQVVJ34F6gLdAI+B5wKHA48ISkdRHRt7p5gTuAs4AtwNkR8Zako4Dfkvx39kjG+HbAQxFxbHr8G6BF2j08ImpVcWJWlQ0bNvDcc89x2mmncfDBB3PPPfcwd+5cbr/9di688EK2bt26Y2z37t35yU9+wplnnpnDiM3MzMzMPhonOayhaiapLD1+NSIGVurvARwbEa9KOg94IyL+A0BSy4j4l6Srgb4RsW4312oBzI+IEZJuBb4B3EyS+Pi/iJgs6fIqzl0LnBER5ZKOBn4H7LIMRtIwYBhAs8Ki3YRjlti6dSs33HADK1eupFGjRpSUlDBjxgw6dOiwy9hGjRrRunVr8vPzcxCpmZmZmVndcJLDGqotEdG1mv7nI+LV9HgZ8CNJY0kqLObV8lrvAw+lx4uAM9LjXsB56fFvgGzrABoD4yV1BbYDx2S7QERMBCYCtCo+OmoZnx2gioqKWLBgQY3Gvvbaa3s3GDMzMzOzfcB7ctiBanPFQUT8FTiBJNnxA0k31nKurRFRkXjYzs7Jw90lJL4NvAV0IangaFLLa5uZmZmZmVnKSQ474Ek6HPh3RPw/4EfA8WnXu0DBR5j6aeBL6fGFVYxpCbwZER8AF5HsCWJmZmZmZmZ7wEkOM/gM8Hy6h8cIkv00IFke8kdJT+zhvN8CLpe0gCSZkc0EYIik+SRLVTZXMc7MzMzMzMx2Qx9W2ZtZfdCq+Og4bewduQ7D9nMPDPpCrkMwMzMzM9srJC2KiF0e2ACu5DAzMzMzMzOzBsJJDjMzMzMzMzNrEPwIWbN6pn3rll6KYGZmZmZmloUrOczMzMzMzMysQXCSw8ysgenTpw95eXnk5+eTn59Phw4dAHjxxRfp1q0brVu3pnXr1vTr148XX3wxx9GamZmZmdUdJznMzBqg8ePHs2nTJjZt2sRf/vIXAA4//HCmTZvGO++8w7p16/jiF7/Il770pRxHamZmZmZWd7wnh1k98/L6jZwz7U+5DsP2QzMG9au2v1WrVrRq1QqAiKBRo0a8/PLL+yAyMzMzM7N9w5UcZmYN0HXXXUdhYSG9evVizpw5O/W1atWKvLw8rrjiCq6//vrcBGhmZmZmthe4ksPMrIEZO3YsnTp1okmTJkydOpUBAwZQVlZGcXExABs2bGDz5s3cfffdHHnkkTmO1szMzMys7riSw3JC0qbd9M+R1C09nimpVS3m3nFu+r6dpOV7HGwtpNf6Ssb7PpIe2hfXNqvQs2dPCgoKaNq0KUOGDKFXr17MnDlzpzEtWrTgsssu4+KLL2bt2rU5itTMzMzMrG45yWH7vYj4QkRsyHUcNdQO+MruBlVFkqurrM5JIiJ2af/ggw/497//zZo1a3IQlZmZmZlZ3XOSw3KmcpWDpPGSLsky7jVJhenxDEmLJK2QNGwPrtlI0g8lLZC0VNJ/ZsQyR9I0SSslTZGktO8LadtTku6siFnSaZLK0tdiSQXALcApadu3K127haRfptdeLOnstP0SSfdJ+gPwaG3vySzThg0bmDVrFuXl5Wzbto0pU6Ywd+5c+vfvz2OPPcbixYvZvn07Gzdu5Oqrr6Z169Z07Ngx12GbmZmZmdUJ/9XY6puvRcQ7kpoBCyRNj4h/Zhk3RdKW9LgJ8EF6/HXgXxHRXVJT4GlJFYmF44BS4A3gaaCXpIXAXcCpEfGqpN9lXOMa4PKIeFpSPlAOfBe4JiLOgiR5kjF+BPB4RHwtXX7zvKSKx6ScBHSOiHf26FMxS23dupUbbriBlStX0qhRI0pKSpgxYwYdOnRg6dKlXHHFFbz++us0a9aM7t2788gjj5CXl5frsM3MzMzM6oSTHFbfXClpYHr8KeBoIFuS48KIWAjJPhlARcXI54DOkgal71umc7wPPB8Rr6fnlJEsPdkEvBIRr6bjfwdUVJA8DfxE0hTg/oh4PS3+qMrngC9KuiZ9nwcckR4/Vl2CI61aGQbQrPAT1V3DDnBFRUUsWLAga9/gwYMZPHjwPo7IzMzMzGzfcZLDcmkbOy+ZqvbPyWlVRD/gpIj4t6Q5uzsn2zTAFRExK8vc72U0bSf576PKrEVE3CLpYeALwHxJ/Wpw7fMi4i+Vrt0T2FzdiRExEZgI0Kr4mF03VzAzMzMzMzPvyWE5tRroJKmppJbAZ3czviWwPk1wlAAn7sE1ZwH/JakxgKRjJLWoZvxK4NNpNQjABRUdkoojYllEjAUWAiXAu0BBNde+ImOvj+P2IH4zMzMzMzOrgis5bJ9LnyDyXkT8XdK9wFLgJWDxbk59BLhM0lLgL8D8Pbj8JJJlKC+kyYa3gXOqGhwRWyR9E3hE0jrg+YzuqyT1Jan6eBH4I8neH9skLQF+XemevgfcDixNr/0acNYe3IOZmZmZmZlloWyPFTTbmyR1AX4eET1yHUtNSMqPiE1pYuKnwEsRcVuu4mlVfEz0GTshV5e3/diMQbtbMWVmZmZmVv9JWhQR3bL1ebmK7VOSLiPZvPOGXMdSC99INyJdQbJk5q7chmNmZmZmZmbZeLmK7VMR8TPgZ7mOozbSqo2cVW6YmZmZmZlZzTjJYVbPtG/9MS9LMDMzMzMzy8LLVczMzMzMzMysQXCSw8zMzMzMzMwaBCc5zMwaiD59+pCXl0d+fj75+fl06NABgPnz53PGGWdwyCGHUFRUxODBg3nzzTdzHK2ZmZmZWd3znhxm9cyq9ZsYOP2pXIdh+5Hfn9d7x/H48eMZOnToTv3r169n2LBh9O/fn4MPPpjhw4dz6aWX8sgjj+zrUM3MzMzM9ionOczMGrgzzzxzp/fDhw/ntNNOy1E0ZmZmZmZ7j5ermJk1INdddx2FhYX06tWLOXPmZB0zd+5cSktL921gZmZmZmb7gCs5zMwaiLFjx9KpUyeaNGnC1KlTGTBgAGVlZRQXF+8Ys3TpUsaMGcMDDzyQw0jNzMzMzPYOV3IcoCR9UtJUSaskvShppqRjch3X7kjqKukLGe+/KOm7dTBvreaR1E7S8kptoyVdkx5fIunwGswzR1K32kdstquePXtSUFBA06ZNGTJkCL169WLmzJk7+l9++WXOPPNM7rjjDk455ZQcRmpmZmZmtnc4yXEAkiTg98CciCiOiE7A9cCh+ziOPakk6grsSHJExIMRcctHjaWu5slwCbDbJIfZ3iSJiABg9erV9OvXj5EjR3LRRRflODIzMzMzs73DSY4DU19ga0T8rKIhIsoiYp4SP5S0XNIySRcASOqTVh1Mk7RS0pQ0WYKkW9JqkKWSfpS2FUmaLmlB+uqVto+WNFHSo8BkSc9J2rE5QHqNEyT1kPSMpMXpzw6SmgBjgAsklUm6IK2YGC+ppaTXJB2UztNc0t8lNZZULOkRSYskzZNUUvkDqZgnPf61pDvT674iaVBtPtx0fDdgShpnM0k3pp/D8vT+lXHKYEnPS/qrJP953fbIhg0bmDVrFuXl5Wzbto0pU6Ywd+5c+vfvz5o1azj99NO5/PLLueyyy3IdqpmZmZnZXuMkx4HpWGBRFX3nklRLdAH6AT+UdFjadxxwFdAJ+DTQS9IhwECgNCI6AzenY+8AbouI7sB5wKSMa5wAnB0RXwGmAucDpNc5PCIWASuBUyPiOOBG4H8j4v30+J6I6BoR91RMGBH/ApYAFY+MGADMioitwETgiog4AbgGmFCDz+gwoDdwFlCrCo+ImAYsBC5M49wCjI+I7hFxLNAsnbfCwRHRg+SzHZVtTknDJC2UtPC9jRtqE44dILZu3coNN9xAUVERhYWFjBs3jhkzZtChQwcmTZrEK6+8wk033UR+fv6Ol5mZmZlZQ+ONR62y3sDvImI78JakJ4HuwEbg+Yh4HUBSGdAOmA+UA5MkPQw8lM7TD+iUUbDwMUkF6fGD6Rd/gHuBx0i+3J8P3Je2twTulnQ0EEDjGsR+D3AB8ATwJWCCpHzgZOC+jFia1mCuGRHxAfCipGzLeKKK86pq7yvpWqA5cAiwAvhD2nd/+nMRyWe666QRE0mSNbQuLqnqGnYAKyoqYsGCBVn7Ro0axahRWfNnZmZmZmYNipMcB6YVQFVLMFRFO8B7GcfbSSoQtknqAXyWJLEwHDidpEropIxkRjJ5kmjYXPE+ItZI+qekziQJiv9Mu74HPBERAyW1A+bU4L4eBH6QVpecADwOtAA2RETXGpyfKfNes30m/wRaV2o7BHi18kBJeSTVI90i4u+SRgN5Wa61Hf83aWZmZmZmtse8XOXA9DjQVNI3KhokdZd0GjCXZM+LRpKKgFOB56uaKK2UaBkRM0mWW3RNux4lSXhUjOta+dwMU4Fr03mWpW0tgTXp8SUZY98FCsgiIjalsd4BPBQR2yNiI/CqpMFpHJLUpZpYaiS91puSPpvOewjweeCpLHFWJDTWpZ9Xrfb4MDMzMzMzs5pxkuMAFMnjFgYCZyh5hOwKYDTwBslTV5aS7G/xOHBtRPyjmukKgIckLQWeBL6dtl8JdEs3I30RqG63w2kkVSD3ZrTdSlKV8TTQKKP9CZJlMGUVm6JWcg/w1fRnhQuBr0taQlLFcnY1sdTGxcAN6dKdx4GbImJV2vdr4Gdp33vAz4FlwAwg+5oCMzMzMzMz+0hU8XhBM6sfWheXRJ9bJ+1+oB0wfn9e71yHYGZmZma2z0haFBHdsvW5ksPMzMzMzMzMGgQnOczMzMzMzMysQfCTHMzqmeLW+V6eYGZmZmZmloUrOczMzMzMzMysQXCSw8ysHuvTpw95eXnk5+eTn59Phw4dAHj//fcZNGgQ7dq1QxJz5szJbaBmZmZmZvuAl6uY1TOr1v+b86YvzHUYlmPTz/twM+nx48czdOjQXcb07t2bq666isGDB+/L0MzMzMzMcsZJDjOzBqhJkyZcddVVADRq1Ci3wZiZmZmZ7SNermJmVs9dd911FBYW0qtXLy9LMTMzM7MDmpMcZmb12NixY3nllVdYs2YNw4YNY8CAAaxatSrXYZmZmZmZ5YSTHGZ1TFI7SV/Zg/MukTR+b8RkDVfPnj0pKCigadOmDBkyhF69ejFz5sxch2VmZmZmlhNOcpjVvXZA1iSHJO+DY3uVJCIi12GYmZmZmeWEkxy2X0irH1ZKmiRpuaQpkvpJelrSS5J6SDpE0gxJSyXNl9Q5PXe0pF9KmiPpFUlXZsz7VUnPSyqTdJekRpK+Lum2jDHfkPST9PjidP4lkn6Tth0paXbaPlvSEWn7ryXdKemZ9LqD0ilvAU5Jr/nttELjPkl/AB6t6j7MamvDhg3MmjWL8vJytm3bxpQpU5g7dy79+/cH4L333qO8vBxIHilbXl7uBIiZmZmZNWj+q7LtT9oDg4FhwAKSaojewBeB64G/A4sj4hxJpwOTga7puSVAX6AA+Iuk/0vnuwDoFRFbJU0ALgSmAkslXRsRW4FLgf+UVAqMSMevk3RIOvd4YHJE3C3pa8CdwDlp32FpjCXAg8A04LvANRFxFiTLUICTgM4R8Y6kcdXch1mNbd26lRtuuIGVK1fSqFEjSkpKmDFjBh06dACgQ4cOrF69GmBH4uPVV1+lXbt2uQrZzMzMzGyvcpLD9ievRsQyAEkrgNkREZKWkSwBORI4DyAiHpf0cUkt03Mfjoj3gPckrQUOBT4LnAAskATQDFgbEZslPQ6cJenPQOOIWCbpCmBaRKxLr/FOOvdJwLnp8W+AWzNinhERHwAvSjq0mnt7LGO+3tXcR1aShpEkf2hW+MnqhtoBpKioiAULFlTZ/9prr+27YMzMzMzM9gNOctj+5L2M4w8y3n9A8m91W5ZzKmrvM8/dno4XcHdEXJflvEkk1SErgV+lbcqYrzqZYzKvq2rO2bybcdVeNyImAhMBWhd38noDMzMzMzOzLLwnh9Unc0mWmyCpD7AuIjZWM342MEjSJ9JzDpF0JEBEPAd8imRJzO8yxp8v6eMV49P2Z4AvpccXAk/tJs53SZbN1NV9mJmZmZmZWQ24ksPqk9HAryQtBf4NDKlucES8KOkGks0+DwK2ApcDq9Mh9wJdI2J9On6FpO8DT0raDiwGLgGuBH4p6TvA2yR7eFRnKbBN0hLg18D6j3IfZmZmZmZmVjPyTvt2oJL0EHBbRMzOdSy10bq4U5x+6+Rch2E5Nv28brkOwczMzMwsJyQtiois/4fYy1XsgCOplaS/AlvqW4LDzMzMzMzMqublKnbAiYgNwDG5jsPMzMzMzMzqlpMcZvVMcevmXqpgZmZmZmaWhZermJmZmZmZmVmD4CSHmZmZmZmZmTUITnKYmdUzffr0IS8vj/z8fPLz8+nQocOOvtmzZ1NSUkLz5s3p27cvq1evrmYmMzMzM7OGxXtymNUzr6wv5/zpL+Y6DMuRe8/rBMD48eMZOnToTn3r1q3j3HPPZdKkSQwYMICRI0dywQUXMH/+/FyEamZmZma2z7mSw8ysgbj//vspLS1l8ODB5OXlMXr0aJYsWcLKlStzHZqZmZmZ2T7hJIeZWT103XXXUVhYSK9evZgzZw4AK1asoEuXLjvGtGjRguLiYlasWJGjKM3MzMzM9i0vVzEzq2fGjh1Lp06daNKkCVOnTmXAgAGUlZWxadMmioqKdhrbsmVL3n333RxFamZmZma2b7mSw+oNSSHpxxnvr5E0ei9e6zcZ7w+W9Lakh3Zz3mhJ12RpP1zStPS4z+7mMatOz549KSgooGnTpgwZMoRevXoxc+ZM8vPz2bhx405jN27cSEFBQY4iNTMzMzPbt5zksPrkPeBcSYX74FqbgWMlNUvfnwGs2dPJIuKNiBhUJ5GZVSKJiKC0tJQlS5bsaN+8eTOrVq2itLQ0h9GZmZmZme07TnJYfbINmAh8u3KHpCJJ0yUtSF+90vZlklop8U9JF6ftv5HUT1KppOcllUlaKunojGn/CPxHevxl4HcZ1ztE0oz0nPmSOmec10XS45JekvSNdHw7ScuzxN1C0i/TmBdLOvsjfkbWwG3YsIFZs2ZRXl7Otm3bmDJlCnPnzqV///4MHDiQ5cuXM336dMrLyxkzZgydO3empKQk12GbmZmZme0TTnJYffNT4EJJLSu13wHcFhHdgfOASWn700AvoBR4BTglbT8RmA9cBtwREV2BbsDrGXNOBb4kKQ/oDDyX0XcTsDgiOgPXA5Mz+jqTJEdOAm6UdHg19zMCeDyNuy/wQ0ktKg+SNEzSQkkL39v4TjXTWUO3detWbrjhBoqKiigsLGTcuHHMmDGDDh06UFRUxPTp0xkxYgStW7fmueeeY+rUqbkO2czMzMxsn/HGo1avRMRGSZOBK4EtGV39gE6SKt5/TFIBMA84FVgN/B8wTFIb4J2I2CTpWWCEpLbA/RHxUsa1lkpqR1LFMbNSKL1JkilExOOSPp6ReHkgIrYAWyQ9AfQAyqq4pc8BX8zYxyMPOAL4c6X7nkhSxcIhxcdGdZ+RNWxFRUUsWLCgyv5+/fr5kbFmZmZmdsByJYfVR7cDXwcyKx4OAk6KiK7pq01EvAvMJaneOAWYA7wNDCJJfhARvwW+SJIwmSXp9ErXehD4ERlLVVJiV1HpZ+X2bASclxH3ERHx52rGm5mZmZmZWRWc5LB6JyLeAe4lSXRUeBQYXvFGUtd07N+BQuDoiHgFeAq4hjTJIenTwCsRcSdJQiNzbw2AXwJjImJZpfa5wIXpHH2AdRFR8ViLsyXlSfo40Aeo+s/uMAu4QmkJiqTjqr97MzMzMzMzq4qTHFZf/ZgkeVHhSqBbuhHoiyR7bVR4DvhrejwPaEOS7AC4AFguqQwoYee9NYiI1yPijizXH11xPeAWYEhG3/PAwyR7fnwvIt6o5j6+BzQGlqYbk36vmrFmZmZmZmZWDUV4eb9ZfXJI8bHR79Z7cx2G5ci953XKdQhmZmZmZjklaVFEdMvW50oOMzMzMzMzM2sQnOQwMzMzMzMzswbBj5A1q2c+3TrPSxbMzMzMzMyycCWHmZmZmZmZmTUITnKYmdUzffr0IS8vj/z8fPLz8+nQocOOvtmzZ1NSUkLz5s3p27cvq1evzmGkZmZmZmb7lpermNUzr214n0vv/1uuw7Ac+dW5RwAwfvx4hg4dulPfunXrOPfcc5k0aRIDBgxg5MiRXHDBBcyfPz8XoZqZmZmZ7XOu5DAzayDuv/9+SktLGTx4MHl5eYwePZolS5awcuXKXIdmZmZmZrZPOMlhZlYPXXfddRQWFtKrVy/mzJkDwIoVK+jSpcuOMS1atKC4uJgVK1bkKEozMzMzs33Ly1XMzOqZsWPH0qlTJ5o0acLUqVMZMGAAZWVlbNq0iaKiop3GtmzZknfffTdHkZqZmZmZ7Vuu5LD9nqRNe3jea5IKdzPm+krvn9mTa2WZ99eSXpVUJmmlpFE1OOcqSc3r4vrWsPXs2ZOCggKaNm3KkCFD6NWrFzNnziQ/P5+NGzfuNHbjxo0UFBTkKFIzMzMzs33LSQ470O2U5IiIk+tw7u9ERFegKzBE0lG7GX8V4CSH1ZokIoLS0lKWLFmyo33z5s2sWrWK0tLSHEZnZmZmZrbvOMlh9YakwyTNTasjlks6JW3/sqRladvYKs6dIWmRpBWShqVttwDN0vmmpG2b0p+S9MN0zmWSLkjb+0iaI2laWqExRZJ2E3pe+nNzOsdnJS1O5/2lpKaSrgQOB56Q9MRH/KisAduwYQOzZs2ivLycbdu2MWXKFObOnUv//v0ZOHAgy5cvZ/r06ZSXlzNmzBg6d+5MSUlJrsM2MzMzM9snnOSw+uQrwKy0OqILUCbpcGAscDpJxUR3SedkOfdrEXEC0A24UtLHI+K7wJaI6BoRF1Yaf246XxegH/BDSYelfceRVF10Aj4N9Koi3h9KKgNeB6ZGxFpJecCvgQsi4jMk++L8V0TcCbwB9I2IvjX+ROyAs3XrVm644QaKioooLCxk3LhxzJgxgw4dOlBUVMT06dMZMWIErVu35rnnnmPq1Km5DtnMzMzMbJ/xxqNWnywAfimpMTAjIsoknQ7MiYi3AdKKjFOBGZXOvVLSwPT4U8DRwD+ruVZv4HcRsR14S9KTQHdgI/B8RLyeXq8MaAc8lWWO70TENEn5wGxJJ5NUc7waEX9Nx9wNXA7cXt2Np9UnwwBaFLapbqg1cEVFRSxYsKDK/n79+vmRsWZmZmZ2wHIlh9UbETGXJIGxBviNpIuB3S0VQVIfkmqMkyKiC7CYD5eQVHlaNX3vZRxvZzfJwojYBMwhSZzsNt4q5pgYEd0ioltey0P2ZAozMzMzM7MGz0kOqzckHQmsjYifA78AjgeeA06TVCipEfBl4MlKp7YE1kfEvyWVACdm9G1NK0MqmwtcIKmRpCKS5Mrzexj3wUBPYBWwEmgnqX3afVFGvO8CfgyGmZmZmZnZHnKSw+qTPiT7cCwGzgPuiIg3geuAJ4AlwAsR8UCl8x4BDpa0FPgeMD+jbyKwtGLj0Qy/B5amcz4OXBsR/6hlvBV7ciwFlgH3R0Q5cClwn6RlwAfAzzJi+aM3HjUzMzMzM9sziohcx2BmtVDYvnMMuPWhXIdhOfKrc4/IdQhmZmZmZjklaVFEdMvW50oOMzMzMzMzM2sQnOQwMzMzMzMzswbBj5A1q2fatWriJQtmZmZmZmZZuJLDzMzMzMzMzBoEJznMzMzMzMzMrEFwksPMrJ7p06cPeXl55Ofnk5+fT4cOHXb0zZ49m5KSEpo3b07fvn1ZvXp1DiM1MzMzM9u3vCeHWT3zxoatjP79G7kOw3Jk9MDDARg/fjxDhw7dqW/dunWce+65TJo0iQEDBjBy5EguuOAC5s+fn4tQzczMzMz2OVdymJk1EPfffz+lpaUMHjyYvLw8Ro8ezZIlS1i5cmWuQzMzMzMz2yec5DAzq4euu+46CgsL6dWrF3PmzAFgxYoVdOnSZceYFi1aUFxczIoVK3IUpZmZmZnZvuXlKmZm9czYsWPp1KkTTZo0YerUqQwYMICysjI2bdpEUVHRTmNbtmzJu+++m6NIzczMzMz2rQOmkkPSJyVNlbRK0ouSZko6po6v0UfSydX0f1HSdz/iNW6TdFXG+1mSJmW8/7GkqzOvJekcSZ0yxsyR1O2jxJEx1/XV9OVLuiv9zFdImiupZ11ct65ImpT52dThvNsllUlaIumF6v5dpOPbSfpKXcdhDVPPnj0pKCigadOmDBkyhF69ejFz5kzy8/PZuHHjTmM3btxIQUFBjiI1MzMzM9u3DogkhyQBvwfmRERxRHQCrgcOreNL9QGyfpmVdHBEPBgRt3zEazxTcQ1JBwGFQGlG/8nA05WudQ5Q51/kU1UmOYBJwDvA0RFRClxCEu9uKbHX/31GxNCIeDHL9Rt9xKm3RETXiOgCXAf8YDfj2wFOctgekUREUFpaypIlS3a0b968mVWrVlFaWlrN2WZmZmZmDccBkeQA+gJbI+JnFQ0RURYR89Iv0z+UtFzSMkkXwI6qjIcqxksaL+mS9Pg1STelf6FfJqlEUjvgMuDb6V/wT5H0a0k/kfQEMFbSJZLGp3MUSZouaUH66pW2n5aeXyZpsaTKf4J9mg8TKaXAcuBdSa0lNQU6AosrrpVWEHwR+GE6Z3F67mBJz0v6q6RT0mvnSfpVek+LJfVN23fEnb5/KP18bgGapfNOyQwyvU5P4IaI+CD9zF+JiIfT/qvTz3x5RWVKWs3wZ0kTgBeAT1Xzu5kjaZqklZKmpIksJN2Yfp7LJU1Mf78dJT2fEVs7SUvT4x1VLZI2SRoj6TngpPT3XJj2dZM0p4a/o8o+BqxPz8367w24BTglnfPbu5nPDmAbNmxg1qxZlJeXs23bNqZMmcLcuXPp378/AwcOZPny5UyfPp3y8nLGjBlD586dKSkpyXXYZmZmZmb7xIGyJ8exwKIq+s4FugJdSKoMFkiaW4M510XE8ZK+CVwTEUMl/QzYFBE/ApD0deAYoF9EbK9IkqTuAG6LiKckHQHMIklQXANcHhFPS8oHyjMvGhFvSNqWnnMy8CzQBjgJ+BewNCLeT7/zExHPSHoQeCgipqVxARwcET0kfQEYBfQDLk/P+YykEuBRVbOkJyK+K2l4RHTN0l0KlEXE9sodkk4ALiVJggh4TtKTJImADsClEfFNSedR9e/muPQab5AkfnoBTwHjI2JMep3fAGdFxB8kNZH06Yh4BbgAuDdLzC2A5RFxY8bnlE21v6NUM0llQB5wGHB62l7Vv7fvkvw7OivbBSUNA4YBtCxqU1VcdgDYunUrN9xwAytXrqRRo0aUlJQwY8YMOnToAMD06dMZPnw4X/3qV+nZsydTp07NccRmZmZmZvvOgZLkqE5v4Hfpl/G30i/b3YGN1Z/G/enPRSRfXKtyX7Yv+iRJhU4ZX6Q/llYEPA38JK2MuD8iXs9ybkU1x8nAT0iSHCeTJDme2U3c2eJvlx73BsYBRMRKSatJkjR1rTfw+4jYDCDpfuAU4EFgdUTMzxhX1e/m+YrPJk0mtCNJcvSVdC3QHDgEWAH8gSSpcT5JxcQF6auy7cD0GsRfk9/Rlorkj6STgMmSjt3NPVUpIiYCEwEOb98lahCjNVBFRUUsWLCgyv5+/fr5kbFmZmZmdsA6UJarrABOqKKvqj/Xb2PnzyevUv976c/tVJ8s2lxF+0HASem+DV0jok1EvJvuozEUaAbMTysqKqvYl+MzJMtV5pNUcpxM8gW8JrLFv6efRTYrgC7Kvq9GlSUS7Px5VTfuvYzj7cDBkvKACcCgiPgM8POMWO8Bzk8rUyIiXsoyZ3mlhFTmfe+45xr+jsgY/yxJ1UbRbu7JzMzMzMzMPoIDJcnxONBU0jcqGiR1l3QaMBe4QFIjSUXAqcDzwGqSSoumkloCn63Bdd4FavoYg0eB4RnxdE1/FkfEsogYCywEsn2Bfho4C3gnIrZHxDtAK5JEx7MfIa65wIVpHMcARwB/AV4Duko6SNKngB4Z52yV1LjyRBGxKo3/poz9Mo6WdHZ6nXMkNZfUAhgIzKsinmy/m6pUJCLWpctIBlWKZzswkiThUROv8WFy7LyKxhr+jsgYXwI0Av5ZzT3V5t+OmZmZmZmZZXFAJDkiIki+SJ+h9HGmwGiS/Rx+DywFlpAkQ66NiH9ExN9JljgsBaYAi2twqT8AA9PNI0/ZzdgrgW6Slkp6kWTTUoCr0k0plwBbgD9mOXcZSWXA/Ept/4qIdVnGTwW+k26SWZylv8IEoJGkZSSJgEsi4j2SpMqr6TV+RLIpaIWJwFJV2ng0NRT4JPByOufPgTci4gXg1yRf7p8DJkVEts836++mquAjYkN6jWXADKByTf89wFfJvh9HNjcBd0iaR5IgqVCT31HFhqxl6XWHpFUiVd3TUmCbkkfOeuNRMzMzMzOzPaDk+7+Z1ReHt+8Sw36YLa9iB4LRAw/PdQhmZmZmZjklaVFEdMvWd0BUcpiZmZmZmZlZw+ckh5mZmZmZmZk1CH6ErFk9c3irxl6yYGZmZmZmloUrOczMzMzMzMysQXCSw8ysnunTpw95eXnk5+eTn59Phw4ddvTNnj2bkpISmjdvTt++fVm9enUOIzUzMzMz27e8XMWsnlm7YSs//f1buQ7DcuTygYcCMH78eIYOHbpT37p16zj33HOZNGkSAwYMYOTIkVxwwQXMnz8/21RmZmZmZg2OKznMzBqI+++/n9LSUgYPHkxeXh6jR49myZIlrFy5MtehmZmZmZntE05ymJnVQ9dddx2FhYX06tWLOXPmALBixQq6dOmyY0yLFi0oLi5mxYoVOYrSzMzMzGzf8nIVM7N6ZuzYsXTq1IkmTZowdepUBgwYQFlZGZs2baKoqGinsS1btuTdd9/NUaRmZmZmZvuWKznqOUkfl1SWvv4haU16vEHSi3Uw/wOSnq2LWKu5xmhJP6jU1lXSn9Pj70v6u6RNlcY0lXSPpJclPSepXaX+qj6bMklN9uY97Y6kRpKulbRY0nJJP5V0SC5jsvqjZ8+eFBQU0LRpU4YMGUKvXr2YOXMm+fn5bNy4caexGzdupKCgIEeRmpmZmZntW05y1HMR8c+I6BoRXYGfAbelx12BDz7K3JJaAccDrSQd9dEirdbvgAsqtX0J+G16/AegR5bzvg6sj4j2wG3A2MzOqj6b9PV+Xd4A7EjMPCDph5KGSJot6XhJf8syfDxQCGwAAjgE+I2kFnUdlzV8kogISktLWbJkyY72zZs3s2rVKkpLS3MYnZmZmZnZvuMkR8PWSNLPJa2Q9KikZgCSiiU9ImmRpHmSSqo4/zySBMNUkqQD6fmD0+qDJZLmpm2lkp5PqySWSjo6bZ+RXmeFpGEZc2ySNEbSc0ARsEFSz4xrn59el4iYHxFvZonvbODu9Hga8FlJ2t2HIukESU+mcc2SdFja/g1JC9L7mi6pedr+a0n/J+kJSa9IOk3SLyX9WdKvK+aNiDLgMeAu4F9pbNense10feBVoBi4ISI+A/w3MBoYhlk1NmzYwKxZsygvL2fbtm1MmTKFuXPn0r9/fwYOHMjy5cuZPn065eXljBkzhs6dO1NSUtV/4mZmZmZmDYuTHA3b0cBPI6KUpGLgvLR9InBFRJwAXANMqOL8L5NUWfwuPa5wI9A/IroAX0zbLgPuSKsmugGvp+1fS6/TDbhS0sfT9hbA8ojoGRFPpdf4EoCkE4F/RsRLu7m/NsDfASJiG0li4ePVnSCpMTAOGJTG9Uvg+2n3/RHRPb2vP5NUilRoDZwOfJsk8XMbUAp8RlLXjHHrgfeBd4GVETEI+EelMPoAvwEOiYin0/jfiIgF6T2ZVWnr1q3ccMMNFBUVUVhYyLhx45gxYwYdOnSgqKiI6dOnM2LECFq3bs1zzz3H1KlTcx2ymZmZmdk+441HG7ZX0+oCgEVAO0n5wMnAfRlFD00rnyjpUKA98FREhKRtko6NiOXA08CvJd0L/7+9e4+zsir7P/75ysERBxkSEI1ToeWBFHWwNA8YVCQdNCVF8RQ1D4WplGU/C0LtqUzpqFaWpZaJx8x6TBBzEM8KbAHHA6JjqSWecBgRlZnr98e9BjfDnmFAnD17+L5fr/2a+15r3eu+7tkOMhfXWpsb0iX3AN+RNIAsWdCUoDhV0hHpeCBZ4uUloAG4Pu+WM4G7JX2DLNlxVRuer1DVRmzgmg8Cw4Bb0/N3AZqqRIZJ+j5QAZQDs/Ku+1v6PiwGno+IxQCSHgaGADmAiLgyjV+7RCUiftyGuJsUTDymKpgqgN59B7T2fNbJ9e3blwceeKDF/tGjR/sjY83MzMxsi+UkR+f2Rt5xA7AN2S/RK1LFRWuOJqteeColA7YjSz58NyImpaUlY4GcpOER8ee09GQsMEvSl8j2BBkN7B8RqyRVA2Vp/tUR0dB0s4j4t6Ra4BCyipP92/B8z5AlTp6R1BXoBby8gWsEPBwRhea/DDg8Ih6SdBJZxUWTpu9lI+t+XxvZ+J+jucAJwCuSDoyIOyX1BwbxdgXMOiLiErIKHAbtvNeGEjlmZmZmZmZbJC9X2cJERB1Z4mIcgDJ7FRg6HhgTEUMiYgiwL28vJxkaEfdFxDTgRWCgpPcDT0bEL4CbgD3Jkg6vpATHrsBHNhDeVWTLQJZFRMFf9pu5CTgxHR8F/DMiNpQAeAzoK2n/9CzdJDXtytgT+E9a0nJcG+6/SdKylKFk+3J8P1WH/BQ4l2w/DzMzMzMzM9sETnJsmY4DJkp6CHiYbAPPtdJHsQ4C7m1qi4ingLpUwXG+pMWSlgB3AA+RVX4skZQDdgWuAG4BukpaRPYL/L207lqyfS7W2URA0o8lPQP0kPSMpOmp61Jge0lPAF8Hvr2hB0+fqnIUcF56/hzZ8h2AqcB9ZJuHvtv1/l8hSxBVkP0c1gHHRsRr7/J9zczMzMzMOi1t+B++zawjGbTzXnHm+bOLHYYVyeQjdih2CGZmZmZmRSVpfkRUFupzJYeZmZmZmZmZdQpOcpiZmZmZmZlZp+BPVzErMf0qunnJgpmZmZmZWQGu5DAzMzMzMzOzTsFJDjMzMzMzMzPrFJzkMDMrMUuXLqWsrIwJEyasbfvd737HzjvvTHl5OWPGjOG5554rYoRmZmZmZsXhPTnMSszLr6zhyutfKHYY1o6OO7LvOueTJ09mxIgRa8/nzp3LWWedxe23384uu+zCaaedxvjx45k7d257h2pmZmZmVlSu5DAzKyEzZ86koqKCUaNGrW3729/+xrhx49hjjz3o3r07U6dO5Y477mDZsmVFjNTMzMzMrP05yWFmViLq6uqYNm0aM2bMWKc9IoiIdc4BlixZ0q7xmZmZmZkVm5McZmYlYurUqUycOJGBAweu037YYYdxzTXXsGjRIl5//XXOOeccJLFq1aoiRWpmZmZmVhxOclhBkvpLmilpmaQaSTdL+oCkkZL+3sI1v5O0+2a49+cl3ZZ3fqCknKSukj4r6dsbuL7FGN9hXEMkhaSv5bVdKOmkzX0vs+ZyuRxz5sxhypQp6/WNGjWKs88+myOPPJLBgwczZMgQevbsyYABA4oQqZmZmZlZ8TjJYeuRJOAvQHVEDI2I3YGzgB1auy4ivhQRNe/0/hFxA7Ba0rGSugIXA1+NiDURcVNE/Oid3uMdWA6cJql7EWOwLVB1dTW1tbUMGjSI/v37c8EFF3D99dezzz77ANlmpEuXLmX58uUceeSRrFmzhmHDhhU5ajMzMzOz9uUkhxVyKPBWRPy6qSEichExL52WS7pO0qOSrkxJESRVS6pMx/WS/lfSQ5LulbRDav+MpPskLZQ0p6m9gK8B3wfOBh6IiLvT9SdJujAdXybpF5LulvSkpKPyrm8pxlpJfdJxpaTqdLxfmmdh+vrBFuJ6AbgNOLF5h6Shkm6RNF/SPEm7SuqSYpOkCkmNkg5O4+dJ2lnSIalSJZfu37PVd8e2SFVVVSxbtoxcLkcul2PSpEmMHTuWWbNmsXr1apYsWUJE8K9//YuqqipOO+00evfuXeywzczMzMzalZMcVsgwYH4r/XsDpwO7A+8HPlpgzLbAvRGxF3AH8OXUfifwkYjYG5gJfKvQDSLiSeBq4BTgzFZi2RE4EPg0kF/h0ZYY8z0KHJzimgb8oJWxPwK+IalLs/ZLgK9FxL7AGcDFEdEAPJ7iOJDs+3qQpK2BARHxRBo7OSKGAwcBrze/oaQqSQ9KerCu7qUNPIp1Rj169KB///5rX+Xl5ZSVldG3b19Wr17NscceS3l5Ofvttx/7778/5557brFDNjMzMzNrd12LHYCVpPsj4hkASTlgCFnyIt+bQNO+GPOBj6fjAcDVknYEugNPFbqBpK2A0UA9MBh4sYVYboyIRqCmWVVIW2LM1wu4XNIuQADdWhoYEU9Juh84Ni/ecuAA4NpUNAKwdfo6DzgYeB/wQ7KEz1zggdR/F/ATSVcCNzTF3eyel5AlUXj/0OHRvN+2PNOnT197XFFRwaJFi4oXjJmZmZlZB+FKDivkYWDfVvrfyDtuoHCy7K14+zMt88f8ErgwIj4E/A9Q1sI9JgNLgInARcrLHLQSi1poz7//Gt7+7z7/3ucCt0fEMOAzrcTV5AdkFSZNc20FrIiI4Xmv3VLfPLIKjf2Am4EKYCRZhQtpj5EvAdsA90radQP3NjMzMzMzswKc5LBC/glsLalpiQmSRkg6ZDPM3Qt4Nh2vt69Fuld/4OvAtyLiljT+S5vh3gC1vJ3AObKFuE7a0CQR8ShQQ7ZMhoioA56SNA6yzVsl7ZWG30dW5dEYEauBHFmCZ14aOzQiFkfEecCDgJMcZmZmZmZmm8BJDltPqsA4Avh4+gjZh4HpwHObYfrpZEs65tHyEpSfAD+OiBfS+enAdyS9ZzPc/2zg5+n+DXntPwZ+KOkuoPleGy35X7LlN02OAyZKeoisGuZzABHxBvBv4N40bh7QE1iczk+XtCRd9zrwj41+KjMzMzMzM0Nvrygws1Lw/qHD49wf31rsMKwdHXdk32KHYGZmZmbWYUiaHxGVhfpcyWFmZmZmZmZmnYKTHGZmZmZmZmbWKfgjZM1KzHt6d/XyBTMzMzMzswJcyWFmZmZmZmZmnYKTHGZmJWbp0qWUlZUxYcKEtW2/+93v2HnnnSkvL2fMmDE899zm+DAkMzMzM7PS4uUqZiVmxStruOnalj591zqjz47rs8755MmTGTFixNrzuXPnctZZZ3H77bezyy67cNpppzF+/Hjmzp3b3qGamZmZmRWVKznMzErIzJkzqaioYNSoUWvb/va3vzFu3Dj22GMPunfvztSpU7njjjtYtmxZESM1MzMzM2t/TnKYmZWIuro6pk2bxowZM9ZpjwgiYp1zgCVLlrRrfGZmZmZmxeYkh5lZiZg6dSoTJ05k4MCB67QfdthhXHPNNSxatIjXX3+dc845B0msWrWqSJGamZmZmRWHkxxmZiUgl8sxZ84cpkyZsl7fqFGjOPvssznyyCMZPHgwQ4YMoWfPngwYMKAIkZqZmZmZFY+THFsQSf0lzZS0TFKNpJslfaDYcTVJ8VS8S3P3kHSlpMWSlki6U1L5JsxzuKTd884vk3TUZoqxWlLl5pjLOp/q6mpqa2sZNGgQ/fv354ILLuD6669nn332AbLNSJcuXcry5cs58sgjWbNmDcOGDSty1GZmZmZm7cufrrKFkCTgL8DlEXFMahsO7AA8voFru0REw7sdY0QcVuDeAhQRje9w+tOA5yPiQ2neDwJvbcI8hwN/B2reYTxmG6Wqqopjjjlm7fkFF1xAbW0tv/rVr1i9ejVPPPEEe+yxB//+97+pqqritNNOo3fv3kWM2MzMzMys/bmSY8txKPBWRPy6qSEicsCdks5P1Q2LJR0NIGmkpNsl/RlYLKlM0h/SmIWSDk3jTpJ0g6RbJC2V9OOm+SX9StKDkh6WdHZq+5Ska/LGjJT0t3RcK6mPpCGSHpF0MbAAGCipPu+aoyRdlo7HpdgfknRHK8+/I/Bs3rM/FhFvpDlOkLQozfHH1DZY0m2p/TZJgyQdAHwWOF9STtLQ/BtImibpgRTPJSlB01ShcZ6k+yU9Lumg1L5NqqxZJOlqYJu2vJG2ZerRowf9+/df+yovL6esrIy+ffuyevVqjj32WMrLy9lvv/3Yf//9Offcc4sdspmZmZlZu3Mlx5ZjGDC/QPvngeHAXkAf4IG8ZMF+wLCIeErSNwAi4kOSdgVm5y11GQ7sDbwBPCbplxHxb+A7EfGypC7AbZL2BG4FfiNp24h4DTgauLpAXB8ETo6IrwKkfEEh04BPRsSzG1jq8vsU81HAbWQVLUsl7QF8B/hoRLwo6T1p/IXAFRFxuaQvAr+IiMMl3QT8PSKuKxDXhRFxTmr/I/Bp4G+pr2tE7CfpMOB7wGjgK8CqiNgzfW8WtBS8pCqgCqBvH++zYDB9+vS1xxUVFSxatKh4wZiZmZmZdRCu5LADgasioiEingfmAiNS3/0R8VTeuD8CRMSjwNNAU5Ljtoh4NSJWky3jGJzavyBpAbAQ2APYPSLWALcAn5HUFRgL/LVAXE9HxL1tiP8u4DJJXwa6tDQoVa28HzgfeA9ZMmc34GPAdRHxYhr3crpkf+DP6fiP6fk35FBJ90lanObdI6/vhvR1PjAkHR8M/CnddxHQ4m+pEXFJRFRGROV2223fhlDMzMzMzMy2PK7k2HI8DBTaILPFEgngtTaOeyPvuAHoKul9wBnAiIh4JS0vKUtjrgYmAy8DD0TEyg3cGyDyjsvWNkZMkvRhsmRJTtLwiHipUJARUU+WbLhBUiNwGNm+HFFofCv3X4+kMuBioDIi/i1pen6cvP09amDdn7u23NvMzMzMzMzawJUcW45/AlunigcAJI0AXgGOltRFUl+y6oL7C1x/B3Bcuu4DwCDgsVbutx1ZouJVSTsAn8rrqwb2Ab5M4aUqhTwvaTdJWwFH5D3D0Ii4LyKmAS8CAwtdLOmjknqn4+7A7mTVKLeRVZxsn/qalqvcDTTt8ngccGc6Xgn0LHCLpoTGi8o+taUtn7iS/z0dBuzZhmvMzMzMzMysBa7k2EJEREg6AviZpG8Dq4Fa4HSgHHiIrKrgWxHx37TvRr6LgV+npRhrgJMi4o2W9sqIiIckLSSrIHmSbFlJU1+DpL8DJwEntvERvk32qSb/BpakmCHbBHQXskqT29JzFDIU+FXaDHQr4P+A69P35X+BuZIayJbWnAScCvxe0jeBF4CT0zwzgd9KOpW8REZErJD0W2Ax2ff1gTY806+AP0haBOQonFwyMzMzMzOzNlKEq+XNSsnOQ4fHT340p9hhWDv67Lg+xQ7BzMzMzKzDkDQ/IioL9Xm5ipmZmZmZmZl1Cl6uYp2KpE8C5zVrfioijig0vhRV9O7qf9k3MzMzMzMrwEkO61QiYhYwq9hxmJmZmZmZWfvzchUzMzMzMzMz6xSc5DAzKzFLly6lrKyMCRMmrG373e9+x84770x5eTljxozhueeeK2KEZmZmZmbF4eUqZiWm7uU1zPnzC8UOw9rR6GP7rnM+efJkRowYsfZ87ty5nHXWWdx+++3ssssunHbaaYwfP565c+e2d6hmZmZmZkXlSg4zsxIyc+ZMKioqGDVq1Nq2v/3tb4wbN4499tiD7t27M3XqVO644w6WLVtWxEjNzMzMzNqfkxxmZiWirq6OadOmMWPGjHXaI4KIWOccYMmSJe0an5mZmZlZsTnJYWZWIqZOncrEiRMZOHDgOu2HHXYY11xzDYsWLeL111/nnHPOQRKrVq0qUqRmZmZmZsXhJId1eJL6S5opaZmkGkk3S/pA6ttD0j8lPS5pqaSpyoyUdE+zebpKel7SjpIuk3RUaq+W9JikRZIelXShpIoWYvmipMVp7BJJn9vEZ6rflOtsy5XL5ZgzZw5TpkxZr2/UqFGcffbZHHnkkQwePJghQ4bQs2dPBgwYUIRIzczMzMyKxxuPWocmScBfgMsj4pjUNhzYQdK/gZuAr0TEbEk9gOuBrwK/AgZIGhIRtWm60cCSiPhPNu06jouIByV1B34I/BU4pFksA4DvAPtExKuSyoG+zScyezdUV1dTW1vLoEGDAKivr6ehoYGamhoWLFjA5MmTmTx5MgCPP/443//+9xk2bFgxQzYzMzMza3eu5LCO7lDgrYj4dVNDROQiYh5wLHBXRMxO7auAU4BvR0QjcC1wdN5cxwBXtXaziHgT+BYwSNJezbr7ASuB+jS2PiKeApC0s6Q5kh6StEDSUEnlkm5L54tbqvqQ9E1JD6TqkLPb+o2xLUtVVRXLli0jl8uRy+WYNGkSY8eOZdasWaxevZolS5YQEfzrX/+iqqqK0047jd69exc7bDMzMzOzduUkh3V0w4D5LfTt0bwvIpYB5ZK2I0toNFV/bA0cRlbp0aqIaAAeAnZt1vUQ8DzwlKQ/SPpMXt+VwEURsRdwAPAfYDVwRETsQ5asmaFmJSSSPgHsAuwHDAf2lXRw85gkVUl6UNKDr658aUOPYJ1Qjx496N+//9pXeXk5ZWVl9O3bl9WrV3PsscdSXl7Ofvvtx/7778+5555b7JDNzMzMzNqdl6tYKRMQLfRFRDyQqik+COwG3BsRr2zE3M0nbJA0BhgBjAJ+KmlfYAbw3oj4Sxq3GkBSN+AHKWnRCLwX2AH4b960n0ivhem8nCzpcUeze18CXALwgfcPb+mZbQsyffr0tccVFRUsWrSoeMGYmZmZmXUQTnJYR/cwcFQrfetUPUh6P1AfEStT00yyao7d2MBSlbw5ugAfAh5p3hfZZ3PeD9wv6VbgD8BPWpjqOLI9O/aNiLck1QJlzW8H/DAiftOW2MzMzMzMzKxlXq5iHd0/ga0lfbmpQdIISYeQLRE5UNLo1L4N8Avgx3nXXwVMAD5Gtklpq1L1xQ+Bf0fEomZ9O0naJ69pOPB0RNQBz0g6PI3bOm2C2gtYnhIchwKDC9xyFvDFtIkpkt4rqd+G4jQzMzMzM7P1uZLDOrSICElHAD+T9G2yfS5qgdMj4vW0mecvJV0EdAH+CFyYd32NpFXA/Ih4rZVbXSnpDWBrYA5QaJPQbsAFknZKcbwATEp9xwO/kXQO8BYwjiwJ8zdJDwI54NECzzdb0m7APWm7jnqypMzyDX5zzMzMzMzMbB3Kqu/NrFR84P3D4+Lv31rsMKwdjT7Wn1RsZmZmZtZE0vyIqCzU5+UqZmZmZmZmZtYpOMlhZmZmZmZmZp2C9+QwKzHbvaerly+YmZmZmZkV4EoOMzMzMzMzM+sUnOQwMysBS5cupaysjAkTJqxtu+aaa9htt93o2bMnu+++OzfeeGPxAjQzMzMz6wC8XMWsxNS/tIa7r3ih2GHYu+yAE9ZdkjR58mRGjBix9vzZZ59lwoQJ/PWvf2XMmDHcfPPNjBs3jtraWvr169fe4ZqZmZmZdQiu5DAz6+BmzpxJRUUFo0aNWtv2zDPPUFFRwac+9SkkMXbsWLbddluWLVtWxEjNzMzMzIrLSQ4zsw6srq6OadOmMWPGjHXaKysr2W233bjppptoaGjgxhtvZOutt2bPPfcsUqRmZmZmZsXn5SpmZh3Y1KlTmThxIgMHDlynvUuXLpxwwgkce+yxrF69mu7du3Pttdey7bbbFilSMzMzM7PicyWHlQxJ20vKpdd/JT2bjldIqnkH854k6YU0V42kL6f2cySN3nxPYLZxcrkcc+bMYcqUKev1zZkzh29961tUV1fz5ptvMnfuXL70pS+Ry+XaP1AzMzMzsw7ClRxWMiLiJWA4gKTpQH1EXCBpCPD3dzj91RFxiqR+wMOSboqIae9wzk0iqUtENBTj3taxVFdXU1tby6BBgwCor6+noaGBmpoajj32WA4++GAqKysBGDFiBB/+8IeZM2cOw4cPL2LUZmZmZmbF40oO6yy6SPqtpIclzZa0DYCkoZJukTRf0jxJu7Y2SUQsB5YBgyVdJumoNM8oSQslLZb0e0lbp/ZaSWdLWpD6dk3t26ZxD6TrPpfau0g6P7UvkvQ/qX2kpNsl/RlY/K59l6ykVFVVsWzZMnK5HLlcjkmTJjF27FhmzZrFiBEjmDdv3trKjYULFzJv3jzvyWFmZmZmWzRXclhnsQswPiK+LOka4EjgT8AlwKSIWCrpw8DFwMdamkTS+4H3A0/ktZUBlwGjIuJxSVcAXwF+loa8GBH7SPoqcAbwJeA7wD8j4ouSKoD7Jc0BjgNejYgRKVFyl6TZaZ79gGER8dRm+H5YJ9CjRw969Oix9ry8vJyysjL69u3LIYccwvTp0znqqKN4/vnn6du3L2eddRaf+MQnihixmZmZmVlxOclhncVTEZFLx/OBIZLKgQOAayU1jdu6heuPlnQg8AbwPxHxct41H0zzP57OLwcm83aS44a8+34+HX8C+KykM9J5GTAote/ZVCEC9CJL0LwJ3N9SgkNSFVAFsMP2A1p4BOvspk+fvs75KaecwimnnFKcYMzMzMzMOiAnOayzeCPvuAHYhmw51oqIGN6G66+OiJZ+W1QL7c3v3cDbP1MCjoyIx9aZKMucfC0iZjVrHwm81tINIuISsqoUdn3f8NhAPGZmZmZmZlsk78lhnVZE1AFPSRoHWYJB0l6bMNWjZJUhO6fz44G5G7hmFvC1lNRA0t557V+R1C21f0CSP/PTzMzMzMxsM3CSwzq744CJkh4CHgY+t7ETRMRq4GSyZS+LgUbg1xu47FygG7BI0pJ0DvA7oAZYkNp/gyuqzMzMzMzMNgtFuPLdrJTs+r7h8fuzby12GPYuO+CEvsUOwczMzMysQ5I0PyIqC/W5ksPMzMzMzMzMOgUnOczMzMzMzMysU/BeAGYlpnz7rl7KYGZmZmZmVoArOczMzMzMzMysU3CSw8zMzMzMzMw6BSc5zMw6mKVLl1JWVsaECRPWtq1atYqvfvWr9OnTh169enHwwQcXMUIzMzMzs47Je3KYlZhVL65h4e+WFzsM24z2/lK/dc4nT57MiBEj1mmrqqpizZo1PPLII7znPe8hl8u1Y4RmZmZmZqXBSQ4zsw5k5syZVFRUcMABB/DEE08A8Nhjj3HTTTfxzDPPsN122wGw7777FjNMMzMzM7MOyctVzMw6iLq6OqZNm8aMGTPWab/vvvsYPHgw3/ve9+jTpw8f+tCHuP7664sUpZmZmZlZx+Ukh5lZBzF16lQmTpzIwIED12l/5plnWLJkCb169eK5557jwgsv5MQTT+SRRx4pUqRmZmZmZh2TkxxWFJLqm52fJOnCDVxzuKTd393IWr3/ZZKelbR1Ou8jqbZY8VjnksvlmDNnDlOmTFmvb5tttqFbt25897vfpXv37hxyyCEceuihzJ49uwiRmpmZmZl1XN6Tw0rJ4cDfgZoixtAAfBH4VRFjsE6ourqa2tpaBg0aBEB9fT0NDQ3U1NRw/vnnFzk6MzMzM7PS4EoO63AkDZZ0m6RF6esgSQcAnwXOl5STNFRStaSfSbpb0hJJ+6Xr90ttC9PXD6b2HpKuSfNeLek+SZWp7xOS7pG0QNK1kspbCO9nwBRJ6yUIJX1T0gNp/rNT27cknZqOfyrpn+l4lKQ/SeqSKkSWSFosaf1/xrctQlVVFcuWLSOXy5HL5Zg0aRJjx45l1qxZHHzwwQwaNIgf/vCHrFmzhrvuuovq6mo++clPFjtsMzMzM7MOxUkOK5ZtUrIiJykHnJPXdyFwRUTsCVwJ/CIi7gZuAr4ZEcMjYlkau21EHAB8Ffh9ansUODgi9gamAT9I7V8FXknzngvsC9myE+C7wOiI2Ad4EPh6C3H/C7gTOD6/UdIngF2A/YDhwL6SDgbuAA5KwyqBckndgAOBeWnseyNiWER8CPhDoZtKqpL0oKQHX1n5UguhWSnr0aMH/fv3X/sqLy+nrKyMvn370q1bN/76179y880306tXL7785S9zxRVXsOuuuxY7bDMzMzOzDsXLVaxYXo+I4U0nkk4iSwIA7A98Ph3/EfhxK/NcBRARd0jaTlIF0BO4XNIuQADd0tgDgZ+n8UskLUrtHwF2B+6SBNAduKeVe/6ALOHyf3ltn0ivhem8nCzpcQVZwqMn8AawID3nQcCpwH+A90v6ZZqv4CYLEXEJcAnA7kOGRyuxWScxffr0dc732GMP7rmntf8szczMzMzMSQ4rBa39Ut+8L8iqNG6PiCMkDQGqU59amEPArRExvk3BRDyRqk++0GyOH0bEb9abPNuc9GTgbmARcCgwFHgkIkLSXsAngclpzi+2JQ4zMzMzMzNbl5erWEd0N3BMOj6ObHkIwEqyKo18RwNIOhB4NSJeBXoBz6b+k/LG3klKTKRPaflQar8X+KiknVNfD0kf2ECM/wuckXc+C/hi014ekt4rqV/quyONvYNsicokIJcSHH2ArSLiemAqsM8G7mtmZmZmZmYtcJLDOqJTgZPTcpLjgdNS+0zgm2lD0aGp7RVJdwO/Biamth8DP5R0F9Alb96Lgb5p3jPJqipejYgXyJIhV6W+e4FWNzuIiIfJlp40nc8G/gzcI2kxcB1vJ2TmATsC90TE88Dq1AbwXqA6VYZcBvy/DX53zMzMzMzMrCBFeHm/lSZJ1cAZEfFgG8d3AbpFxOqUJLkN+EBEvPkuhrnZ7T5keFz53YJbd1iJ2vtL/TY8yMzMzMzMAJA0PyIqC/V5Tw7bkvQAbk+fbiLgK6WW4DAzMzMzM7OWOclhJSsiRm7k+JW8/QkuZmZmZmZm1sk4yWFWYnr06erlDWZmZmZmZgV441EzMzMzMzMz6xSc5DAz6wCWLl1KWVkZEyZMAKC2thZJlJeXr32de+65RY7SzMzMzKxj83IVsxKzevlbPHbR88UOwzaDD07eYe3x5MmTGTFixHpjVqxYQdeu/qPazMzMzKwtXMlhZlZkM2fOpKKiglGjRhU7FDMzMzOzkuYkh5lZEdXV1TFt2jRmzJhRsH/w4MEMGDCAk08+mRdffLGdozMzMzMzKy1OcpiZFdHUqVOZOHEiAwcOXKe9T58+PPDAAzz99NPMnz+flStXctxxxxUpUG/k4AAAOnNJREFUSjMzMzOz0uAkh7WJpCMkhaRd89qGSHpdUk5SjaRfS9oq9e0h6Z+SHpe0VNJUSWph7v0kVadxCyT9n6QPtdezpRhqJS1Oz5KT9It3OFefdHz3BsbWb+p9rPTlcjnmzJnDlClT1usrLy+nsrKSrl27ssMOO3DhhRcye/Zs6urqihCpmZmZmVlp8G521lbjgTuBY4Dpee3LImK4pK7AP4HDJf0DuAn4SkTMltQDuB74KnBR/qSSdgCuAY6NiLtT24HAUGBxs7FdI2LNu/FwyaERsVnXA0TEAZtzPutcqqurqa2tZdCgQQDU19fT0NBATU0NCxYsWGdsU44wIto9TjMzMzOzUuFKDtsgSeXAR4GJZEmO9aTkw93AzsCxwF0RMTv1rQJOAb5d4NJTgMubEhxp/J0RcWO692WSfiLpduA8ScMl3StpkaS/SOqdxlVLqkzHfSTVpuOTJP1V0i2SHpP0vY189mpJ50m6P1WlHJTae0i6JsVxtaT7mu7f7Pr69HVHSXekKpElTfOkvv+V9FB6rh2az2GdV1VVFcuWLSOXy5HL5Zg0aRJjx45l1qxZ3HfffTz22GM0Njby0ksvceqppzJy5Eh69epV7LDNzMzMzDosJzmsLQ4HbomIx4GXJe3TfECq1hhFVn2xBzA/vz8ilgHlkrZrdukewAJa9wFgdER8A7gCODMi9kz3akvSYj/gOGA4MK5QMiK5PW+5Sv76ga4RsR9wet79vgq8kuI4F9h3AzEcC8yKiOHAXkAutW8L3BsRewF3AF9uw/NYJ9GjRw/69++/9lVeXk5ZWRl9+/blySefZMyYMfTs2ZNhw4ax9dZbc9VVVxU7ZDMzMzOzDs3LVawtxgM/S8cz03lTYmKopBwQwF8j4h+SPpHOC2m11l7SfcB2wOyIOC01XxsRDZJ6ARURMTe1Xw5c24b4b42Il9L8NwAHAg8WGNfScpUb0tf5wJB0fCDwc4CIWCJp0QZieAD4vaRuwI0RkUvtbwJ/z5v/44UullQFVAHs1HvABm5lpWr69Olrj8ePH8/48eOLF4yZmZmZWQlyksNaJWl74GPAMEkBdAFC0rfSkGWpOiHfw8DBzeZ5P1AfESsLjN0H+CtARHxY0lHAp/PGvNaGUNfwdmVSWbO+5omVjd3U4I30tYG3f2YKbqLakoi4Q9LBwFjgj5LOj4grgLfi7U0W8udvfv0lwCUAwwbt5U0ZzMzMzMzMCvByFduQo4ArImJwRAyJiIHAU2SVDC25EjhQ0mgASdsAvwB+XGDsRcBJkvI36OxRaNKIeBV4JW8/i+OBpqqOWt5eMnJUs0s/Luk9KY7Dgbtaib2t7gS+ACBpd6DVT4ORNBhYHhG/BS4lS+yYmZmZmZnZZuRKDtuQ8cCPmrVdT7bHxHmFLoiI1yV9DvilpIvIqj/+CFxYYOx/JR1Ntqnoe4HlwIvAOS3EcyLw67QHyJPAyan9AuAaSceTfcpLvjvT/XcG/hwRhZaqQLYnR0M6XhQRJ7QwDuBi4PK0TGUhsAh4tZXxI4FvSnoLqAdam9vMzMzMzMw2gfxxhNaZSToJqIyIUzbzvF2AbhGxWtJQ4DbgAxHx5ua8TyHDBu0V1585+92+jbWDD072h+mYmZmZmW0sSfMjouAHSriSw2zT9CCr/OhGtj/HV9ojwWFmZmZmZmYtc5LDOrWIuAy47F2YdyXQ0kfRmpmZmZmZWRE4yWFWYsr6dfMyBzMzMzMzswL86SpmZmZmZmZm1ik4yWFmZmZmZmZmnYKTHGZmHcDSpUspKytjwoQJANTW1iKJ8vLyta9zzz23yFGamZmZmXVs3pPDrMS8+fxb/HvGf4sdhm0GA7/Rf+3x5MmTGTFixHpjVqxYQdeu/qPazMzMzKwtXMlhZlZkM2fOpKKiglGjRhU7FDMzMzOzkuYkh5lZEdXV1TFt2jRmzJhRsH/w4MEMGDCAk08+mRdffLGdozMzMzMzKy1OcpiZFdHUqVOZOHEiAwcOXKe9T58+PPDAAzz99NPMnz+flStXctxxxxUpSjMzMzOz0uCF3lYSJDUAi8n+m30KOD4iVrQyvho4IyIebNZeCZwQEadKGgm8GRF3F7j+JKAyIk6RtBXwB6ABmBgRsTmeySyXyzFnzhwWLly4Xl95eTmVlZUA7LDDDlx44YXsuOOO1NXVsd1227V3qGZmZmZmJcFJDisVr0fEcABJlwOTgf/d2ElS0qMp8TESqAfWS3I0kSTg10A34OT2SHBI6hoRa97t+1jxVVdXU1tby6BBgwCor6+noaGBmpoaFixYsM7Y7D9FcI7NzMzMzKxlXq5ipege4L0AkoZLulfSIkl/kdQ7b9w4SfdLelzSQWn8SEl/lzQEmARMkZRr6i/g58D2ZNUfjZKmSzqjqVPSEklD0utRSb9LbVdKGi3pLklLJe2Xxu8n6W5JC9PXD6b2kyRdK+lvwOzN/P2yDqqqqoply5aRy+XI5XJMmjSJsWPHMmvWLO677z4ee+wxGhsbeemllzj11FMZOXIkvXr1KnbYZmZmZmYdlpMcVlIkdQFGATelpiuAMyNiT7LlLN/LG941IvYDTm/WTkTUklVo/DQihkfEvAK3OxbYFzimjZUVO5MlRfYEdk3XHwicAZyVxjwKHBwRewPTgB/kXb8/cGJEfKzAc1dJelDSgy+/9lIbQrFS0KNHD/r377/2VV5eTllZGX379uXJJ59kzJgx9OzZk2HDhrH11ltz1VVXFTtkMzMzM7MOzctVrFRsIykHDAHmA7dK6gVURMTcNOZy4Nq8a25IX+en6zbWArJkxX7AXW0Y/1RELAaQ9DBwW0SEpMV59+8FXC5pFyDIlsE0uTUiXi40cURcAlwCsOfAvbxeoZOaPn362uPx48czfvz44gVjZmZmZlaCXMlhpaJpT47BQHeyPTk25I30tYFNS+g9CnwBuFrSHqltDev+3JQVuB9AY955Y979zwVuj4hhwGeaXf/aJsRoZmZmZmZmiZMcVlIi4lXgVLIlIKuAV/L20zgemNvStQWsBHpu4H53k+3d8X+SBgG1wD4AkvYB3rcx8ZNVcjybjk/ayGvNzMzMzMysFU5yWMmJiIXAQ8AxwInA+ZIWAcOBczZiqr8BR2xg41Ei4u/A2cAtwO3Ae9LSma8Aj29k+D8GfijpLqDLRl5rZmZmZmZmrZA/jtCstOw5cK/4v9NnFTsM2wwGfqN/sUMwMzMzMys5kuZHRGWhPldymJmZmZmZmVmn4CSHmZmZmZmZmXUK/ghZsxLTfYduXuZgZmZmZmZWgCs5zMzMzMzMzKxTcJLDzKwDWLp0KWVlZUyYMAGA2tpaJFFeXr72de655xY5SjMzMzOzjs3LVcxKzFv/fZP/nl9b7DBsM+j/zSFrjydPnsyIESPWG7NixQq6dvUf1WZmZmZmbeFKDjOzIps5cyYVFRWMGjWq2KGYmZmZmZU0JznMzIqorq6OadOmMWPGjIL9gwcPZsCAAZx88sm8+OKL7RydmZmZmVlpcZLDzKyIpk6dysSJExk4cOA67X369OGBBx7g6aefZv78+axcuZLjjjuuSFGamZmZmZUGJzmsZEmqkPTVDYzpLukPkhZLekjSyHdwv50kXbep1xeY76xm53dvrrmtNORyOebMmcOUKVPW6ysvL6eyspKuXbuyww47cOGFFzJ79mzq6uqKEKmZmZmZWWnwbnZWyiqArwIXtzLmywAR8SFJ/YB/SBoREY0be7OIeA44qq3jJXWJiIZWhpwF/CBv/gM2NiYrbdXV1dTW1jJo0CAA6uvraWhooKamhgULFqwzVhIAEdHucZqZmZmZlQpXclgp+xEwVFJO0rWSDmvqkHSZpCOB3YHbACJiObACqExjJkp6XFK1pN9KujDv2qPy5qpPX4dIWpJ3PE/SgvQ6ILWPlHS7pD8Di1PbjZLmS3pYUlVq+xGwTYr9yvz72JajqqqKZcuWkcvlyOVyTJo0ibFjxzJr1izuu+8+HnvsMRobG3nppZc49dRTGTlyJL169Sp22GZmZmZmHZaTHFbKvg0si4jhwJ+BoyFbogKMAm4GHgI+J6mrpPcB+wIDJe0ETAU+Anwc2HUj770c+HhE7JPu+4u8vv2A70TE7un8ixGxL1ly5VRJ20fEt4HXI2J4RHijhS1Ujx496N+//9pXeXk5ZWVl9O3blyeffJIxY8bQs2dPhg0bxtZbb81VV11V7JDNzMzMzDo0L1exzuIfwC8kbQ2MAe6IiNcl/R7YDXgQeBq4G1hDloiYGxEvA0i6FvjARtyvG3ChpOFAQ7Nr74+Ip/LOT5V0RDoeCOwCvLQxD5cqQKoA3lux08ZcaiVk+vTpa4/Hjx/P+PHjixeMmZmZmVkJcpLDOoWIWC2pGvgkWWXFVal9DbB2V8e0uedS4IOtTLeGVOWkbCOE7gXGTAGeB/ZKY1fn9b2Wd7+RwGhg/4hYlWIs25hnS89xCXAJwF4D9vSmDGZmZmZmZgV4uYqVspVAz7zzmcDJwEHALABJPSRtm44/DqyJiBrgfuAQSb0ldQWOzJunlmxZC8DnyKo2musF/CdtYHo80KWFGHsBr6QEx65ky2OavCWp0NxmZmZmZma2CZzksJIVES8Bd0laIul8YDZwMDAnIt5Mw/oBCyQ9ApxJlpAgIp4l+2ST+4A5QA3warrmt2QJkPuBD5NXmQE0VVFcDJwo6V6ypSr5Y/LdAnSVtAg4F7g3r+8SYFHTxqNmZmZmZmb2zsgfR2hbKknlEVGfKjn+Avw+Iv7Syvh9gZ9ExCHtFmQBew3YM2addlMxQ7DNpP83hxQ7BDMzMzOzkiNpfkRUFupzJYdtyaZLygFLgKeAG1saKKmSbJ+Pn7dLZGZmZmZmZrbRvPGobbEi4oyNGPsgG/fpK2ZmZmZmZtbOnOQwKzHd+nf3MgczMzMzM7MCvFzFzMzMzMzMzDoFJznMzMzMzMzMrFNwksPMrANYunQpZWVlTJgwAYDa2lokUV5evvZ17rnnFjlKMzMzM7OOzXtymJWYt55fzX9/UlPsMGwz6P/13dceT548mREjRqw3ZsWKFXTt6j+qzczMzMzawpUcZmZFNnPmTCoqKhg1alSxQzEzMzMzK2lOcpiZFVFdXR3Tpk1jxowZBfsHDx7MgAEDOPnkk3nxxRfbOTozMzMzs9LiJIeZWRFNnTqViRMnMnDgwHXa+/TpwwMPPMDTTz/N/PnzWblyJccdd1yRojQzMzMzKw1e6G22iSR9BzgWaAAagf+JiPtaGDsdqI+IC9ovQuvocrkcc+bMYeHChev1lZeXU1lZCcAOO+zAhRdeyI477khdXR3bbbdde4dqZmZmZlYSnOQw2wSS9gc+DewTEW9I6gN0L3JYVmKqq6upra1l0KBBANTX19PQ0EBNTQ0LFixYZ6wkACKi3eM0MzMzMysVXq5itml2BF6MiDcAIuLFiHhOUm1KeCCpUlJ18wslfVnSPyRtI2mCpPsl5ST9RlKX9n0MK6aqqiqWLVtGLpcjl8sxadIkxo4dy6xZs7jvvvt47LHHaGxs5KWXXuLUU09l5MiR9OrVq9hhm5mZmZl1WE5ymG2a2cBASY9LuljSIW25SNIpwGeAw4EhwNHARyNiONmyl4KbLkiqkvSgpAdfeu3lzRC+dQQ9evSgf//+a1/l5eWUlZXRt29fnnzyScaMGUPPnj0ZNmwYW2+9NVdddVWxQzYzMzMz69C8XMVsE0REvaR9gYOAQ4GrJX17A5cdDzwDHB4Rb0kaBewLPJCWImwDLG/hfpcAlwDsNXCY1yt0UtOnT197PH78eMaPH1+8YMzMzMzMSpCTHGabKCIagGqgWtJi4ERgDW9XSJU1u2QJMBwYADwFCLg8Iv5fe8RrZmZmZmbW2Xm5itkmkPRBSbvkNQ0HngZqyaozAI5sdtlC4H+AmyTtBNwGHCWpX5rzPZIGv5txm5mZmZmZdWau5DDbNOXALyVVkFVvPAFUAbsBl0o6C1jv42Qj4k5JZwD/B3wc+C4wW9JWwFvAZLJkiZmZmZmZmW0kJznMNkFEzAcOKNA1D/hAgfHT845nAbPS6dXpZWZmZmZmZu+Ql6uYmZmZmZmZWafgJIeZmZmZmZmZdQpermJWYrrtUEb/r+9e7DDMzMzMzMw6HFdymJmZmZmZmVmn4CSHmVkRLV26lLKyMiZMmLBe39lnn40k5syZU4TIzMzMzMxKj5ermJWYt55fxfM/m1/sMGwT7XD6vuucT548mREjRqw3btmyZVx33XXsuOOO7RWamZmZmVnJcyWHmVmRzJw5k4qKCkaNGrVe3ymnnMJ5551H9+7dixCZmZmZmVlpcpLDzKwI6urqmDZtGjNmzFiv79prr6V79+4cdthhRYjMzMzMzKx0ebmKmVkRTJ06lYkTJzJw4MB12uvr6znrrLOYPXt2kSIzMzMzMytdruSwDktSf0kzJS2TVCPpZkkf2IR5KiX9ooW+Wkl9CrTvKukeSW9IOqNZ32mSlkh6WNLpLcw7XdKzknKSHpX0K0mt/rxJOknSThvxaFaicrkcc+bMYcqUKev1fe973+P444/nfe97XxEiMzMzMzMrba7ksA5JkoC/AJdHxDGpbTiwA/D4xswVEQ8CD25kCC8DpwKHN4trGPBlYD/gTeAWSf8XEUsLzPHTiLggJTfuAA4Bbm/lnicBS4DnNjJWKzHV1dXU1tYyaNAgIKveaGhooKamhsbGRp555hkuvvhiAF544QW+8IUvcOaZZ3LmmWcWM2wzMzMzsw7PSQ7rqA4F3oqIXzc1REQO1iZAfgx8Cgjg+xFxtaSryZIiN6dxlwF/A14CzoiIT0vaHrgK6AvcD6jQzSNiObBc0thmXbsB90bEqnSPucARKZ6WdAfKgFfSNcOBXwM9gGXAF4FRQCVwpaTXgf0j4vXWv0VWqqqqqjjmmGPWnl9wwQXU1tbyq1/9iq222oq33nprbd+IESP4yU9+wqc+9alihGpmZmZmVlK8XMU6qmFAS5+T+nlgOLAXMBo4X9KOwEzgaABJ3ckSBzc3u/Z7wJ0RsTdwEzBoI+NaAhwsaXtJPYDDgIEtjJ0iKQf8B3i8KUkDXAGcGRF7AouB70XEdWTVJsdFxHAnODq3Hj160L9//7Wv8vJyysrK6Nu3L9tvv/06fV26dKF3796Ul5cXO2wzMzMzsw7PlRxWig4EroqIBuD5VE0xAvgH8AtJWwNjgDsi4vWs8GOtg8mSJETE/0l6ZWNuHBGPSDoPuBWoBx4C1rQwvGm5SjfgOknHpBgrImJuGnM5cO2G7iupCqgCGNC7/8aEbCVg+vTpLfbV1ta2WxxmZmZmZqXOlRzWUT0M7NtCX0tLTFYD1cAnySo6ZrZwfaw3oTQ5bRKa29DmnxFxaUTsExEHk+3dUWg/jvzxbwG3kCVYNklEXBIRlRFR+Z5te2/qNGZmZmZmZp2akxzWUf0T2FrSl5saJI2QdAjZJp5HS+oiqS9Z8uD+NGwmcDJwEDCrwLx3AMel+T4F9AaIiIvSMpHhEdHqxp+S+qWvg8iqQq7awHgBBwDLIuJV4BVJB6Xu44Gmqo6VQM/W5jIzMzMzM7OWebmKdUgREZKOAH4m6dvAaqAWOJ0sUbE/2VKRAL4VEf9Nl84m2/Pipoh4s8DUZwNXSVpAllz4V6H7S+pPtkfGdkBj+qjY3SOiDrg+bWD6FjA5Ilpa8jJF0gSgG7AIuDi1nwj8Ou3p8SRZUgbgstTujUfNzMzMzMw2gSLWq9w3sw5sr4G7x+xv/LHYYdgm2uH0llZhmZmZmZlZW0iaHxGVhfq8XMXMzMzMzMzMOgUnOczMzMzMzMysU/CeHGYlptsOPbzkwczMzMzMrABXcpiZmZmZmZlZp+Akh5mZmZmZmZl1Ck5ymJkV0dKlSykrK2PChAnr9Z199tlIYs6cOUWIzMzMzMys9HhPDrMS89byep7/+V3FDsM20Q6nfXSd88mTJzNixIj1xi1btozrrruOHXfcsb1CMzMzMzMrea7kMDMrkpkzZ1JRUcGoUaPW6zvllFM477zz6N69exEiMzMzMzMrTU5ymJkVQV1dHdOmTWPGjBnr9V177bV0796dww47rAiRmZmZmZmVLi9XMTMrgqlTpzJx4kQGDhy4Tnt9fT1nnXUWs2fPLlJkZmZmZmaly5UcHYik+rzjwyQtlTSolfGHS9o977xaUmU7xNlV0g9SfLn0+s47mG+zxy3pMkmrJPXMa/u5pJDUJ503pNgfkrRA0gHN5pgiabWkXm28Z9N8SyRdK6mHpCGSlrQS41Pp/o9LukLSe9/Jc1tpyOVyzJkzhylTpqzX973vfY/jjz+e973vfUWIzMzMzMystLmSowOSNAr4JfCJiPhXK0MPB/4O1GzE3F0jYs07i5DvA/2BD0XE6pRI+MY7nPPd8ATwOeBPkrYCDgWezet/PSKGA0j6JPBD4JC8/vHAA8ARwGVtuF/+fFcCk4AbNnDNNyPiOkkCTgdulzQsIt5sw/2sRFVXV1NbW8ugQVkOs76+noaGBmpqamhsbOSZZ57h4osvBuCFF17gC1/4AmeeeSZnnnlmMcM2MzMzM+vwXMnRwUg6CPgtMDYilqW2L0t6IP2L//WpQuAA4LPA+al6YGiaYpyk+1NlwEHp+pNSZcHfgNmS/ijpc3n3vFLSZ9O4GyTdkqo0flwgvh7Al4GvRcRqgIhYGRHTU/86lQuSzpA0XdJQSQvy2neRNL/A/L+S9KCkhyWdndpGSfpL3piPS9pQ8gDgKuDodDwSuAtoKcGzHfBK3j2GAuXAd8mSHRtrHrBzOu4i6bfpmWZL2qb54Mj8FPgv8KlNuJ+VkKqqKpYtW0YulyOXyzFp0iTGjh3LrFmzuO2221iyZMnavp122onf/OY3TJ48udhhm5mZmZl1eE5ydCxbA38FDo+IR/Pab4iIERGxF/AIMDEi7gZuIqsEGN6UEAG6RsR+ZFUB38ubY3/gxIj4GPA74GSAtBTjAODmNG44WWLgQ8DRktbdMCD7xf1fEbFyYx4sxfeqpOGp6WQKV0d8JyIqgT2BQyTtCfwT2E1S37xr/9CG2y4F+krqTZaomNmsf5uUIHqU7Htybl7feLIkyTzgg5L6teF+QFYtQ5aoWJyadgEuiog9gBXAka1cvgDYtcCcVSn58+DL9SvaGop1UD169KB///5rX+Xl5ZSVldG3b1+23377dfq6dOlC7969KS8vL3bYZmZmZmYdnpMcHctbwN3AxGbtwyTNk7QYOA7Yo5U5mioc5gND8tpvjYiXASJiLrBz+sV9PHB93hKW2yLi1VSlUQMMbi1gSSenRMG/CyREmvsdcLKkLmSJlD8XGPOFVPGxkOw5d4+IAP4ITJBUQZaw+ccG7tXkBuAY4MNkCYt8r6cE0a7AGOCKtGyEdM3MiGhMc4xrw722kZQDHgT+BVya2p+KiFw6bv6+NKdCjRFxSURURkTle8or2hCKlZLp06fzpz/9qWBfbW0to0ePbueIzMzMzMxKk/fk6FgagS8AcySdFRE/SO2XkVV3PCTpJLKlFy15I31tYN3397Vm4/5IljA5BvhigesLzQHZPheDJPVMy1T+APwhLVHpQrYcJD95VpZ3fD1Zdck/gfkR8VL+xJLeB5wBjIiIVyRdlnf9H4C/AauBazdiX5GZZNURl0dE49s5jHVFxD1pQ9K+kvqTVV/cmsZ3B54ELtrAvdbuyZH3TLD+93S95Sp59gZu28B9zMzMzMzMrABXcnQwEbEK+DRwnKSmio6ewH8kdSNLTDRZmfo2xWVkS1qIiIc3Mr5LgQsllQGkyozuacjzQD9J20vaOj1L07WrgVnAryi83GQ7smTMq5J2IG9vioh4DniObI+My5ra0yeS7NdKvP8CvgNc3NpzSdqVLEnzEll1y/SIGJJeOwHvlTRY0nslbfYkhDKnAjsCt2zu+c3MzMzMzLYEruTogCLiZUljgDskvQhMBe4Dnibb56EpsTET+G365fiojbzH85IeAW7chBC/Q7Z/xRJJK4HXgcuB5yLiLUnnpHifAh5tdu2VwOeB2QViekjSQuBhssqJuwpc2zci8j9NZk/gP60FGxG/aaGraXkJZMtEToyIBknHsP7mn38hq3q5jZY3L90U50uaCvQA7gUO9SermJmZmZmZbRpl2x3YliZ9SspiYJ+IeLUd73sG0Csipm7CtRcCCyPi0nS+HXBpRLRlv4zNQtIpZBuv3tRe92xur0G7xuxvXLrhgdYh7XDaR4sdgpmZmZlZSZM0P31gxXpcybEFkjQa+D3wk3ZOcPwFGAp8bBOunU+2lOUbTW0RUUfbNgTdbCLiwva8n5mZmZmZmbWdkxxboIiYAwwqwn2PeAfX7rs5YzEzMzMzM7POx0kOsxLTrV+5lzyYmZmZmZkV4E9XMTMzMzMzM7NOwUkOM7N2tnTpUsrKypgwYQIANTU1VFZW0rt3b3r37s3o0aOpqanZwCxmZmZmZtacl6uYlZg1y1ey/Jf/LHYYtpH6fe3t/XYnT57MiBEj1p7vtNNOXHfddQwePJjGxkYuuugijjnmGBYtWlSMUM3MzMzMSpYrOczM2tHMmTOpqKhg1KhRa9sqKioYMmQIkogIunTpwhNPPFHEKM3MzMzMSpMrOczM2kldXR3Tpk3jtttu49JLL12vv6Kigvr6ehobGznnnHOKEKGZmZmZWWlzksPMrJ1MnTqViRMnMnDgwIL9K1as4LXXXuPyyy9n8ODB7RydmZmZmVnp83IV2yiSjpAUknZt4/jTJfVow7ibJVVshvhOkvSCpFx6XZHaL5N0VAvX7J2e6ZPN2usLzH1hs7aHJF3VrK1aUmXe+RBJS9LxSEl/T8cfyovzZUlPpeM57+R7YB1TLpdjzpw5TJkypdVx2267LZMmTeKEE05g+fLl7RSdmZmZmVnn4EoO21jjgTuBY4DpbRh/OvAnYFVrgyLisHcaWJ6rI+KUjRjf9EzjgVltvUjSbmSJwoMlbRsRr21MkBGxGBie5roM+HtEXLcxc1jpqK6upra2lkGDBgFQX19PQ0MDNTU1LFiwYJ2xjY2NrFq1imeffZZ+/foVI1wzMzMzs5LkSg5rM0nlwEeBiWRJjqb2kal64TpJj0q6UplTgZ2A2yXdnsaOl7RY0hJJ5+XNUSupT6p6eETSbyU9LGm2pG3SmKGSbpE0X9K8tlaTbOCZBBwFnAR8QlLZRlx+LPBHYDbw2Xcai3VuVVVVLFu2jFwuRy6XY9KkSYwdO5ZZs2Zx6623snDhQhoaGqirq+PrX/86vXv3Zrfddit22GZmZmZmJcVJDtsYhwO3RMTjwMuS9snr25usamN34P3ARyPiF8BzwKERcaiknYDzgI+RVTCMkHR4gfvsAlwUEXsAK4AjU/slwNciYl/gDODiFuI8Om8ZyMkbeKaPAk9FxDKgGsivKNkmb54c0HwnyKOBq4GryKpAzFrUo0cP+vfvv/ZVXl5OWVkZffv2ZcWKFYwfP55evXoxdOhQnnjiCW655RbKyjYm52ZmZmZmZl6uYhtjPPCzdDwznTfV2d8fEc8ApITAELIlIPlGANUR8UIadyVwMHBjs3FPRUQuHc8HhqQqkgOAa7PiCwC2biHOjVmuMj49S9MzHQ/ckM5fj4jhTQMlnQRUpuMRwAsR8bSkZ4DfS+odEa8AUeA+hdraTFIVUAUwoLeXL3QG06dPX3s8btw4xo0bV7xgzMzMzMw6CSc5rE0kbU9WgTFMUgBdgJD0rTTkjbzhDRT+b0sF2gppPtc2ZFVHK/KTDu+UpC5kVSKflfSdFN/2knpGxMoNXD4e2FVSbTrfLs31O+AloHfe2PcAL76TWCPiErJKFoYP+uA7SpiYmZmZmZl1Vl6uYm11FHBFRAyOiCERMRB4CjhwA9etBHqm4/uAQ9LeG13IEgVz23LziKgDnpI0DrK9NCTttSkPkmc08FBEDEzPNBi4nmxZToskbQWMA/ZM1w0BPsfbS1aqgQl6u+TkROD2dxirmZmZmZmZbYCTHNZW44G/NGu7nmzzzdZcAvxD0u0R8R/g/5H9wv8QsCAi/roRMRwHTJT0EPAwWWJhY/xG0jPpdQ+b/kwHA89GxLN5bXcAu0vakeyZVwIPpVjLgQvyxo7Ki+MZSftv5HOYmZmZmZlZAYpw5btZKRk+6IMx+5u/KnYYtpH6fe1jxQ7BzMzMzKxTkDQ/IioL9bmSw8zMzMzMzMw6BSc5zMzMzMzMzKxT8KermJWYrv16eumDmZmZmZlZAa7kMDMzMzMzM7NOwUkOMzMzMzMzM+sUnOQwM2tnS5cupaysjAkTJgBQU1NDZWUlvXv3pnfv3owePZqampoiR2lmZmZmVnq8J4dZiVmz/FWWX3hzscOwjdTvlMPWHk+ePJkRI0asPd9pp5247rrrGDx4MI2NjVx00UUcc8wxLFq0qBihmpmZmZmVLFdymJm1o5kzZ1JRUcGoUaPWtlVUVDBkyBAkERF06dKFJ554oohRmpmZmZmVJldymJm1k7q6OqZNm8Ztt93GpZdeul5/RUUF9fX1NDY2cs455xQhQjMzMzOz0uYkh5lZO5k6dSoTJ05k4MCBBftXrFjBa6+9xuWXX87gwYPbOTozMzMzs9Ln5SodkKRPSsqlV72kx9LxFZJGSvp7s/GXSToqHVfnjc9Jui61T5f0bGpbIumzee1n5M31dUmPSlos6SFJP5HULfXVpvamuX+R2iXpu5KWSnpc0u2S9sibs1bS9XnnR0m6LB2fJOmFvDlzknaXVJni7J7GDZX0pKTt0vfgVUkLJT0i6XtpTH77o5IuyLtnS/fZStIv0r0WS3pA0vvSNV9MbYtS/+c26xttW5RcLsecOXOYMmVKq+O23XZbJk2axAknnMDy5cvbKTozMzMzs87BlRwdUETMAmZBlrQAzoiIB9P5yDZMcVzT+GZ+GhEXSNoNmCepX36npEnAJ4CPRMSKlGD4OrAN8FYadmhEvNhs3snAAcBeEbFK0ieAmyTtERGr05jKdP5wgbiujohTmjdKugM4A/gBcBHwnYiokwQwLyI+LWlbIJeX+Glq3wZYKOkvEXFXS/eRNB7YCdgzIholDQBeS1+/A+wTEa9KKgf6FojdrE2qq6upra1l0KBBANTX19PQ0EBNTQ0LFixYZ2xjYyOrVq3i2WefpV+/foWmMzMzMzOzAlzJsZEkfUvSqen4p5L+mY5HSVol6Sfp/DRJT6bjoZLulLSfpBtS2+ckvS6pu6SyprHtISIeAdYAfZp1fQf4SkSsSOPejIgfRUTdBqY8E/haRKxK180G7gaOyxtzAXDWRoZ6FvAlSd8CukXEVQWe5TVgPjC0WfvrQA547wbusSPwn4hoTNc9ExGvAP2AlUB9aq+PiKeaXyypXNIf8io+jkzt41PbEknn5Y2vl3SepPmS5qT/JqpTlcpn2/qNsdJTVVXFsmXLyOVy5HI5Jk2axNixY5k1axa33norCxcupKGhgbq6Or7+9a/Tu3dvdtttt2KHbWZmZmZWUpzk2Hh3AAel40qgPC3nOBA4L6/vIOAlSe9NffOABcDeef1LgBHAh4H7NiKGg/KXXQDNfzm+Mq///OYXS/ow0Ai8kNfWEygv9It8M7fnzT1F0nbAthGxrNm4B4E98s6vAfaRtHOBOY9utoxkG4CUbDkP+CHw1ULBSNoe+AjwcLP23sAuZO9Xa/e5BvhMOp8hqen9eQh4HngqJTE+08L3YyrwakR8KCL2BP4paacU98eA4cAISYen8dsC1RGxL1kS5fvAx4EjgBZ3mpRUJelBSQ++VP9qS8OsA+vRowf9+/df+yovL6esrIy+ffuyYsUKxo8fT69evRg6dChPPPEEt9xyC2VlZcUO28zMzMyspHi5ysabD+ybkgJvkCUuKsmSFqcCx6S+gcCfgYNT3w0RsUbSE2m5yH7AT1J/F7IkSFvNi4hPN50o7W+Rp6XlKlMkTSD75froiIi09ANAQOTN+UmyX9QrgGMj4u7Utc5ylZTkKGSd+YAG4Hzg/wH/aDa24HKV5FNkyYbdgcfy2g+StJAsWfOjiHg4LeU5SNIi4IOp/b8buM8zkj5IlpD4GHCbpHERcZukMWRJqFHATyXtGxHTm10/Gjim6SQiXpF0MFki4wUASVeSvc83Am8Ct6Thi4E3IuItSYuBIS18D4iIS4BLAIYP2iVaGmelY/r06WuPx40bx7hx44oXjJmZmZlZJ+FKjo0UEW8BtcDJZEsy5gGHki2XeAS4J/U9lvoOAvYHmvaFmEf2i/tbwByyKo8DWbfi4N3y04gYHhEHRcQ6SZW0JOW1pk03I2JWRAwnqzbp3tKEede9v1nXPkBNs7Y/kv2yP6gtwUr6NNAL+CRwvqQeed3zImLviNg3In7drH1P4EPAVyQN39B9IuKNiPhHRHyTbP+Pw1N7RMT9EfFDskTGkYXCZN1kTlNbS96KiKbxjWSJMtJyGScdzczMzMzM3gEnOTZN04aYd5AlLSYBufTLa37fQrIEyBsR8WretacD96R/6d8e2JVmyy2K5IfAryRVQPapKUBb6uXPB37RtMxE0miyxM2f8welBNFPyZ6/VWmuGcDkiFgM/JVsz5A2iYjHyZ7nzA3cZ5+0vARJWwF7Ak9L2knSPnlDhwNPF5hiNrC2OiQtk7kPOERSH0ldgPHA3LbGbmZmZmZmZpvG/3K8aeaR/cJ9T0S8Jmk1by83mUe2VOWOiGiQ9G/g0bxr7wN24O3KjUXA8rR05LNAZURMe4fxXSnp9XT8YkSMbuN1vwJ6APdJeoNs0827yJI1TW6X1NAUe0ScAPwS6A0sTn3/BT6XNv9s7lLgu83ajpZ0YN75V4FPAzdGRFM1yHSyT1G5rI3PAvBr4Iym6pQW7rMd8FtJW6e2+4ELyd6jC1ICZDXZ/iWTYO2n0JAqSL4PXCRpCdmSnLMj4gZJ/w+4nayq4+aI+OtGxG1mZmZmZmabQG9XzptZKRg+aJeY/a2fFzsM20j9Tjms2CGYmZmZmXUKkuZHRGWhPi9XMTMzMzMzM7NOwctVzEpM1369XBVgZmZmZmZWgCs5zMzMzMzMzKxTcJLDzMzMzMzMzDoFJznMzNrZ0qVLKSsrY8KECQDU1NRQWVlJ79696d27N6NHj6ampmYDs5iZmZmZWXPek8OsxKxZvoLlF91Q7DBsI/Wb/Pm1x5MnT2bEiBFrz3faaSeuu+46Bg8eTGNjIxdddBHHHHMMixYtKkaoZmZmZmYly5UcZmbtaObMmVRUVDBq1Ki1bRUVFQwZMgRJRARdunThiSeeKGKUZmZmZmalyZUcZmbtpK6ujmnTpnHbbbdx6aWXrtdfUVFBfX09jY2NnHPOOUWI0MzMzMystDnJYWbWTqZOncrEiRMZOHBgwf4VK1bw2muvcfnllzN48OB2js7MzMzMrPR5uYq1C0khaUbe+RmSpm/G+UdK+vtGjD9J0k4t9F0m6SlJOUkPSRpVaFyza87KOx4iaUlbY7EtQy6XY86cOUyZMqXVcdtuuy2TJk3ihBNOYPny5e0UnZmZmZlZ5+BKDmsvbwCfl/TDiHix2MEAJwFLgOda6P9mRFwn6VDgEmCXDcx3FvCDzRGYpK4RsWZzzGUdR3V1NbW1tQwaNAiA+vp6GhoaqKmpYcGCBeuMbWxsZNWqVTz77LP069evGOGamZmZmZUkV3JYe1lDlixY75+xJX1G0n2SFkqaI2mH1H5zqqbISXpV0ompSmKepAXpdUCB+Uakud4vaV9JcyXNlzRL0o6SjgIqgSvT3Nu0Evc9wHvz5r4xzfWwpKrU9iNgmzTXlWloF0m/TeNmN91D0lBJt6Q55knaNbVfJuknkm4HztuE7691cFVVVSxbtoxcLkcul2PSpEmMHTuWWbNmceutt7Jw4UIaGhqoq6vj61//Or1792a33XYrdthmZmZmZiXFSQ5rTxcBx0nq1az9TuAjEbE3MBP4FkBEHBYRw4GJwNPAjcBy4OMRsQ9wNPCL/IlS0uPXwOeAfwO/BI6KiH2B3wP/GxHXAQ8Cx0XE8Ih4vZWYx6T7NvlimqsSOFXS9hHxbeD1NNdxadwuwEURsQewAjgytV8CfC3NcQZwcd7cHwBGR8Q3WonHSlSPHj3o37//2ld5eTllZWX07duXFStWMH78eHr16sXQoUN54oknuOWWWygrKyt22GZmZmZmJcXLVazdRESdpCuAU4H8xMIA4GpJOwLdgaeaOiT1Af4IfCEiXk0JkgslDQcayBIDTXYjSyJ8IiKekzQMGAbcKgmgC/CfNoZ7vqQfA/2Aj+S1nyrpiHQ8kCyZ8VKB65+KiFw6ng8MkVQOHABcm+IB2DrvmmsjoqFQMKlqpApgQO8+bXwE68imT5++9njcuHGMGzeueMGYmZmZmXUSTnJYe/sZsAD4Q17bL4GfRMRNkkYC0wEkdSGr7DgnIpo28pwCPA/sRVaJtDpvnv8AZcDeZHttCHg4IvbfhDi/CdxAlpC5HNg3xTYa2D8iVkmqTvcr5I284wZgmxTvilSdUshrLQUTEZeQJXAYPmjnaOtDmJmZmZmZbUm8XMXaVUS8DFxDtgSlSS/g2XR8Yl77j4BFETGz2dj/REQjcDxZdUaTFcBY4AcpIfEY0FfS/gCSuknaI41dCfTcQKyNwM+BrSR9Mt37lZTg2JV1KzzektRtA/PVAU9JGpfikaS9WrvGzMzMzMzM2s5JDiuGGUD+movpZEs45gH5n7xyBvCJvM1HP0u2h8WJku4lW6qyTvVDRDwPfIZs/4+9gaOA8yQ9BOTIlosAXAb8ekMbj0ZEAN8n2yfkFqCrpEXAucC9eUMvARblbTzakuOAiSmeh8n2DjEzMzMzM7PNQNnvcGZWKoYP2jlmn/njYodhG6nf5M8XOwQzMzMzs05B0vyIqCzU50oOMzMzMzMzM+sUnOQwMzMzMzMzs07Bn65iVmK69qvw0gczMzMzM7MCXMlhZmZmZmZmZp2CNx41KzGSVpJ9PK5tmfqw7qcQ2ZbD7/2Wze//ls3v/5bN7/+Wy+99ywZHRN9CHV6uYlZ6HmtpJ2Hr/CQ96Pd/y+T3fsvm93/L5vd/y+b3f8vl937TeLmKmZmZmZmZmXUKTnKYmZmZmZmZWafgJIdZ6bmk2AFYUfn933L5vd+y+f3fsvn937L5/d9y+b3fBN541MzMzMzMzMw6BVdymJmZmZmZmVmn4CSHWYmQNEbSY5KekPTtYsdj7z5JtZIWS8pJejC1vUfSrZKWpq+9ix2nbR6Sfi9puaQleW0tvt+S/l/68+AxSZ8sTtS2ubTw/k+X9Gz6MyAn6bC8Pr//nYSkgZJul/SIpIclnZba/fO/BWjl/ffPfycnqUzS/ZIeSu/92andP/vvkJermJUASV2Ax4GPA88ADwDjI6KmqIHZu0pSLVAZES/mtf0YeDkifpSSXb0j4sxixWibj6SDgXrgiogYltoKvt+SdgeuAvYDdgLmAB+IiIYihW/vUAvv/3SgPiIuaDbW738nImlHYMeIWCCpJzAfOBw4Cf/8d3qtvP9fwD//nZokAdtGRL2kbsCdwGnA5/HP/jviSg6z0rAf8EREPBkRbwIzgc8VOSYrjs8Bl6fjy8n+ImSdQETcAbzcrLml9/tzwMyIeCMingKeIPtzwkpUC+9/S/z+dyIR8Z+IWJCOVwKPAO/FP/9bhFbe/5b4/e8kIlOfTrulV+Cf/XfMSQ6z0vBe4N9558/Q+v8ArXMIYLak+ZKqUtsOEfEfyP5iBPQrWnTWHlp6v/1nwpbjFEmL0nKWppJlv/+dlKQhwN7Affjnf4vT7P0H//x3epK6SMoBy4FbI8I/+5uBkxxmpUEF2rzWrPP7aETsA3wKmJzK2c3AfyZsKX4FDAWGA/8BZqR2v/+dkKRy4Hrg9Iioa21ogTa//yWuwPvvn/8tQEQ0RMRwYACwn6RhrQz3e99GTnKYlYZngIF55wOA54oUi7WTiHgufV0O/IWsJPH5tH63aR3v8uJFaO2gpffbfyZsASLi+fQX4Ebgt7xdluz3v5NJ6/GvB66MiBtSs3/+txCF3n///G9ZImIFUA2MwT/775iTHGal4QFgF0nvk9QdOAa4qcgx2btI0rZpAzIkbQt8AlhC9r6fmIadCPy1OBFaO2np/b4JOEbS1pLeB+wC3F+E+Oxd1PSX3OQIsj8DwO9/p5I2H7wUeCQifpLX5Z//LUBL779//js/SX0lVaTjbYDRwKP4Z/8d61rsAMxswyJijaRTgFlAF+D3EfFwkcOyd9cOwF+yv/vQFfhzRNwi6QHgGkkTgX8B44oYo21Gkq4CRgJ9JD0DfA/4EQXe74h4WNI1QA2wBpjs3dVLWwvv/0hJw8nKkWuB/wG//53QR4HjgcVpbT7AWfjnf0vR0vs/3j//nd6OwOXpUxS3Aq6JiL9Lugf/7L8j/ghZMzMzMzMzM+sUvFzFzMzMzMzMzDoFJznMzMzMzMzMrFNwksPMzMzMzMzMOgUnOczMzMzMzMysU3CSw8zMzMzMzMw6BSc5zMzMzMzMzKxTcJLDzMzMrAOQVCspWnmNbKc4pqf7XdYe93unJJ2U4q0udixmZlZ8XYsdgJmZmZkB8HvgPen4K0B34HrgmdT2TKGLzMzM7G2u5DAzMzPrACLinIg4PSJOB15PzRcCzwKnAacDSPp6qlw4L51PS+fnp/PtJf0mVYaslHSXpIOa7iOph6QfSXpC0muSFkg6PPVNB76Xhp7YlgoJSQMkXS7paUmrJT0iaUTq6yvpd5L+JalO0r2SxuRdW53ucVI6H5nOa9P5kLxKli+meV6R9NPUfxLwhzTdIfnXmpnZlslJDjMzM7OOrTp9PaDZ1482O58raSvgr0AV8C/gJmBPYLakD6ZxlwJnAq+SVYoMBG5Iy2HuBe5L4x4Bfg5c11JgknoA/wROAFYDfwReAXZKsdwETAReTHHtC/yfpI8WnrFV04F5wHbA6ZJGATXAran/2RTv7zdhbjMz6yS8XMXMzMysY1sArAT2lFROltx4HKiUtA3wEaARuJMsifDRNH5Bun4psDdwsqQZwDFp/N1AA/AwcAgwKSKOkfQR4MPA/amqpDWHAbsA/wH2johVAJK6AZUptnrgoIh4TdKLZBUpk4G7NvL7cGREPCBpAHBwut8Fkv4MfBx4og3xmplZJ+ckh5mZmVkHFhENku4EPkWWoOhPtqTkN8BJQC9gQUSskDQkXdaTbIlLvp2Bpv6tgFMK9G+s96Wvi5sSHCnmt/Ji+XdEvJaOH01fB7cwX5dW7rUwfV2RvpZvXKhmZrYl8HIVMzMzs45vbvr6DeAt4E9kS0C+0ay/Nn19DiiLCEWEgB5kSY2m/jeBvnn93YEjUl9D+tqWvyc+lb5+KFWVACCpa969BqZlLQBNS2aeTl+bkh/bpa/DWrpRRKxpOmzWtTHxmplZJ+f/GZiZmZl1fNXp665kVRuryJabDG3WPx+4B9gJeEDSryXdSJb0GBMRLwDXkCU17kv91wL/Jts7g3QM8ClJv5R0ZCtx3Uy2HGZHYGHa8HQuMBZ4kGx/j3JgnqQrgK+RJSkuTtc3VWd8XdIFwNlt/5as1RTvvpIulvTlTZjDzMw6CSc5zMzMzDq++WR7W8Dbe1k0fQ2yDTmJiEbgc8CvyaojTiLbj+Nmsk1FIUtm/IhsX46TyPbwuAe4JfVfC8wCtiWr/ji0paBSsmUU2YajPYATgX7AcymWz5J9+kk/skqRhcBnI+LONMVP0n37pPv8tI3fj3x3AH8mq+j4Snp+MzPbQimiecWfmZmZmZmZmVnp8cajZmZmZtYqST8r1O5PMzEzs47GlRxmZmZm1ipJBf/CmDYtNTMz6zCc5DAzMzMzMzOzTsEbj5qZmZmZmZlZp+Akh5mZmZmZmZl1Ck5ymJmZmZmZmVmn4CSHmZmZmZmZmXUKTnKYmZmZmZmZWafgJIeZmZmZmZmZdQr/HzJKIJ1+AFTNAAAAAElFTkSuQmCC\n",
      "text/plain": [
       "<Figure size 1080x1224 with 1 Axes>"
      ]
     },
     "metadata": {
      "needs_background": "light"
     },
     "output_type": "display_data"
    }
   ],
   "source": [
    "df_username_count = df['user_name'].value_counts().reset_index().rename(columns={\n",
    "    'user_name':'tweet_count','index':'user_name'})\n",
    "\n",
    "plt.figure(figsize=(15, 17))\n",
    "sns.barplot(y='user_name',x='tweet_count',data=df_username_count.head(50))\n",
    "y=df_username_count['tweet_count'].head(50)\n",
    "for index, value in enumerate(y):\n",
    "    plt.text(value, index, str(value),fontsize=12)\n",
    "plt.title('Top50 users by number of tweets',weight='bold', size=15)\n",
    "plt.ylabel('User_name', size=12, weight='bold')\n",
    "plt.xlabel('Tweet_count', size=12, weight='bold')\n",
    "plt.show()"
   ]
  },
  {
   "cell_type": "code",
<<<<<<< Updated upstream
   "execution_count": null,
   "metadata": {},
   "outputs": [],
   "source": [
    "ds = df['user_location'].value_counts().reset_index()\n",
    "ds.columns = ['user_location', 'count']\n",
    "ds = ds[ds['user_location']!='NA']\n",
    "ds = ds.sort_values(['count'])\n",
    "fig = px.bar(\n",
    "    ds.tail(15), \n",
    "    x=\"count\", \n",
    "    y=\"user_location\", \n",
    "    orientation='h', title='Top 15 user locations by number of tweets', \n",
    "    width=800, \n",
    "    height=800\n",
    ")\n",
    "\n",
    "fig.show()"
   ]
  },
  {
   "cell_type": "code",
   "execution_count": 33,
   "metadata": {},
   "outputs": [
    {
     "data": {
      "application/vnd.plotly.v1+json": {
       "config": {
        "plotlyServerURL": "https://plot.ly"
       },
       "data": [
        {
         "alignmentgroup": "True",
         "hovertemplate": "count=%{x}<br>source=%{y}<extra></extra>",
         "legendgroup": "",
         "marker": {
          "color": "#636efa"
         },
         "name": "",
         "offsetgroup": "",
         "orientation": "h",
         "showlegend": false,
         "textposition": "auto",
         "type": "bar",
         "x": [
          69,
          71,
          72,
          72,
          74,
          74,
          78,
          78,
          79,
          80,
          82,
          92,
          98,
          98,
          112,
          120,
          126,
          132,
          134,
          168,
          170,
          177,
          181,
          187,
          216,
          236,
          244,
          247,
          261,
          312,
          542,
          773,
          854,
          1081,
          1884,
          2846,
          3453,
          15824,
          16758,
          22974
         ],
         "xaxis": "x",
         "y": [
          "Twitter for Mac",
          "The Social Jukebox",
          "SocialFlow",
          "Prof. Shanku",
          "SocialPilot.co",
          "LaterMedia",
          "Zoho Social",
          "TweetCaster for Android",
          "Tweetbot for iΟS",
          "Oktopost",
          "Global Citizen Mobile App",
          "coronaData_Test",
          "Fabrik.fm",
          "Blood Donors India",
          "Alexander Higgins",
          "IAMBLOG2TWITTER",
          "Paper.li",
          "Cheap Bots, Done Quick!",
          "Twitter for Advertisers",
          "Dynamic Signal",
          "WordPress.com",
          "Resistbot Open Letters",
          "COVID19-Updates",
          "HubSpot",
          "Sprinklr",
          "LinkedIn",
          "FS Poster",
          "Twitter Media Studio",
          "dlvr.it",
          "GlobalPandemic.NET",
          "IFTTT",
          "Sprout Social",
          "Instagram",
          "Buffer",
          "Twitter for iPad",
          "Hootsuite Inc.",
          "TweetDeck",
          "Twitter for iPhone",
          "Twitter for Android",
          "Twitter Web App"
         ],
         "yaxis": "y"
        }
       ],
       "layout": {
        "barmode": "relative",
        "height": 800,
        "legend": {
         "tracegroupgap": 0
        },
        "template": {
         "data": {
          "bar": [
           {
            "error_x": {
             "color": "#2a3f5f"
            },
            "error_y": {
             "color": "#2a3f5f"
            },
            "marker": {
             "line": {
              "color": "#E5ECF6",
              "width": 0.5
             }
            },
            "type": "bar"
           }
          ],
          "barpolar": [
           {
            "marker": {
             "line": {
              "color": "#E5ECF6",
              "width": 0.5
             }
            },
            "type": "barpolar"
           }
          ],
          "carpet": [
           {
            "aaxis": {
             "endlinecolor": "#2a3f5f",
             "gridcolor": "white",
             "linecolor": "white",
             "minorgridcolor": "white",
             "startlinecolor": "#2a3f5f"
            },
            "baxis": {
             "endlinecolor": "#2a3f5f",
             "gridcolor": "white",
             "linecolor": "white",
             "minorgridcolor": "white",
             "startlinecolor": "#2a3f5f"
            },
            "type": "carpet"
           }
          ],
          "choropleth": [
           {
            "colorbar": {
             "outlinewidth": 0,
             "ticks": ""
            },
            "type": "choropleth"
           }
          ],
          "contour": [
           {
            "colorbar": {
             "outlinewidth": 0,
             "ticks": ""
            },
            "colorscale": [
             [
              0,
              "#0d0887"
             ],
             [
              0.1111111111111111,
              "#46039f"
             ],
             [
              0.2222222222222222,
              "#7201a8"
             ],
             [
              0.3333333333333333,
              "#9c179e"
             ],
             [
              0.4444444444444444,
              "#bd3786"
             ],
             [
              0.5555555555555556,
              "#d8576b"
             ],
             [
              0.6666666666666666,
              "#ed7953"
             ],
             [
              0.7777777777777778,
              "#fb9f3a"
             ],
             [
              0.8888888888888888,
              "#fdca26"
             ],
             [
              1,
              "#f0f921"
             ]
            ],
            "type": "contour"
           }
          ],
          "contourcarpet": [
           {
            "colorbar": {
             "outlinewidth": 0,
             "ticks": ""
            },
            "type": "contourcarpet"
           }
          ],
          "heatmap": [
           {
            "colorbar": {
             "outlinewidth": 0,
             "ticks": ""
            },
            "colorscale": [
             [
              0,
              "#0d0887"
             ],
             [
              0.1111111111111111,
              "#46039f"
             ],
             [
              0.2222222222222222,
              "#7201a8"
             ],
             [
              0.3333333333333333,
              "#9c179e"
             ],
             [
              0.4444444444444444,
              "#bd3786"
             ],
             [
              0.5555555555555556,
              "#d8576b"
             ],
             [
              0.6666666666666666,
              "#ed7953"
             ],
             [
              0.7777777777777778,
              "#fb9f3a"
             ],
             [
              0.8888888888888888,
              "#fdca26"
             ],
             [
              1,
              "#f0f921"
             ]
            ],
            "type": "heatmap"
           }
          ],
          "heatmapgl": [
           {
            "colorbar": {
             "outlinewidth": 0,
             "ticks": ""
            },
            "colorscale": [
             [
              0,
              "#0d0887"
             ],
             [
              0.1111111111111111,
              "#46039f"
             ],
             [
              0.2222222222222222,
              "#7201a8"
             ],
             [
              0.3333333333333333,
              "#9c179e"
             ],
             [
              0.4444444444444444,
              "#bd3786"
             ],
             [
              0.5555555555555556,
              "#d8576b"
             ],
             [
              0.6666666666666666,
              "#ed7953"
             ],
             [
              0.7777777777777778,
              "#fb9f3a"
             ],
             [
              0.8888888888888888,
              "#fdca26"
             ],
             [
              1,
              "#f0f921"
             ]
            ],
            "type": "heatmapgl"
           }
          ],
          "histogram": [
           {
            "marker": {
             "colorbar": {
              "outlinewidth": 0,
              "ticks": ""
             }
            },
            "type": "histogram"
           }
          ],
          "histogram2d": [
           {
            "colorbar": {
             "outlinewidth": 0,
             "ticks": ""
            },
            "colorscale": [
             [
              0,
              "#0d0887"
             ],
             [
              0.1111111111111111,
              "#46039f"
             ],
             [
              0.2222222222222222,
              "#7201a8"
             ],
             [
              0.3333333333333333,
              "#9c179e"
             ],
             [
              0.4444444444444444,
              "#bd3786"
             ],
             [
              0.5555555555555556,
              "#d8576b"
             ],
             [
              0.6666666666666666,
              "#ed7953"
             ],
             [
              0.7777777777777778,
              "#fb9f3a"
             ],
             [
              0.8888888888888888,
              "#fdca26"
             ],
             [
              1,
              "#f0f921"
             ]
            ],
            "type": "histogram2d"
           }
          ],
          "histogram2dcontour": [
           {
            "colorbar": {
             "outlinewidth": 0,
             "ticks": ""
            },
            "colorscale": [
             [
              0,
              "#0d0887"
             ],
             [
              0.1111111111111111,
              "#46039f"
             ],
             [
              0.2222222222222222,
              "#7201a8"
             ],
             [
              0.3333333333333333,
              "#9c179e"
             ],
             [
              0.4444444444444444,
              "#bd3786"
             ],
             [
              0.5555555555555556,
              "#d8576b"
             ],
             [
              0.6666666666666666,
              "#ed7953"
             ],
             [
              0.7777777777777778,
              "#fb9f3a"
             ],
             [
              0.8888888888888888,
              "#fdca26"
             ],
             [
              1,
              "#f0f921"
             ]
            ],
            "type": "histogram2dcontour"
           }
          ],
          "mesh3d": [
           {
            "colorbar": {
             "outlinewidth": 0,
             "ticks": ""
            },
            "type": "mesh3d"
           }
          ],
          "parcoords": [
           {
            "line": {
             "colorbar": {
              "outlinewidth": 0,
              "ticks": ""
             }
            },
            "type": "parcoords"
           }
          ],
          "pie": [
           {
            "automargin": true,
            "type": "pie"
           }
          ],
          "scatter": [
           {
            "marker": {
             "colorbar": {
              "outlinewidth": 0,
              "ticks": ""
             }
            },
            "type": "scatter"
           }
          ],
          "scatter3d": [
           {
            "line": {
             "colorbar": {
              "outlinewidth": 0,
              "ticks": ""
             }
            },
            "marker": {
             "colorbar": {
              "outlinewidth": 0,
              "ticks": ""
             }
            },
            "type": "scatter3d"
           }
          ],
          "scattercarpet": [
           {
            "marker": {
             "colorbar": {
              "outlinewidth": 0,
              "ticks": ""
             }
            },
            "type": "scattercarpet"
           }
          ],
          "scattergeo": [
           {
            "marker": {
             "colorbar": {
              "outlinewidth": 0,
              "ticks": ""
             }
            },
            "type": "scattergeo"
           }
          ],
          "scattergl": [
           {
            "marker": {
             "colorbar": {
              "outlinewidth": 0,
              "ticks": ""
             }
            },
            "type": "scattergl"
           }
          ],
          "scattermapbox": [
           {
            "marker": {
             "colorbar": {
              "outlinewidth": 0,
              "ticks": ""
             }
            },
            "type": "scattermapbox"
           }
          ],
          "scatterpolar": [
           {
            "marker": {
             "colorbar": {
              "outlinewidth": 0,
              "ticks": ""
             }
            },
            "type": "scatterpolar"
           }
          ],
          "scatterpolargl": [
           {
            "marker": {
             "colorbar": {
              "outlinewidth": 0,
              "ticks": ""
             }
            },
            "type": "scatterpolargl"
           }
          ],
          "scatterternary": [
           {
            "marker": {
             "colorbar": {
              "outlinewidth": 0,
              "ticks": ""
             }
            },
            "type": "scatterternary"
           }
          ],
          "surface": [
           {
            "colorbar": {
             "outlinewidth": 0,
             "ticks": ""
            },
            "colorscale": [
             [
              0,
              "#0d0887"
             ],
             [
              0.1111111111111111,
              "#46039f"
             ],
             [
              0.2222222222222222,
              "#7201a8"
             ],
             [
              0.3333333333333333,
              "#9c179e"
             ],
             [
              0.4444444444444444,
              "#bd3786"
             ],
             [
              0.5555555555555556,
              "#d8576b"
             ],
             [
              0.6666666666666666,
              "#ed7953"
             ],
             [
              0.7777777777777778,
              "#fb9f3a"
             ],
             [
              0.8888888888888888,
              "#fdca26"
             ],
             [
              1,
              "#f0f921"
             ]
            ],
            "type": "surface"
           }
          ],
          "table": [
           {
            "cells": {
             "fill": {
              "color": "#EBF0F8"
             },
             "line": {
              "color": "white"
             }
            },
            "header": {
             "fill": {
              "color": "#C8D4E3"
             },
             "line": {
              "color": "white"
             }
            },
            "type": "table"
           }
          ]
         },
         "layout": {
          "annotationdefaults": {
           "arrowcolor": "#2a3f5f",
           "arrowhead": 0,
           "arrowwidth": 1
          },
          "autotypenumbers": "strict",
          "coloraxis": {
           "colorbar": {
            "outlinewidth": 0,
            "ticks": ""
           }
          },
          "colorscale": {
           "diverging": [
            [
             0,
             "#8e0152"
            ],
            [
             0.1,
             "#c51b7d"
            ],
            [
             0.2,
             "#de77ae"
            ],
            [
             0.3,
             "#f1b6da"
            ],
            [
             0.4,
             "#fde0ef"
            ],
            [
             0.5,
             "#f7f7f7"
            ],
            [
             0.6,
             "#e6f5d0"
            ],
            [
             0.7,
             "#b8e186"
            ],
            [
             0.8,
             "#7fbc41"
            ],
            [
             0.9,
             "#4d9221"
            ],
            [
             1,
             "#276419"
            ]
           ],
           "sequential": [
            [
             0,
             "#0d0887"
            ],
            [
             0.1111111111111111,
             "#46039f"
            ],
            [
             0.2222222222222222,
             "#7201a8"
            ],
            [
             0.3333333333333333,
             "#9c179e"
            ],
            [
             0.4444444444444444,
             "#bd3786"
            ],
            [
             0.5555555555555556,
             "#d8576b"
            ],
            [
             0.6666666666666666,
             "#ed7953"
            ],
            [
             0.7777777777777778,
             "#fb9f3a"
            ],
            [
             0.8888888888888888,
             "#fdca26"
            ],
            [
             1,
             "#f0f921"
            ]
           ],
           "sequentialminus": [
            [
             0,
             "#0d0887"
            ],
            [
             0.1111111111111111,
             "#46039f"
            ],
            [
             0.2222222222222222,
             "#7201a8"
            ],
            [
             0.3333333333333333,
             "#9c179e"
            ],
            [
             0.4444444444444444,
             "#bd3786"
            ],
            [
             0.5555555555555556,
             "#d8576b"
            ],
            [
             0.6666666666666666,
             "#ed7953"
            ],
            [
             0.7777777777777778,
             "#fb9f3a"
            ],
            [
             0.8888888888888888,
             "#fdca26"
            ],
            [
             1,
             "#f0f921"
            ]
           ]
          },
          "colorway": [
           "#636efa",
           "#EF553B",
           "#00cc96",
           "#ab63fa",
           "#FFA15A",
           "#19d3f3",
           "#FF6692",
           "#B6E880",
           "#FF97FF",
           "#FECB52"
          ],
          "font": {
           "color": "#2a3f5f"
          },
          "geo": {
           "bgcolor": "white",
           "lakecolor": "white",
           "landcolor": "#E5ECF6",
           "showlakes": true,
           "showland": true,
           "subunitcolor": "white"
          },
          "hoverlabel": {
           "align": "left"
          },
          "hovermode": "closest",
          "mapbox": {
           "style": "light"
          },
          "paper_bgcolor": "white",
          "plot_bgcolor": "#E5ECF6",
          "polar": {
           "angularaxis": {
            "gridcolor": "white",
            "linecolor": "white",
            "ticks": ""
           },
           "bgcolor": "#E5ECF6",
           "radialaxis": {
            "gridcolor": "white",
            "linecolor": "white",
            "ticks": ""
           }
          },
          "scene": {
           "xaxis": {
            "backgroundcolor": "#E5ECF6",
            "gridcolor": "white",
            "gridwidth": 2,
            "linecolor": "white",
            "showbackground": true,
            "ticks": "",
            "zerolinecolor": "white"
           },
           "yaxis": {
            "backgroundcolor": "#E5ECF6",
            "gridcolor": "white",
            "gridwidth": 2,
            "linecolor": "white",
            "showbackground": true,
            "ticks": "",
            "zerolinecolor": "white"
           },
           "zaxis": {
            "backgroundcolor": "#E5ECF6",
            "gridcolor": "white",
            "gridwidth": 2,
            "linecolor": "white",
            "showbackground": true,
            "ticks": "",
            "zerolinecolor": "white"
           }
          },
          "shapedefaults": {
           "line": {
            "color": "#2a3f5f"
           }
          },
          "ternary": {
           "aaxis": {
            "gridcolor": "white",
            "linecolor": "white",
            "ticks": ""
           },
           "baxis": {
            "gridcolor": "white",
            "linecolor": "white",
            "ticks": ""
           },
           "bgcolor": "#E5ECF6",
           "caxis": {
            "gridcolor": "white",
            "linecolor": "white",
            "ticks": ""
           }
          },
          "title": {
           "x": 0.05
          },
          "xaxis": {
           "automargin": true,
           "gridcolor": "white",
           "linecolor": "white",
           "ticks": "",
           "title": {
            "standoff": 15
           },
           "zerolinecolor": "white",
           "zerolinewidth": 2
          },
          "yaxis": {
           "automargin": true,
           "gridcolor": "white",
           "linecolor": "white",
           "ticks": "",
           "title": {
            "standoff": 15
           },
           "zerolinecolor": "white",
           "zerolinewidth": 2
          }
         }
        },
        "title": {
         "text": "Top 40 user sources by number of tweets"
        },
        "width": 800,
        "xaxis": {
         "anchor": "y",
         "domain": [
          0,
          1
         ],
         "title": {
          "text": "count"
         }
        },
        "yaxis": {
         "anchor": "x",
         "domain": [
          0,
          1
         ],
         "title": {
          "text": "source"
         }
        }
       }
      },
      "text/html": [
       "<div>                            <div id=\"b67093a7-2004-4459-86bd-f5328064cf58\" class=\"plotly-graph-div\" style=\"height:800px; width:800px;\"></div>            <script type=\"text/javascript\">                require([\"plotly\"], function(Plotly) {                    window.PLOTLYENV=window.PLOTLYENV || {};                                    if (document.getElementById(\"b67093a7-2004-4459-86bd-f5328064cf58\")) {                    Plotly.newPlot(                        \"b67093a7-2004-4459-86bd-f5328064cf58\",                        [{\"alignmentgroup\": \"True\", \"hovertemplate\": \"count=%{x}<br>source=%{y}<extra></extra>\", \"legendgroup\": \"\", \"marker\": {\"color\": \"#636efa\"}, \"name\": \"\", \"offsetgroup\": \"\", \"orientation\": \"h\", \"showlegend\": false, \"textposition\": \"auto\", \"type\": \"bar\", \"x\": [69, 71, 72, 72, 74, 74, 78, 78, 79, 80, 82, 92, 98, 98, 112, 120, 126, 132, 134, 168, 170, 177, 181, 187, 216, 236, 244, 247, 261, 312, 542, 773, 854, 1081, 1884, 2846, 3453, 15824, 16758, 22974], \"xaxis\": \"x\", \"y\": [\"Twitter for Mac\", \"The Social Jukebox\", \"SocialFlow\", \"Prof. Shanku\", \"SocialPilot.co\", \"LaterMedia\", \"Zoho Social\", \"TweetCaster for Android\", \"Tweetbot for i\\u039fS\", \"Oktopost\", \"Global Citizen Mobile App\", \"coronaData_Test\", \"Fabrik.fm\", \"Blood Donors India\", \"Alexander Higgins\", \"IAMBLOG2TWITTER\", \"Paper.li\", \"Cheap Bots, Done Quick!\", \"Twitter for Advertisers\", \"Dynamic Signal\", \"WordPress.com\", \"Resistbot Open Letters\", \"COVID19-Updates\", \"HubSpot\", \"Sprinklr\", \"LinkedIn\", \"FS Poster\", \"Twitter Media Studio\", \"dlvr.it\", \"GlobalPandemic.NET\", \"IFTTT\", \"Sprout Social\", \"Instagram\", \"Buffer\", \"Twitter for iPad\", \"Hootsuite Inc.\", \"TweetDeck\", \"Twitter for iPhone\", \"Twitter for Android\", \"Twitter Web App\"], \"yaxis\": \"y\"}],                        {\"barmode\": \"relative\", \"height\": 800, \"legend\": {\"tracegroupgap\": 0}, \"template\": {\"data\": {\"bar\": [{\"error_x\": {\"color\": \"#2a3f5f\"}, \"error_y\": {\"color\": \"#2a3f5f\"}, \"marker\": {\"line\": {\"color\": \"#E5ECF6\", \"width\": 0.5}}, \"type\": \"bar\"}], \"barpolar\": [{\"marker\": {\"line\": {\"color\": \"#E5ECF6\", \"width\": 0.5}}, \"type\": \"barpolar\"}], \"carpet\": [{\"aaxis\": {\"endlinecolor\": \"#2a3f5f\", \"gridcolor\": \"white\", \"linecolor\": \"white\", \"minorgridcolor\": \"white\", \"startlinecolor\": \"#2a3f5f\"}, \"baxis\": {\"endlinecolor\": \"#2a3f5f\", \"gridcolor\": \"white\", \"linecolor\": \"white\", \"minorgridcolor\": \"white\", \"startlinecolor\": \"#2a3f5f\"}, \"type\": \"carpet\"}], \"choropleth\": [{\"colorbar\": {\"outlinewidth\": 0, \"ticks\": \"\"}, \"type\": \"choropleth\"}], \"contour\": [{\"colorbar\": {\"outlinewidth\": 0, \"ticks\": \"\"}, \"colorscale\": [[0.0, \"#0d0887\"], [0.1111111111111111, \"#46039f\"], [0.2222222222222222, \"#7201a8\"], [0.3333333333333333, \"#9c179e\"], [0.4444444444444444, \"#bd3786\"], [0.5555555555555556, \"#d8576b\"], [0.6666666666666666, \"#ed7953\"], [0.7777777777777778, \"#fb9f3a\"], [0.8888888888888888, \"#fdca26\"], [1.0, \"#f0f921\"]], \"type\": \"contour\"}], \"contourcarpet\": [{\"colorbar\": {\"outlinewidth\": 0, \"ticks\": \"\"}, \"type\": \"contourcarpet\"}], \"heatmap\": [{\"colorbar\": {\"outlinewidth\": 0, \"ticks\": \"\"}, \"colorscale\": [[0.0, \"#0d0887\"], [0.1111111111111111, \"#46039f\"], [0.2222222222222222, \"#7201a8\"], [0.3333333333333333, \"#9c179e\"], [0.4444444444444444, \"#bd3786\"], [0.5555555555555556, \"#d8576b\"], [0.6666666666666666, \"#ed7953\"], [0.7777777777777778, \"#fb9f3a\"], [0.8888888888888888, \"#fdca26\"], [1.0, \"#f0f921\"]], \"type\": \"heatmap\"}], \"heatmapgl\": [{\"colorbar\": {\"outlinewidth\": 0, \"ticks\": \"\"}, \"colorscale\": [[0.0, \"#0d0887\"], [0.1111111111111111, \"#46039f\"], [0.2222222222222222, \"#7201a8\"], [0.3333333333333333, \"#9c179e\"], [0.4444444444444444, \"#bd3786\"], [0.5555555555555556, \"#d8576b\"], [0.6666666666666666, \"#ed7953\"], [0.7777777777777778, \"#fb9f3a\"], [0.8888888888888888, \"#fdca26\"], [1.0, \"#f0f921\"]], \"type\": \"heatmapgl\"}], \"histogram\": [{\"marker\": {\"colorbar\": {\"outlinewidth\": 0, \"ticks\": \"\"}}, \"type\": \"histogram\"}], \"histogram2d\": [{\"colorbar\": {\"outlinewidth\": 0, \"ticks\": \"\"}, \"colorscale\": [[0.0, \"#0d0887\"], [0.1111111111111111, \"#46039f\"], [0.2222222222222222, \"#7201a8\"], [0.3333333333333333, \"#9c179e\"], [0.4444444444444444, \"#bd3786\"], [0.5555555555555556, \"#d8576b\"], [0.6666666666666666, \"#ed7953\"], [0.7777777777777778, \"#fb9f3a\"], [0.8888888888888888, \"#fdca26\"], [1.0, \"#f0f921\"]], \"type\": \"histogram2d\"}], \"histogram2dcontour\": [{\"colorbar\": {\"outlinewidth\": 0, \"ticks\": \"\"}, \"colorscale\": [[0.0, \"#0d0887\"], [0.1111111111111111, \"#46039f\"], [0.2222222222222222, \"#7201a8\"], [0.3333333333333333, \"#9c179e\"], [0.4444444444444444, \"#bd3786\"], [0.5555555555555556, \"#d8576b\"], [0.6666666666666666, \"#ed7953\"], [0.7777777777777778, \"#fb9f3a\"], [0.8888888888888888, \"#fdca26\"], [1.0, \"#f0f921\"]], \"type\": \"histogram2dcontour\"}], \"mesh3d\": [{\"colorbar\": {\"outlinewidth\": 0, \"ticks\": \"\"}, \"type\": \"mesh3d\"}], \"parcoords\": [{\"line\": {\"colorbar\": {\"outlinewidth\": 0, \"ticks\": \"\"}}, \"type\": \"parcoords\"}], \"pie\": [{\"automargin\": true, \"type\": \"pie\"}], \"scatter\": [{\"marker\": {\"colorbar\": {\"outlinewidth\": 0, \"ticks\": \"\"}}, \"type\": \"scatter\"}], \"scatter3d\": [{\"line\": {\"colorbar\": {\"outlinewidth\": 0, \"ticks\": \"\"}}, \"marker\": {\"colorbar\": {\"outlinewidth\": 0, \"ticks\": \"\"}}, \"type\": \"scatter3d\"}], \"scattercarpet\": [{\"marker\": {\"colorbar\": {\"outlinewidth\": 0, \"ticks\": \"\"}}, \"type\": \"scattercarpet\"}], \"scattergeo\": [{\"marker\": {\"colorbar\": {\"outlinewidth\": 0, \"ticks\": \"\"}}, \"type\": \"scattergeo\"}], \"scattergl\": [{\"marker\": {\"colorbar\": {\"outlinewidth\": 0, \"ticks\": \"\"}}, \"type\": \"scattergl\"}], \"scattermapbox\": [{\"marker\": {\"colorbar\": {\"outlinewidth\": 0, \"ticks\": \"\"}}, \"type\": \"scattermapbox\"}], \"scatterpolar\": [{\"marker\": {\"colorbar\": {\"outlinewidth\": 0, \"ticks\": \"\"}}, \"type\": \"scatterpolar\"}], \"scatterpolargl\": [{\"marker\": {\"colorbar\": {\"outlinewidth\": 0, \"ticks\": \"\"}}, \"type\": \"scatterpolargl\"}], \"scatterternary\": [{\"marker\": {\"colorbar\": {\"outlinewidth\": 0, \"ticks\": \"\"}}, \"type\": \"scatterternary\"}], \"surface\": [{\"colorbar\": {\"outlinewidth\": 0, \"ticks\": \"\"}, \"colorscale\": [[0.0, \"#0d0887\"], [0.1111111111111111, \"#46039f\"], [0.2222222222222222, \"#7201a8\"], [0.3333333333333333, \"#9c179e\"], [0.4444444444444444, \"#bd3786\"], [0.5555555555555556, \"#d8576b\"], [0.6666666666666666, \"#ed7953\"], [0.7777777777777778, \"#fb9f3a\"], [0.8888888888888888, \"#fdca26\"], [1.0, \"#f0f921\"]], \"type\": \"surface\"}], \"table\": [{\"cells\": {\"fill\": {\"color\": \"#EBF0F8\"}, \"line\": {\"color\": \"white\"}}, \"header\": {\"fill\": {\"color\": \"#C8D4E3\"}, \"line\": {\"color\": \"white\"}}, \"type\": \"table\"}]}, \"layout\": {\"annotationdefaults\": {\"arrowcolor\": \"#2a3f5f\", \"arrowhead\": 0, \"arrowwidth\": 1}, \"autotypenumbers\": \"strict\", \"coloraxis\": {\"colorbar\": {\"outlinewidth\": 0, \"ticks\": \"\"}}, \"colorscale\": {\"diverging\": [[0, \"#8e0152\"], [0.1, \"#c51b7d\"], [0.2, \"#de77ae\"], [0.3, \"#f1b6da\"], [0.4, \"#fde0ef\"], [0.5, \"#f7f7f7\"], [0.6, \"#e6f5d0\"], [0.7, \"#b8e186\"], [0.8, \"#7fbc41\"], [0.9, \"#4d9221\"], [1, \"#276419\"]], \"sequential\": [[0.0, \"#0d0887\"], [0.1111111111111111, \"#46039f\"], [0.2222222222222222, \"#7201a8\"], [0.3333333333333333, \"#9c179e\"], [0.4444444444444444, \"#bd3786\"], [0.5555555555555556, \"#d8576b\"], [0.6666666666666666, \"#ed7953\"], [0.7777777777777778, \"#fb9f3a\"], [0.8888888888888888, \"#fdca26\"], [1.0, \"#f0f921\"]], \"sequentialminus\": [[0.0, \"#0d0887\"], [0.1111111111111111, \"#46039f\"], [0.2222222222222222, \"#7201a8\"], [0.3333333333333333, \"#9c179e\"], [0.4444444444444444, \"#bd3786\"], [0.5555555555555556, \"#d8576b\"], [0.6666666666666666, \"#ed7953\"], [0.7777777777777778, \"#fb9f3a\"], [0.8888888888888888, \"#fdca26\"], [1.0, \"#f0f921\"]]}, \"colorway\": [\"#636efa\", \"#EF553B\", \"#00cc96\", \"#ab63fa\", \"#FFA15A\", \"#19d3f3\", \"#FF6692\", \"#B6E880\", \"#FF97FF\", \"#FECB52\"], \"font\": {\"color\": \"#2a3f5f\"}, \"geo\": {\"bgcolor\": \"white\", \"lakecolor\": \"white\", \"landcolor\": \"#E5ECF6\", \"showlakes\": true, \"showland\": true, \"subunitcolor\": \"white\"}, \"hoverlabel\": {\"align\": \"left\"}, \"hovermode\": \"closest\", \"mapbox\": {\"style\": \"light\"}, \"paper_bgcolor\": \"white\", \"plot_bgcolor\": \"#E5ECF6\", \"polar\": {\"angularaxis\": {\"gridcolor\": \"white\", \"linecolor\": \"white\", \"ticks\": \"\"}, \"bgcolor\": \"#E5ECF6\", \"radialaxis\": {\"gridcolor\": \"white\", \"linecolor\": \"white\", \"ticks\": \"\"}}, \"scene\": {\"xaxis\": {\"backgroundcolor\": \"#E5ECF6\", \"gridcolor\": \"white\", \"gridwidth\": 2, \"linecolor\": \"white\", \"showbackground\": true, \"ticks\": \"\", \"zerolinecolor\": \"white\"}, \"yaxis\": {\"backgroundcolor\": \"#E5ECF6\", \"gridcolor\": \"white\", \"gridwidth\": 2, \"linecolor\": \"white\", \"showbackground\": true, \"ticks\": \"\", \"zerolinecolor\": \"white\"}, \"zaxis\": {\"backgroundcolor\": \"#E5ECF6\", \"gridcolor\": \"white\", \"gridwidth\": 2, \"linecolor\": \"white\", \"showbackground\": true, \"ticks\": \"\", \"zerolinecolor\": \"white\"}}, \"shapedefaults\": {\"line\": {\"color\": \"#2a3f5f\"}}, \"ternary\": {\"aaxis\": {\"gridcolor\": \"white\", \"linecolor\": \"white\", \"ticks\": \"\"}, \"baxis\": {\"gridcolor\": \"white\", \"linecolor\": \"white\", \"ticks\": \"\"}, \"bgcolor\": \"#E5ECF6\", \"caxis\": {\"gridcolor\": \"white\", \"linecolor\": \"white\", \"ticks\": \"\"}}, \"title\": {\"x\": 0.05}, \"xaxis\": {\"automargin\": true, \"gridcolor\": \"white\", \"linecolor\": \"white\", \"ticks\": \"\", \"title\": {\"standoff\": 15}, \"zerolinecolor\": \"white\", \"zerolinewidth\": 2}, \"yaxis\": {\"automargin\": true, \"gridcolor\": \"white\", \"linecolor\": \"white\", \"ticks\": \"\", \"title\": {\"standoff\": 15}, \"zerolinecolor\": \"white\", \"zerolinewidth\": 2}}}, \"title\": {\"text\": \"Top 40 user sources by number of tweets\"}, \"width\": 800, \"xaxis\": {\"anchor\": \"y\", \"domain\": [0.0, 1.0], \"title\": {\"text\": \"count\"}}, \"yaxis\": {\"anchor\": \"x\", \"domain\": [0.0, 1.0], \"title\": {\"text\": \"source\"}}},                        {\"responsive\": true}                    ).then(function(){\n",
       "                            \n",
       "var gd = document.getElementById('b67093a7-2004-4459-86bd-f5328064cf58');\n",
       "var x = new MutationObserver(function (mutations, observer) {{\n",
       "        var display = window.getComputedStyle(gd).display;\n",
       "        if (!display || display === 'none') {{\n",
       "            console.log([gd, 'removed!']);\n",
       "            Plotly.purge(gd);\n",
       "            observer.disconnect();\n",
       "        }}\n",
       "}});\n",
       "\n",
       "// Listen for the removal of the full notebook cells\n",
       "var notebookContainer = gd.closest('#notebook-container');\n",
       "if (notebookContainer) {{\n",
       "    x.observe(notebookContainer, {childList: true});\n",
       "}}\n",
       "\n",
       "// Listen for the clearing of the current output cell\n",
       "var outputEl = gd.closest('.output');\n",
       "if (outputEl) {{\n",
       "    x.observe(outputEl, {childList: true});\n",
       "}}\n",
       "\n",
       "                        })                };                });            </script>        </div>"
      ]
     },
     "metadata": {},
     "output_type": "display_data"
=======
   "execution_count": 14,
   "metadata": {},
   "outputs": [
    {
     "ename": "NameError",
     "evalue": "name 'px' is not defined",
     "output_type": "error",
     "traceback": [
      "\u001b[1;31m---------------------------------------------------------------------------\u001b[0m",
      "\u001b[1;31mNameError\u001b[0m                                 Traceback (most recent call last)",
      "\u001b[1;32m<ipython-input-14-9a1bc5f0f8a6>\u001b[0m in \u001b[0;36m<module>\u001b[1;34m\u001b[0m\n\u001b[0;32m      4\u001b[0m \u001b[0mds\u001b[0m \u001b[1;33m=\u001b[0m \u001b[0mds\u001b[0m\u001b[1;33m.\u001b[0m\u001b[0msort_values\u001b[0m\u001b[1;33m(\u001b[0m\u001b[1;33m[\u001b[0m\u001b[1;34m'count'\u001b[0m\u001b[1;33m]\u001b[0m\u001b[1;33m)\u001b[0m\u001b[1;33m\u001b[0m\u001b[1;33m\u001b[0m\u001b[0m\n\u001b[0;32m      5\u001b[0m \u001b[1;33m\u001b[0m\u001b[0m\n\u001b[1;32m----> 6\u001b[1;33m fig = px.bar(\n\u001b[0m\u001b[0;32m      7\u001b[0m     \u001b[0mds\u001b[0m\u001b[1;33m.\u001b[0m\u001b[0mtail\u001b[0m\u001b[1;33m(\u001b[0m\u001b[1;36m40\u001b[0m\u001b[1;33m)\u001b[0m\u001b[1;33m,\u001b[0m\u001b[1;33m\u001b[0m\u001b[1;33m\u001b[0m\u001b[0m\n\u001b[0;32m      8\u001b[0m     \u001b[0mx\u001b[0m\u001b[1;33m=\u001b[0m\u001b[1;34m\"count\"\u001b[0m\u001b[1;33m,\u001b[0m\u001b[1;33m\u001b[0m\u001b[1;33m\u001b[0m\u001b[0m\n",
      "\u001b[1;31mNameError\u001b[0m: name 'px' is not defined"
     ]
>>>>>>> Stashed changes
    }
   ],
   "source": [
    "ds = df['source'].value_counts().reset_index()\n",
    "ds.columns = ['source', 'count']\n",
    "ds = ds.sort_values(['count'])\n",
    "\n",
    "fig = px.bar(\n",
    "    ds.tail(40), \n",
    "    x=\"count\", \n",
    "    y=\"source\", \n",
    "    orientation='h', \n",
    "    title='Top 40 user sources by number of tweets', \n",
    "    width=800, \n",
    "    height=800\n",
    ")\n",
    "\n",
    "fig.show()"
   ]
  },
  {
   "cell_type": "code",
   "execution_count": 34,
   "metadata": {},
   "outputs": [
    {
     "data": {
      "text/html": [
       "<div>\n",
       "<style scoped>\n",
       "    .dataframe tbody tr th:only-of-type {\n",
       "        vertical-align: middle;\n",
       "    }\n",
       "\n",
       "    .dataframe tbody tr th {\n",
       "        vertical-align: top;\n",
       "    }\n",
       "\n",
       "    .dataframe thead th {\n",
       "        text-align: right;\n",
       "    }\n",
       "</style>\n",
       "<table border=\"1\" class=\"dataframe\">\n",
       "  <thead>\n",
       "    <tr style=\"text-align: right;\">\n",
       "      <th></th>\n",
       "      <th>user_name</th>\n",
       "      <th>user_location</th>\n",
       "      <th>user_description</th>\n",
       "      <th>user_created</th>\n",
       "      <th>user_followers</th>\n",
       "      <th>user_friends</th>\n",
       "      <th>user_favourites</th>\n",
       "      <th>user_verified</th>\n",
       "      <th>date</th>\n",
       "      <th>text</th>\n",
       "      <th>hashtags</th>\n",
       "      <th>source</th>\n",
       "      <th>is_retweet</th>\n",
       "    </tr>\n",
       "  </thead>\n",
       "  <tbody>\n",
       "    <tr>\n",
       "      <th>66936</th>\n",
       "      <td>Matthew Hocter</td>\n",
       "      <td>Australia</td>\n",
       "      <td>Writer.</td>\n",
       "      <td>2020-06-01 12:58:50</td>\n",
       "      <td>11</td>\n",
       "      <td>75</td>\n",
       "      <td>370</td>\n",
       "      <td>False</td>\n",
       "      <td>2020-08-04 07:57:03</td>\n",
       "      <td>Hearing of friends in Brazil losing family to ...</td>\n",
       "      <td>['COVID19']</td>\n",
       "      <td>Twitter Web App</td>\n",
       "      <td>False</td>\n",
       "    </tr>\n",
       "    <tr>\n",
       "      <th>66937</th>\n",
       "      <td>WEF Energy</td>\n",
       "      <td>Geneva</td>\n",
       "      <td>Tweets from the World Economic Forum on energy...</td>\n",
       "      <td>2012-11-07 17:08:47</td>\n",
       "      <td>2575</td>\n",
       "      <td>839</td>\n",
       "      <td>1370</td>\n",
       "      <td>False</td>\n",
       "      <td>2020-08-04 07:57:01</td>\n",
       "      <td>This powerful tool can help drive Europe's gre...</td>\n",
       "      <td>NaN</td>\n",
       "      <td>Buffer</td>\n",
       "      <td>False</td>\n",
       "    </tr>\n",
       "    <tr>\n",
       "      <th>66938</th>\n",
       "      <td>Carles Dijous (AAlb)</td>\n",
       "      <td>Barcelona, Spain</td>\n",
       "      <td>Colaborador docente UOC (Universitat Oberta de...</td>\n",
       "      <td>2008-12-28 11:08:16</td>\n",
       "      <td>8968</td>\n",
       "      <td>5534</td>\n",
       "      <td>701</td>\n",
       "      <td>False</td>\n",
       "      <td>2020-08-04 07:57:00</td>\n",
       "      <td>Science Round-Up • #Coronavirus experts: #Seco...</td>\n",
       "      <td>['Coronavirus', 'SecondWave', 'Covid19']</td>\n",
       "      <td>TweetDeck</td>\n",
       "      <td>False</td>\n",
       "    </tr>\n",
       "    <tr>\n",
       "      <th>66939</th>\n",
       "      <td>Rajprasong_News</td>\n",
       "      <td>Bangkok, Thailand</td>\n",
       "      <td>Aka Sean Boonpracong: Pol analyst, fmr Thai Tr...</td>\n",
       "      <td>2010-01-22 15:23:08</td>\n",
       "      <td>12546</td>\n",
       "      <td>966</td>\n",
       "      <td>8591</td>\n",
       "      <td>False</td>\n",
       "      <td>2020-08-04 07:56:55</td>\n",
       "      <td>#Vietnam #Covid19 spreads to 10 different plac...</td>\n",
       "      <td>['Vietnam', 'Covid19', 'Hanoi', 'HoChiMinhCity']</td>\n",
       "      <td>Twitter for iPhone</td>\n",
       "      <td>False</td>\n",
       "    </tr>\n",
       "    <tr>\n",
       "      <th>66941</th>\n",
       "      <td>Viral_Jharsuguda</td>\n",
       "      <td>Jharsuguda, India</td>\n",
       "      <td>The one you trust</td>\n",
       "      <td>2020-04-27 12:23:16</td>\n",
       "      <td>688</td>\n",
       "      <td>13</td>\n",
       "      <td>358</td>\n",
       "      <td>False</td>\n",
       "      <td>2020-08-04 07:56:52</td>\n",
       "      <td>#JHARSUGUDA DISTRICT REPORTS 3 NEW #COVID19 PO...</td>\n",
       "      <td>['JHARSUGUDA', 'COVID19']</td>\n",
       "      <td>Twitter for Android</td>\n",
       "      <td>False</td>\n",
       "    </tr>\n",
       "  </tbody>\n",
       "</table>\n",
       "</div>"
      ],
      "text/plain": [
       "                  user_name      user_location  \\\n",
       "66936        Matthew Hocter          Australia   \n",
       "66937            WEF Energy             Geneva   \n",
       "66938  Carles Dijous (AAlb)   Barcelona, Spain   \n",
       "66939       Rajprasong_News  Bangkok, Thailand   \n",
       "66941      Viral_Jharsuguda  Jharsuguda, India   \n",
       "\n",
       "                                        user_description         user_created  \\\n",
       "66936                                            Writer.  2020-06-01 12:58:50   \n",
       "66937  Tweets from the World Economic Forum on energy...  2012-11-07 17:08:47   \n",
       "66938  Colaborador docente UOC (Universitat Oberta de...  2008-12-28 11:08:16   \n",
       "66939  Aka Sean Boonpracong: Pol analyst, fmr Thai Tr...  2010-01-22 15:23:08   \n",
       "66941                                  The one you trust  2020-04-27 12:23:16   \n",
       "\n",
       "       user_followers  user_friends  user_favourites  user_verified  \\\n",
       "66936              11            75              370          False   \n",
       "66937            2575           839             1370          False   \n",
       "66938            8968          5534              701          False   \n",
       "66939           12546           966             8591          False   \n",
       "66941             688            13              358          False   \n",
       "\n",
       "                      date                                               text  \\\n",
       "66936  2020-08-04 07:57:03  Hearing of friends in Brazil losing family to ...   \n",
       "66937  2020-08-04 07:57:01  This powerful tool can help drive Europe's gre...   \n",
       "66938  2020-08-04 07:57:00  Science Round-Up • #Coronavirus experts: #Seco...   \n",
       "66939  2020-08-04 07:56:55  #Vietnam #Covid19 spreads to 10 different plac...   \n",
       "66941  2020-08-04 07:56:52  #JHARSUGUDA DISTRICT REPORTS 3 NEW #COVID19 PO...   \n",
       "\n",
       "                                               hashtags               source  \\\n",
       "66936                                       ['COVID19']      Twitter Web App   \n",
       "66937                                               NaN               Buffer   \n",
       "66938          ['Coronavirus', 'SecondWave', 'Covid19']            TweetDeck   \n",
       "66939  ['Vietnam', 'Covid19', 'Hanoi', 'HoChiMinhCity']   Twitter for iPhone   \n",
       "66941                         ['JHARSUGUDA', 'COVID19']  Twitter for Android   \n",
       "\n",
       "       is_retweet  \n",
       "66936       False  \n",
       "66937       False  \n",
       "66938       False  \n",
       "66939       False  \n",
       "66941       False  "
      ]
     },
     "execution_count": 34,
     "metadata": {},
     "output_type": "execute_result"
    }
   ],
   "source": [
    "dataSorted = df.sort_values(by = \"date\", ascending = False)\n",
    "dataSorted.head()"
   ]
  },
  {
   "cell_type": "code",
   "execution_count": 20,
   "metadata": {},
   "outputs": [
    {
     "data": {
      "text/html": [
       "<div>\n",
       "<style scoped>\n",
       "    .dataframe tbody tr th:only-of-type {\n",
       "        vertical-align: middle;\n",
       "    }\n",
       "\n",
       "    .dataframe tbody tr th {\n",
       "        vertical-align: top;\n",
       "    }\n",
       "\n",
       "    .dataframe thead th {\n",
       "        text-align: right;\n",
       "    }\n",
       "</style>\n",
       "<table border=\"1\" class=\"dataframe\">\n",
       "  <thead>\n",
       "    <tr style=\"text-align: right;\">\n",
       "      <th></th>\n",
       "      <th>user_name</th>\n",
       "      <th>user_location</th>\n",
       "      <th>user_description</th>\n",
       "      <th>user_created</th>\n",
       "      <th>user_followers</th>\n",
       "      <th>user_friends</th>\n",
       "      <th>user_favourites</th>\n",
       "      <th>user_verified</th>\n",
       "      <th>date</th>\n",
       "      <th>text</th>\n",
       "      <th>hashtags</th>\n",
       "      <th>source</th>\n",
       "      <th>is_retweet</th>\n",
       "    </tr>\n",
       "  </thead>\n",
       "  <tbody>\n",
       "    <tr>\n",
       "      <th>66936</th>\n",
       "      <td>Matthew Hocter</td>\n",
       "      <td>Australia</td>\n",
       "      <td>Writer.</td>\n",
       "      <td>2020-06-01 12:58:50</td>\n",
       "      <td>11</td>\n",
       "      <td>75</td>\n",
       "      <td>370</td>\n",
       "      <td>False</td>\n",
       "      <td>2020-08-04 07:57:03</td>\n",
       "      <td>Hearing of friends in Brazil losing family to ...</td>\n",
       "      <td>['COVID19']</td>\n",
       "      <td>Twitter Web App</td>\n",
       "      <td>False</td>\n",
       "    </tr>\n",
       "    <tr>\n",
       "      <th>66937</th>\n",
       "      <td>WEF Energy</td>\n",
       "      <td>Geneva</td>\n",
       "      <td>Tweets from the World Economic Forum on energy...</td>\n",
       "      <td>2012-11-07 17:08:47</td>\n",
       "      <td>2575</td>\n",
       "      <td>839</td>\n",
       "      <td>1370</td>\n",
       "      <td>False</td>\n",
       "      <td>2020-08-04 07:57:01</td>\n",
       "      <td>This powerful tool can help drive Europe's gre...</td>\n",
       "      <td>NaN</td>\n",
       "      <td>Buffer</td>\n",
       "      <td>False</td>\n",
       "    </tr>\n",
       "    <tr>\n",
       "      <th>66938</th>\n",
       "      <td>Carles Dijous (AAlb)</td>\n",
       "      <td>Barcelona, Spain</td>\n",
       "      <td>Colaborador docente UOC (Universitat Oberta de...</td>\n",
       "      <td>2008-12-28 11:08:16</td>\n",
       "      <td>8968</td>\n",
       "      <td>5534</td>\n",
       "      <td>701</td>\n",
       "      <td>False</td>\n",
       "      <td>2020-08-04 07:57:00</td>\n",
       "      <td>Science Round-Up • #Coronavirus experts: #Seco...</td>\n",
       "      <td>['Coronavirus', 'SecondWave', 'Covid19']</td>\n",
       "      <td>TweetDeck</td>\n",
       "      <td>False</td>\n",
       "    </tr>\n",
       "    <tr>\n",
       "      <th>66939</th>\n",
       "      <td>Rajprasong_News</td>\n",
       "      <td>Bangkok, Thailand</td>\n",
       "      <td>Aka Sean Boonpracong: Pol analyst, fmr Thai Tr...</td>\n",
       "      <td>2010-01-22 15:23:08</td>\n",
       "      <td>12546</td>\n",
       "      <td>966</td>\n",
       "      <td>8591</td>\n",
       "      <td>False</td>\n",
       "      <td>2020-08-04 07:56:55</td>\n",
       "      <td>#Vietnam #Covid19 spreads to 10 different plac...</td>\n",
       "      <td>['Vietnam', 'Covid19', 'Hanoi', 'HoChiMinhCity']</td>\n",
       "      <td>Twitter for iPhone</td>\n",
       "      <td>False</td>\n",
       "    </tr>\n",
       "    <tr>\n",
       "      <th>66941</th>\n",
       "      <td>Viral_Jharsuguda</td>\n",
       "      <td>Jharsuguda, India</td>\n",
       "      <td>The one you trust</td>\n",
       "      <td>2020-04-27 12:23:16</td>\n",
       "      <td>688</td>\n",
       "      <td>13</td>\n",
       "      <td>358</td>\n",
       "      <td>False</td>\n",
       "      <td>2020-08-04 07:56:52</td>\n",
       "      <td>#JHARSUGUDA DISTRICT REPORTS 3 NEW #COVID19 PO...</td>\n",
       "      <td>['JHARSUGUDA', 'COVID19']</td>\n",
       "      <td>Twitter for Android</td>\n",
       "      <td>False</td>\n",
       "    </tr>\n",
       "  </tbody>\n",
       "</table>\n",
       "</div>"
      ],
      "text/plain": [
       "                  user_name      user_location  \\\n",
       "66936        Matthew Hocter          Australia   \n",
       "66937            WEF Energy             Geneva   \n",
       "66938  Carles Dijous (AAlb)   Barcelona, Spain   \n",
       "66939       Rajprasong_News  Bangkok, Thailand   \n",
       "66941      Viral_Jharsuguda  Jharsuguda, India   \n",
       "\n",
       "                                        user_description         user_created  \\\n",
       "66936                                            Writer.  2020-06-01 12:58:50   \n",
       "66937  Tweets from the World Economic Forum on energy...  2012-11-07 17:08:47   \n",
       "66938  Colaborador docente UOC (Universitat Oberta de...  2008-12-28 11:08:16   \n",
       "66939  Aka Sean Boonpracong: Pol analyst, fmr Thai Tr...  2010-01-22 15:23:08   \n",
       "66941                                  The one you trust  2020-04-27 12:23:16   \n",
       "\n",
       "       user_followers  user_friends  user_favourites  user_verified  \\\n",
       "66936              11            75              370          False   \n",
       "66937            2575           839             1370          False   \n",
       "66938            8968          5534              701          False   \n",
       "66939           12546           966             8591          False   \n",
       "66941             688            13              358          False   \n",
       "\n",
       "                      date                                               text  \\\n",
       "66936  2020-08-04 07:57:03  Hearing of friends in Brazil losing family to ...   \n",
       "66937  2020-08-04 07:57:01  This powerful tool can help drive Europe's gre...   \n",
       "66938  2020-08-04 07:57:00  Science Round-Up • #Coronavirus experts: #Seco...   \n",
       "66939  2020-08-04 07:56:55  #Vietnam #Covid19 spreads to 10 different plac...   \n",
       "66941  2020-08-04 07:56:52  #JHARSUGUDA DISTRICT REPORTS 3 NEW #COVID19 PO...   \n",
       "\n",
       "                                               hashtags               source  \\\n",
       "66936                                       ['COVID19']      Twitter Web App   \n",
       "66937                                               NaN               Buffer   \n",
       "66938          ['Coronavirus', 'SecondWave', 'Covid19']            TweetDeck   \n",
       "66939  ['Vietnam', 'Covid19', 'Hanoi', 'HoChiMinhCity']   Twitter for iPhone   \n",
       "66941                         ['JHARSUGUDA', 'COVID19']  Twitter for Android   \n",
       "\n",
       "       is_retweet  \n",
       "66936       False  \n",
       "66937       False  \n",
       "66938       False  \n",
       "66939       False  \n",
       "66941       False  "
      ]
     },
     "execution_count": 20,
     "metadata": {},
     "output_type": "execute_result"
    }
   ],
   "source": [
    "dataSorted = df.sort_values(by = \"date\", ascending = False)\n",
    "dataSorted.head()"
   ]
  },
  {
   "cell_type": "code",
   "execution_count": null,
   "metadata": {},
   "outputs": [],
   "source": [
    "#04 Agosto"
   ]
  }
 ],
 "metadata": {
  "kernelspec": {
   "display_name": "Python 3",
   "language": "python",
   "name": "python3"
  },
  "language_info": {
   "codemirror_mode": {
    "name": "ipython",
    "version": 3
   },
   "file_extension": ".py",
   "mimetype": "text/x-python",
   "name": "python",
   "nbconvert_exporter": "python",
   "pygments_lexer": "ipython3",
   "version": "3.8.5"
  }
 },
 "nbformat": 4,
 "nbformat_minor": 4
}
